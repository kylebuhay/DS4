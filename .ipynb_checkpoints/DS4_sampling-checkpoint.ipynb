{
 "cells": [
  {
   "cell_type": "markdown",
   "id": "6bd4620f-984f-4e21-8e09-aabdf5df447a",
   "metadata": {},
   "source": [
    "# Sampling CASIA v2.0 Dataset"
   ]
  },
  {
   "cell_type": "code",
   "execution_count": 1,
   "id": "1e326164-4e56-41ee-b60d-ed7a28a2d7dd",
   "metadata": {},
   "outputs": [],
   "source": [
    "# Proportionate Stratified Random Sampling"
   ]
  },
  {
   "cell_type": "markdown",
   "id": "afea7c98-f665-4a0d-ba00-e3464b63e4b1",
   "metadata": {},
   "source": [
    "## 1. Import Libraries"
   ]
  },
  {
   "cell_type": "code",
   "execution_count": 3,
   "id": "21435752-09ed-4c38-a4b6-0734af804ec0",
   "metadata": {},
   "outputs": [],
   "source": [
    "import os\n",
    "import shutil\n",
    "import random\n",
    "import re\n",
    "from tqdm import tqdm\n",
    "import pandas as pd"
   ]
  },
  {
   "cell_type": "markdown",
   "id": "c343f159-0913-4e77-a315-2c753858cfcc",
   "metadata": {
    "jp-MarkdownHeadingCollapsed": true
   },
   "source": [
    "## 2. Au: Sampling"
   ]
  },
  {
   "cell_type": "markdown",
   "id": "6a59f2f1-afa1-4dd5-9264-00b7adffa873",
   "metadata": {},
   "source": [
    "### Setting Paths & .txt File"
   ]
  },
  {
   "cell_type": "code",
   "execution_count": 4,
   "id": "34016e70-34fd-4dfa-b18b-d7e017bcc936",
   "metadata": {},
   "outputs": [],
   "source": [
    "# Paths\n",
    "au_src_dir = r'C:\\Users\\User\\Downloads\\casia_sh\\Au'\n",
    "au_output_dir = r'C:\\Users\\User\\Documents\\DS4\\25-ds-casia\\Au'\n",
    "txt_dir = r'C:\\Users\\User\\Documents\\DS4\\25-ds-casia'\n",
    "au_txt_dir_fp = os.path.join(txt_dir, 'au_list.txt')"
   ]
  },
  {
   "cell_type": "code",
   "execution_count": 5,
   "id": "a6b68656-b359-471d-b153-2cc40d0fcc36",
   "metadata": {},
   "outputs": [],
   "source": [
    "os.makedirs(au_output_dir, exist_ok=True)"
   ]
  },
  {
   "cell_type": "markdown",
   "id": "3b0f41ad-6430-4d82-9fc6-193508138eaf",
   "metadata": {},
   "source": [
    "### Dictionary of Categories & Counts"
   ]
  },
  {
   "cell_type": "code",
   "execution_count": 6,
   "id": "023daef6-8f3c-4dfe-ac68-d24482cdc7bc",
   "metadata": {},
   "outputs": [],
   "source": [
    "# Dictionary of categories and number of images to sample from each\n",
    "au_cc_dict = {\n",
    "    'pla': 244,\n",
    "    'art': 228,\n",
    "    'nat': 252,  \n",
    "    'arc': 269,\n",
    "    'ani': 274,\n",
    "    'ind': 87,\n",
    "    'cha': 245,\n",
    "    'sec': 238,\n",
    "    'txt': 37\n",
    "}"
   ]
  },
  {
   "cell_type": "markdown",
   "id": "f1a85759-cd6f-4e79-89cf-585eb916bd64",
   "metadata": {},
   "source": [
    "### Storing Filenames of Copied Images"
   ]
  },
  {
   "cell_type": "code",
   "execution_count": 7,
   "id": "4f02176e-5777-4558-8db3-869f21d335fe",
   "metadata": {},
   "outputs": [],
   "source": [
    "# List to store the filenames of copied images\n",
    "au_list = []"
   ]
  },
  {
   "cell_type": "markdown",
   "id": "6f8720f8-32cb-40bc-8e84-17c0204ff9e3",
   "metadata": {},
   "source": [
    "### Sampling Function: Au"
   ]
  },
  {
   "cell_type": "code",
   "execution_count": 8,
   "id": "6b2ee310-d8e6-4da9-a034-88c67ec82779",
   "metadata": {},
   "outputs": [],
   "source": [
    "def casia25_au_sample(src_dir, output_dir, categories):\n",
    "    for category, sample_size in categories.items():\n",
    "        # List all files in the source directory\n",
    "        all_files = os.listdir(src_dir)\n",
    "\n",
    "        # Filter files to include only those from the current category and with the desired extensions\n",
    "        category_files = [f for f in all_files if f.startswith(f'Au_{category}_') and (f.endswith('.jpg') or f.endswith('.tif'))]\n",
    "\n",
    "        # Check if there are enough files to sample\n",
    "        if len(category_files) < sample_size:\n",
    "            print(f\"Not enough files in category '{category}' to sample {sample_size} images. Available: {len(category_files)}.\")\n",
    "            continue\n",
    "\n",
    "        # Sample the specified number of files from the current category\n",
    "        sampled_files = random.sample(category_files, sample_size)\n",
    "\n",
    "        # Copy the sampled files to the output directory\n",
    "        for file_name in sampled_files:\n",
    "            src_path = os.path.join(src_dir, file_name)\n",
    "            dest_path = os.path.join(output_dir, file_name)\n",
    "            shutil.copy(src_path, dest_path)\n",
    "            au_list.append(file_name)\n",
    "\n",
    "        print(f\"Sampled and copied {sample_size} '{category}' images to {output_dir}\")\n",
    "\n",
    "    return au_list"
   ]
  },
  {
   "cell_type": "markdown",
   "id": "15d3e251-0699-491a-ab96-2d2146badf9d",
   "metadata": {},
   "source": [
    "### Calling Sampling Function: Au"
   ]
  },
  {
   "cell_type": "code",
   "execution_count": 9,
   "id": "800968e0-d3d4-4f25-b76e-51fe18191e2c",
   "metadata": {},
   "outputs": [
    {
     "name": "stdout",
     "output_type": "stream",
     "text": [
      "Sampled and copied 244 'pla' images to C:\\Users\\User\\Documents\\DS4\\25-ds-casia\\Au\n",
      "Sampled and copied 228 'art' images to C:\\Users\\User\\Documents\\DS4\\25-ds-casia\\Au\n",
      "Sampled and copied 252 'nat' images to C:\\Users\\User\\Documents\\DS4\\25-ds-casia\\Au\n",
      "Sampled and copied 269 'arc' images to C:\\Users\\User\\Documents\\DS4\\25-ds-casia\\Au\n",
      "Sampled and copied 274 'ani' images to C:\\Users\\User\\Documents\\DS4\\25-ds-casia\\Au\n",
      "Sampled and copied 87 'ind' images to C:\\Users\\User\\Documents\\DS4\\25-ds-casia\\Au\n",
      "Sampled and copied 245 'cha' images to C:\\Users\\User\\Documents\\DS4\\25-ds-casia\\Au\n",
      "Sampled and copied 238 'sec' images to C:\\Users\\User\\Documents\\DS4\\25-ds-casia\\Au\n",
      "Sampled and copied 37 'txt' images to C:\\Users\\User\\Documents\\DS4\\25-ds-casia\\Au\n"
     ]
    }
   ],
   "source": [
    "# Run the sampling and copying process\n",
    "au_list = casia25_au_sample(au_src_dir, au_output_dir, au_cc_dict)"
   ]
  },
  {
   "cell_type": "markdown",
   "id": "2b466f1c-0d74-432a-98f3-8ef93b224a6c",
   "metadata": {},
   "source": [
    "### Creating .txt File: Au"
   ]
  },
  {
   "cell_type": "code",
   "execution_count": 10,
   "id": "1491c7f5-421a-4605-b099-7dca1c768a12",
   "metadata": {},
   "outputs": [
    {
     "name": "stdout",
     "output_type": "stream",
     "text": [
      "All sampling and copying completed.\n",
      "Filenames of copied images are listed in C:\\Users\\User\\Documents\\DS4\\25-ds-casia\\au_list.txt\n"
     ]
    }
   ],
   "source": [
    "# Write the list of copied filenames to a text file\n",
    "with open(au_txt_dir_fp, 'w') as f:\n",
    "    for filename in au_list:\n",
    "        f.write(f\"{filename}\\n\")\n",
    "\n",
    "print(f\"All sampling and copying completed.\\nFilenames of copied images are listed in {au_txt_dir_fp}\")"
   ]
  },
  {
   "cell_type": "markdown",
   "id": "97039b2f-7ccb-4e3e-82ce-749009649624",
   "metadata": {
    "jp-MarkdownHeadingCollapsed": true
   },
   "source": [
    "## 2. Tp: Sampling (Tp_S)"
   ]
  },
  {
   "cell_type": "markdown",
   "id": "55ac77ee-ceab-44db-84e6-34cb7aea53de",
   "metadata": {},
   "source": [
    "### Setting Paths & .txt File"
   ]
  },
  {
   "cell_type": "code",
   "execution_count": 11,
   "id": "8e2d4c41-41ef-4b5c-886e-8d370c52b416",
   "metadata": {},
   "outputs": [],
   "source": [
    "# Paths\n",
    "tp_src_dir = r'C:\\Users\\User\\Downloads\\casia_sh\\Tp'\n",
    "tp_output_dir = r'C:\\Users\\User\\Documents\\DS4\\25-ds-casia\\Tp'\n",
    "txt_dir = r'C:\\Users\\User\\Documents\\DS4\\25-ds-casia'\n",
    "tp_tps_txt_dir_fp = os.path.join(txt_dir, 'tp_tps_list.txt')"
   ]
  },
  {
   "cell_type": "code",
   "execution_count": 12,
   "id": "da77fb79-41f4-4fd7-8f86-54192f4f7c38",
   "metadata": {},
   "outputs": [],
   "source": [
    "os.makedirs(tp_output_dir, exist_ok=True)"
   ]
  },
  {
   "cell_type": "markdown",
   "id": "c24c580b-178c-48b4-bc5e-4ec36ac15a32",
   "metadata": {},
   "source": [
    "### Dictionary of Categories & Counts"
   ]
  },
  {
   "cell_type": "code",
   "execution_count": 13,
   "id": "39a67efa-1465-4fb4-b7f1-27d8bd277fa5",
   "metadata": {},
   "outputs": [],
   "source": [
    "# For Tp_S\n",
    "tp_tps_cc_dict = {\n",
    "    'pla': 103,\n",
    "    'art': 109,\n",
    "    'nat': 97,  \n",
    "    'arc': 109,\n",
    "    'ani': 77,\n",
    "    'ind': 103,\n",
    "    'cha': 96,\n",
    "    'sec': 95,\n",
    "    'txt': 34\n",
    "}"
   ]
  },
  {
   "cell_type": "markdown",
   "id": "f75fb448-3255-4883-ae4e-74a8e149af7f",
   "metadata": {},
   "source": [
    "### Storing Filenames of Copied Images"
   ]
  },
  {
   "cell_type": "code",
   "execution_count": 14,
   "id": "f6b97f12-1c04-41fc-85c6-59db19b01b04",
   "metadata": {},
   "outputs": [],
   "source": [
    "tp_tps_list = []"
   ]
  },
  {
   "cell_type": "markdown",
   "id": "fd43efff-5a0c-425f-ac19-380f6c368eea",
   "metadata": {},
   "source": [
    "### Sampling Function: Tp (Tp_S)"
   ]
  },
  {
   "cell_type": "code",
   "execution_count": 15,
   "id": "9e274ecb-08ca-4ed9-be5f-968c3ea88c47",
   "metadata": {},
   "outputs": [],
   "source": [
    "def casia25_tp_tps_sample(tp_tps_src_dir, tp_tps_output_dir, tp_tps_categories):\n",
    "    for category, sample_size in tp_tps_categories.items():\n",
    "        # List all files in the source directory\n",
    "        all_files = os.listdir(tp_tps_src_dir)\n",
    "\n",
    "        # Debug: Print all files for verification\n",
    "        print(f\"Processing category '{category}'\")\n",
    "\n",
    "        # Define a regex pattern to match the category in the filenames\n",
    "        pattern = re.compile(rf'Tp_S_.*_{category}\\d{{5}}_{category}\\d{{5}}_.*\\.(jpg|tif)')\n",
    "\n",
    "        # Filter files to include only those that match the category pattern\n",
    "        category_files = [f for f in all_files if pattern.match(f)]\n",
    "\n",
    "        # Debug: Print the number of files found for this category\n",
    "        print(f\"Found {len(category_files)} files.\")\n",
    "\n",
    "        # Check if there are enough files to sample\n",
    "        if len(category_files) < sample_size:\n",
    "            print(f\"Not enough files in category '{category}' to sample {sample_size} images. Available: {len(category_files)}.\")\n",
    "            continue\n",
    "\n",
    "        # Sample the specified number of files from the current category\n",
    "        sampled_files = random.sample(category_files, sample_size)\n",
    "\n",
    "        # Copy the sampled files to the output directory\n",
    "        for file_name in sampled_files:\n",
    "            src_path = os.path.join(tp_tps_src_dir, file_name)\n",
    "            dest_path = os.path.join(tp_tps_output_dir, file_name)\n",
    "            shutil.copy(src_path, dest_path)\n",
    "            tp_tps_list.append(file_name)\n",
    "\n",
    "        print(f\"Sampled and copied {sample_size} '{category}' images to {tp_tps_output_dir}\\n\")\n",
    "\n",
    "    return tp_tps_list"
   ]
  },
  {
   "cell_type": "markdown",
   "id": "04dd628d-5f9a-45e5-b84e-652c9737bfea",
   "metadata": {},
   "source": [
    "### Calling Sampling Function: Tp (Tp_S)"
   ]
  },
  {
   "cell_type": "code",
   "execution_count": 16,
   "id": "86197423-924f-4fff-a739-20bff33f0d6a",
   "metadata": {},
   "outputs": [
    {
     "name": "stdout",
     "output_type": "stream",
     "text": [
      "Processing category 'pla'\n",
      "Found 413 files.\n",
      "Sampled and copied 103 'pla' images to C:\\Users\\User\\Documents\\DS4\\25-ds-casia\\Tp\n",
      "\n",
      "Processing category 'art'\n",
      "Found 437 files.\n",
      "Sampled and copied 109 'art' images to C:\\Users\\User\\Documents\\DS4\\25-ds-casia\\Tp\n",
      "\n",
      "Processing category 'nat'\n",
      "Found 388 files.\n",
      "Sampled and copied 97 'nat' images to C:\\Users\\User\\Documents\\DS4\\25-ds-casia\\Tp\n",
      "\n",
      "Processing category 'arc'\n",
      "Found 437 files.\n",
      "Sampled and copied 109 'arc' images to C:\\Users\\User\\Documents\\DS4\\25-ds-casia\\Tp\n",
      "\n",
      "Processing category 'ani'\n",
      "Found 309 files.\n",
      "Sampled and copied 77 'ani' images to C:\\Users\\User\\Documents\\DS4\\25-ds-casia\\Tp\n",
      "\n",
      "Processing category 'ind'\n",
      "Found 412 files.\n",
      "Sampled and copied 103 'ind' images to C:\\Users\\User\\Documents\\DS4\\25-ds-casia\\Tp\n",
      "\n",
      "Processing category 'cha'\n",
      "Found 383 files.\n",
      "Sampled and copied 96 'cha' images to C:\\Users\\User\\Documents\\DS4\\25-ds-casia\\Tp\n",
      "\n",
      "Processing category 'sec'\n",
      "Found 381 files.\n",
      "Sampled and copied 95 'sec' images to C:\\Users\\User\\Documents\\DS4\\25-ds-casia\\Tp\n",
      "\n",
      "Processing category 'txt'\n",
      "Found 135 files.\n",
      "Sampled and copied 34 'txt' images to C:\\Users\\User\\Documents\\DS4\\25-ds-casia\\Tp\n",
      "\n"
     ]
    }
   ],
   "source": [
    "# Run the sampling and copying process for Tp_S images\n",
    "tp_tps_list = casia25_tp_tps_sample(tp_src_dir, tp_output_dir, tp_tps_cc_dict)"
   ]
  },
  {
   "cell_type": "markdown",
   "id": "5f3e4825-ab01-4f3f-941e-d7f276f6bc35",
   "metadata": {},
   "source": [
    "### Creating .txt File: Tp (Tp_S)"
   ]
  },
  {
   "cell_type": "code",
   "execution_count": 17,
   "id": "6e8783ad-99ae-4354-8e2d-4b246d48ac87",
   "metadata": {},
   "outputs": [
    {
     "name": "stdout",
     "output_type": "stream",
     "text": [
      "All sampling and copying completed.\n",
      "Filenames of copied images are listed in C:\\Users\\User\\Documents\\DS4\\25-ds-casia\\tp_tps_list.txt\n"
     ]
    }
   ],
   "source": [
    "# Write the list of copied filenames to a text file\n",
    "with open(tp_tps_txt_dir_fp, 'w') as f:\n",
    "    for filename in tp_tps_list:\n",
    "        f.write(f\"{filename}\\n\")\n",
    "\n",
    "print(f\"All sampling and copying completed.\\nFilenames of copied images are listed in {tp_tps_txt_dir_fp}\")"
   ]
  },
  {
   "cell_type": "markdown",
   "id": "d2f4ab1d-7509-42dd-ade6-c8be453ae523",
   "metadata": {},
   "source": [
    "## 3. Tp: Sampling (Tp_D)"
   ]
  },
  {
   "cell_type": "markdown",
   "id": "cfc8da8d-040c-4331-80a3-5c1dac9fed6d",
   "metadata": {
    "jp-MarkdownHeadingCollapsed": true
   },
   "source": [
    "### Setting .txt file"
   ]
  },
  {
   "cell_type": "code",
   "execution_count": 25,
   "id": "16e8b1c1-a6a8-4136-bd72-8807cc860415",
   "metadata": {},
   "outputs": [],
   "source": [
    "tp_tpd_txt_dir_fp = os.path.join(txt_dir, 'tp_list.txt')"
   ]
  },
  {
   "cell_type": "code",
   "execution_count": 19,
   "id": "0a915df0-940c-4d0e-a260-aeaa24158d18",
   "metadata": {},
   "outputs": [],
   "source": [
    "os.makedirs(tp_output_dir, exist_ok=True)"
   ]
  },
  {
   "cell_type": "markdown",
   "id": "aebfb952-3a9f-4c22-9bc9-cbe040af2386",
   "metadata": {},
   "source": [
    "### Dictionary of Categories and Counts"
   ]
  },
  {
   "cell_type": "code",
   "execution_count": 20,
   "id": "7685aaba-9d4a-45c6-ae0e-17ce4f73742c",
   "metadata": {},
   "outputs": [],
   "source": [
    "# For Tp_D\n",
    "tp_tpd_cc_dict = {\n",
    "    'pla': 26,\n",
    "    'art': 56,\n",
    "    'nat': 113,  \n",
    "    'arc': 45,\n",
    "    'ani': 53,\n",
    "    'ind': 28,\n",
    "    'cha': 65,\n",
    "    'sec': 55,\n",
    "    'txt': 17\n",
    "}"
   ]
  },
  {
   "cell_type": "markdown",
   "id": "f2736ff1-b9e9-4ea3-bf24-d36fe0a02712",
   "metadata": {},
   "source": [
    "### Storing Filenames of Copied Images"
   ]
  },
  {
   "cell_type": "code",
   "execution_count": 21,
   "id": "57a1bd2a-f785-4616-8198-b31cd4416a8c",
   "metadata": {},
   "outputs": [],
   "source": [
    "tp_tpd_list = []"
   ]
  },
  {
   "cell_type": "markdown",
   "id": "eeecbf9a-ea68-41b2-980d-dd15f6ad2d14",
   "metadata": {
    "jp-MarkdownHeadingCollapsed": true
   },
   "source": [
    "### Sampling Function: Tp (Tp_D)"
   ]
  },
  {
   "cell_type": "code",
   "execution_count": 22,
   "id": "7783a068-da31-4dae-b79b-efedd6112814",
   "metadata": {},
   "outputs": [],
   "source": [
    "def casia25_tp_tpd_sample(tp_tps_src_dir, tp_tps_output_dir, tp_tps_categories):\n",
    "    for category, sample_size in tp_tps_categories.items():\n",
    "        # List all files in the source directory\n",
    "        all_files = os.listdir(tp_tps_src_dir)\n",
    "\n",
    "        # Debug: Print all files for verification\n",
    "        print(f\"Processing category '{category}'\")\n",
    "\n",
    "        # Define a regex pattern to match the category in the filenames\n",
    "        pattern = re.compile(rf'Tp_D_.*_{category}\\d{{5}}_{category}\\d{{5}}_.*\\.(jpg|tif)')\n",
    "\n",
    "        # Filter files to include only those that match the category pattern\n",
    "        category_files = [f for f in all_files if pattern.match(f)]\n",
    "\n",
    "        # Debug: Print the number of files found for this category\n",
    "        print(f\"Found {len(category_files)} files.\")\n",
    "\n",
    "        # Check if there are enough files to sample\n",
    "        if len(category_files) < sample_size:\n",
    "            print(f\"Not enough files in category '{category}' to sample {sample_size} images. Available: {len(category_files)}.\")\n",
    "            continue\n",
    "\n",
    "        # Sample the specified number of files from the current category\n",
    "        sampled_files = random.sample(category_files, sample_size)\n",
    "\n",
    "        # Copy the sampled files to the output directory\n",
    "        for file_name in sampled_files:\n",
    "            src_path = os.path.join(tp_tps_src_dir, file_name)\n",
    "            dest_path = os.path.join(tp_tps_output_dir, file_name)\n",
    "            shutil.copy(src_path, dest_path)\n",
    "            tp_tps_list.append(file_name)\n",
    "\n",
    "        print(f\"Sampled and copied {sample_size} '{category}' images to {tp_tps_output_dir}\\n\")\n",
    "\n",
    "    return tp_tps_list"
   ]
  },
  {
   "cell_type": "markdown",
   "id": "3aba5baa-c0c5-421c-95d3-27cc5ea259d8",
   "metadata": {
    "jp-MarkdownHeadingCollapsed": true
   },
   "source": [
    "### Calling Sampling Function: Tp (Tp_D)"
   ]
  },
  {
   "cell_type": "code",
   "execution_count": 23,
   "id": "b91908e7-61dd-4e77-9980-90a687a27d51",
   "metadata": {},
   "outputs": [
    {
     "name": "stdout",
     "output_type": "stream",
     "text": [
      "Processing category 'pla'\n",
      "Found 55 files.\n",
      "Sampled and copied 26 'pla' images to C:\\Users\\User\\Documents\\DS4\\25-ds-casia\\Tp\n",
      "\n",
      "Processing category 'art'\n",
      "Found 62 files.\n",
      "Sampled and copied 56 'art' images to C:\\Users\\User\\Documents\\DS4\\25-ds-casia\\Tp\n",
      "\n",
      "Processing category 'nat'\n",
      "Found 218 files.\n",
      "Sampled and copied 113 'nat' images to C:\\Users\\User\\Documents\\DS4\\25-ds-casia\\Tp\n",
      "\n",
      "Processing category 'arc'\n",
      "Found 49 files.\n",
      "Sampled and copied 45 'arc' images to C:\\Users\\User\\Documents\\DS4\\25-ds-casia\\Tp\n",
      "\n",
      "Processing category 'ani'\n",
      "Found 184 files.\n",
      "Sampled and copied 53 'ani' images to C:\\Users\\User\\Documents\\DS4\\25-ds-casia\\Tp\n",
      "\n",
      "Processing category 'ind'\n",
      "Found 54 files.\n",
      "Sampled and copied 28 'ind' images to C:\\Users\\User\\Documents\\DS4\\25-ds-casia\\Tp\n",
      "\n",
      "Processing category 'cha'\n",
      "Found 119 files.\n",
      "Sampled and copied 65 'cha' images to C:\\Users\\User\\Documents\\DS4\\25-ds-casia\\Tp\n",
      "\n",
      "Processing category 'sec'\n",
      "Found 57 files.\n",
      "Sampled and copied 55 'sec' images to C:\\Users\\User\\Documents\\DS4\\25-ds-casia\\Tp\n",
      "\n",
      "Processing category 'txt'\n",
      "Found 55 files.\n",
      "Sampled and copied 17 'txt' images to C:\\Users\\User\\Documents\\DS4\\25-ds-casia\\Tp\n",
      "\n"
     ]
    }
   ],
   "source": [
    "# Run the sampling and copying process for Tp_S images\n",
    "tp_tpd_list = casia25_tp_tpd_sample(tp_src_dir, tp_output_dir, tp_tpd_cc_dict)"
   ]
  },
  {
   "cell_type": "markdown",
   "id": "db47b8af-2529-45f6-9d2f-b72d7a5e49ae",
   "metadata": {},
   "source": [
    "### Creating .txt File: Tp (Tp_D + Tp_S)"
   ]
  },
  {
   "cell_type": "code",
   "execution_count": 26,
   "id": "0c47b69c-fea1-494d-8d81-185aff098d5a",
   "metadata": {},
   "outputs": [
    {
     "name": "stdout",
     "output_type": "stream",
     "text": [
      "All sampling and copying completed.\n",
      "Filenames of copied images are listed in C:\\Users\\User\\Documents\\DS4\\25-ds-casia\\tp_list.txt\n"
     ]
    }
   ],
   "source": [
    "# Write the list of copied filenames to a text file\n",
    "with open(tp_tpd_txt_dir_fp, 'w') as f:\n",
    "    for filename in tp_tpd_list:\n",
    "        f.write(f\"{filename}\\n\")\n",
    "\n",
    "print(f\"All sampling and copying completed.\\nFilenames of copied images are listed in {tp_tpd_txt_dir_fp}\")"
   ]
  },
  {
   "cell_type": "markdown",
   "id": "1c949dcc-9b53-4f9b-8def-0b932f6cd24a",
   "metadata": {},
   "source": [
    "## 4. Gt: Sampling"
   ]
  },
  {
   "cell_type": "markdown",
   "id": "cfebe72d-e167-450e-9046-b3e9cc8d373f",
   "metadata": {},
   "source": [
    "### Setting Paths & .txt File"
   ]
  },
  {
   "cell_type": "code",
   "execution_count": 62,
   "id": "c01df74d-d62a-4026-9695-513bd9c34e2e",
   "metadata": {},
   "outputs": [],
   "source": [
    "# Paths\n",
    "gt_src_dir = r'C:\\Users\\User\\Downloads\\casia_sh\\Gt'\n",
    "gt_output_dir = r'C:\\Users\\User\\Documents\\DS4\\25-ds-casia\\Gt'\n",
    "txt_dir = r'C:\\Users\\User\\Documents\\DS4\\25-ds-casia'"
   ]
  },
  {
   "cell_type": "code",
   "execution_count": 63,
   "id": "491f7a7b-e15e-4020-b687-a71b0bb0737c",
   "metadata": {},
   "outputs": [],
   "source": [
    "os.makedirs(gt_output_dir, exist_ok=True)"
   ]
  },
  {
   "cell_type": "markdown",
   "id": "b576572c-1f78-4fca-8a9d-753f32b19a5e",
   "metadata": {},
   "source": [
    "### Read tp_list.txt File"
   ]
  },
  {
   "cell_type": "code",
   "execution_count": 64,
   "id": "307d52c4-13ec-45c3-861f-2b92de7c9dbb",
   "metadata": {},
   "outputs": [],
   "source": [
    "# Text file containing the list of Tp files\n",
    "tp_list_file = os.path.join(txt_dir, 'tp_list.txt')"
   ]
  },
  {
   "cell_type": "markdown",
   "id": "567f16dc-a012-4235-b903-1b535079ef6b",
   "metadata": {},
   "source": [
    "### Gt Function"
   ]
  },
  {
   "cell_type": "code",
   "execution_count": 65,
   "id": "0ae097a0-eb57-4240-a2ba-a118a6e4ca7e",
   "metadata": {},
   "outputs": [],
   "source": [
    "def casia_gt(tp_list_file, gt_src_dir, gt_output_dir):\n",
    "    # Read the list of Tp files from the text file\n",
    "    with open(tp_list_file, 'r') as file:\n",
    "        tp_files = file.read().splitlines()\n",
    "\n",
    "    # Initialize counter for successful copies\n",
    "    successful_copies = 0\n",
    "\n",
    "    # Iterate through each Tp filename\n",
    "    for tp_filename in tp_files:\n",
    "        # Construct the corresponding Gt filename\n",
    "        gt_filename = tp_filename.replace('.tif', '_gt.png').replace('.jpg', '_gt.png')\n",
    "\n",
    "        # Construct the full paths for both Tp and Gt images\n",
    "        tp_path_tif = os.path.join(gt_src_dir, tp_filename)\n",
    "        tp_path_jpg = os.path.join(gt_src_dir, tp_filename.replace('.tif', '.jpg'))\n",
    "        gt_path = os.path.join(gt_src_dir, gt_filename)\n",
    "        output_gt_path = os.path.join(gt_output_dir, gt_filename)\n",
    "\n",
    "        # Check if the Gt image exists in both TIFF and JPEG format\n",
    "        if os.path.exists(gt_path):\n",
    "            # Copy the Gt image to the output directory\n",
    "            shutil.copy(gt_path, output_gt_path)\n",
    "            successful_copies += 1\n",
    "\n",
    "        elif os.path.exists(tp_path_jpg):\n",
    "            # Construct the corresponding Gt filename for the JPEG file\n",
    "            gt_filename_jpg = gt_filename.replace('_gt.png', '_gt.jpg')\n",
    "\n",
    "            # Construct the full path for Gt image in JPEG format\n",
    "            gt_path_jpg = os.path.join(gt_src_dir, gt_filename_jpg)\n",
    "\n",
    "            # Copy the Gt image in JPEG format to the output directory\n",
    "            shutil.copy(gt_path_jpg, output_gt_path)\n",
    "            successful_copies += 1\n",
    "\n",
    "    # Print the number of successful copies\n",
    "    print(f\"Successfully copied {successful_copies} Gt images to {gt_output_dir}\")"
   ]
  },
  {
   "cell_type": "code",
   "execution_count": 66,
   "id": "69ac5d50-d577-4ba0-b67f-db9e6d3018e9",
   "metadata": {},
   "outputs": [
    {
     "name": "stdout",
     "output_type": "stream",
     "text": [
      "Successfully copied 1281 Gt images to C:\\Users\\User\\Documents\\DS4\\25-ds-casia\\Gt\n"
     ]
    }
   ],
   "source": [
    "# Call the function to copy Gt images\n",
    "casia_gt(tp_list_file, gt_src_dir, gt_output_dir)"
   ]
  }
 ],
 "metadata": {
  "kernelspec": {
   "display_name": "Python 3 (ipykernel)",
   "language": "python",
   "name": "python3"
  },
  "language_info": {
   "codemirror_mode": {
    "name": "ipython",
    "version": 3
   },
   "file_extension": ".py",
   "mimetype": "text/x-python",
   "name": "python",
   "nbconvert_exporter": "python",
   "pygments_lexer": "ipython3",
   "version": "3.12.1"
  }
 },
 "nbformat": 4,
 "nbformat_minor": 5
}
