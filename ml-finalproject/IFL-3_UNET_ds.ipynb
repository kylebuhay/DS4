{
 "cells": [
  {
   "cell_type": "markdown",
   "id": "fea784d1-e35e-41f7-bf65-56845961d900",
   "metadata": {},
   "source": [
    "# Importing Libraries & Loading Data"
   ]
  },
  {
   "cell_type": "markdown",
   "id": "dc94ddf2-3b66-4121-8448-3bf4cd543b7b",
   "metadata": {},
   "source": [
    "## Installing Libraries & Modules"
   ]
  },
  {
   "cell_type": "code",
   "execution_count": 16,
   "id": "5c8cc050-15ee-46d4-87bc-efcf312c5915",
   "metadata": {},
   "outputs": [],
   "source": [
    "# Note: No need to run the cell if you have installed the ff. libraries or frameworks.\n",
    "# Note: Hide the cells by clicking the arrow button beside the markdown."
   ]
  },
  {
   "cell_type": "code",
   "execution_count": 1,
   "id": "997a6a83-66b2-4986-afc3-6e9cc8a73644",
   "metadata": {},
   "outputs": [],
   "source": [
    "#pip install pandas\n",
    "#pip install numpy\n",
    "#pip install matplotlib\n",
    "#pip install opencv-python\n",
    "#pip install tqdm\n",
    "#pip install seaborn\n",
    "#pip install joblib\n",
    "#pip install scikit-learn\n",
    "#pip install imageio\n",
    "#pip install tensorflow\n",
    "#pip install keras\n",
    "#pip install pillow"
   ]
  },
  {
   "cell_type": "markdown",
   "id": "87587729-2a75-46a0-a3ef-70649349b398",
   "metadata": {},
   "source": [
    "## Importing Libraries & Modules"
   ]
  },
  {
   "cell_type": "code",
   "execution_count": 2,
   "id": "c237e75c-180b-4b8b-9ccc-e3a3f1cbe49f",
   "metadata": {},
   "outputs": [],
   "source": [
    "import os\n",
    "import shutil\n",
    "from tqdm import tqdm\n",
    "import random"
   ]
  },
  {
   "cell_type": "markdown",
   "id": "c364a42e-368c-414e-8036-73db5bd645fa",
   "metadata": {},
   "source": [
    "## Preparing the Dataset"
   ]
  },
  {
   "cell_type": "code",
   "execution_count": 3,
   "id": "2f1ae8c3-a67b-478d-a054-a4300bd13525",
   "metadata": {},
   "outputs": [],
   "source": [
    "# Directory path to the CASIA v2.0 dataset\n",
    "path = r'C:\\Users\\User\\Documents\\ML-finalproject\\CASIAv2.0'\n",
    "\n",
    "# Dictionary mapping dataset types to their respective subdirectories\n",
    "ds_path = {\n",
    "    'tp': r'\\CASIA2.0_revised\\Tp',\n",
    "    'gt': r'\\CASIA2.0_Groundtruth'\n",
    "}"
   ]
  },
  {
   "cell_type": "markdown",
   "id": "afb02fc3-b630-4774-ada5-b4fd84b1b628",
   "metadata": {},
   "source": [
    "## Sampling Images for tp_trainset"
   ]
  },
  {
   "cell_type": "code",
   "execution_count": 4,
   "id": "0adcaaf9-242a-4213-b661-47eda4d0a619",
   "metadata": {},
   "outputs": [],
   "source": [
    "# Note: Do not run the code snippets if you've already have the images in the destination directory.\n",
    "# Note: Hide the cells by clicking the arrow button beside the markdown."
   ]
  },
  {
   "cell_type": "code",
   "execution_count": 5,
   "id": "70a0a867-fd90-4626-a515-aaee841f3bd0",
   "metadata": {},
   "outputs": [],
   "source": [
    "# Function to copy images from source directory to destination directory\n",
    "def copy_images(source_dir, destination_dir, num_images=800):\n",
    "    \"\"\"\n",
    "    Args:\n",
    "        source_dir (str): Path to the source directory containing images.\n",
    "        destination_dir (str): Path to the destination directory where images will be copied.\n",
    "        num_images (int): Number of images to copy (default is 50).\n",
    "    \"\"\"\n",
    "    # Create destination directory if it doesn't exist\n",
    "    if not os.path.exists(destination_dir):\n",
    "        os.makedirs(destination_dir)\n",
    "    \n",
    "    # Get list of files in the source directory\n",
    "    files = os.listdir(source_dir)\n",
    "    \n",
    "    # Iterate over the first num_images files\n",
    "    for file in tqdm(files[:num_images], desc=\"Copying Images\", unit=\"image\"):\n",
    "        # Construct source and destination file paths\n",
    "        source_file = os.path.join(source_dir, file)\n",
    "        destination_file = os.path.join(destination_dir, file)\n",
    "        \n",
    "        # Copy file from source to destination\n",
    "        shutil.copyfile(source_file, destination_file)"
   ]
  },
  {
   "cell_type": "code",
   "execution_count": 6,
   "id": "a4176b74-72d6-449c-b405-e3e2e6b469da",
   "metadata": {},
   "outputs": [],
   "source": [
    "# Source directory, Tp class from CASIAv2.0 Dataset\n",
    "tp_ts_src = r\"C:\\Users\\User\\Documents\\ML-finalproject\\CASIAv2.0\\CASIA2.0_revised\\Tp\"\n",
    "\n",
    "# Destination directory, Where the images from source will go\n",
    "tp_ts_dst = r\"C:\\Users\\User\\Documents\\ML-finalproject\\IFL-3\\train_set\\tp_trainset\""
   ]
  },
  {
   "cell_type": "code",
   "execution_count": 7,
   "id": "d68f34f4-6144-47af-9ac6-dd65d8aa020a",
   "metadata": {},
   "outputs": [
    {
     "name": "stderr",
     "output_type": "stream",
     "text": [
      "Copying Images: 100%|████████████████████████████████████████████████████████████| 800/800 [00:06<00:00, 119.14image/s]\n"
     ]
    }
   ],
   "source": [
    "# Copy first 50 images from source to destination\n",
    "copy_images(tp_ts_src, tp_ts_dst, num_images=800)"
   ]
  },
  {
   "cell_type": "markdown",
   "id": "3d97ceb3-3f5a-4a66-8f7d-2b7c62709e8d",
   "metadata": {},
   "source": [
    "## Corresponding Gt Images for tp_trainset"
   ]
  },
  {
   "cell_type": "code",
   "execution_count": 8,
   "id": "cdd328ee-9616-473a-9bc7-1a6eb73893a1",
   "metadata": {},
   "outputs": [],
   "source": [
    "# Note: Do not run the code snippets if you've already have the images in the destination directory.\n",
    "# Note: Hide the cells by clicking the arrow button beside the markdown."
   ]
  },
  {
   "cell_type": "code",
   "execution_count": 9,
   "id": "b09859a9-1bf8-4af0-a6a5-7487caab054d",
   "metadata": {},
   "outputs": [],
   "source": [
    "# Source directory\n",
    "tp_mask_ts_src = r\"C:\\Users\\User\\Documents\\ML-finalproject\\CASIAv2.0\\CASIA2.0_Groundtruth\"\n",
    "\n",
    "# Destination directory\n",
    "tp_mask_ts_dst = r\"C:\\Users\\User\\Documents\\ML-finalproject\\IFL-3\\train_set\\tp_mask_trainset\""
   ]
  },
  {
   "cell_type": "code",
   "execution_count": 10,
   "id": "2d280e56-40ca-456c-8af7-7891cb297a67",
   "metadata": {},
   "outputs": [
    {
     "name": "stderr",
     "output_type": "stream",
     "text": [
      "Copying Images: 100%|████████████████████████████████████████████████████████████| 800/800 [00:06<00:00, 131.69image/s]\n"
     ]
    }
   ],
   "source": [
    "# Copy first 100 images from source to destination\n",
    "copy_images(tp_mask_ts_src, tp_mask_ts_dst, num_images=800)"
   ]
  },
  {
   "cell_type": "markdown",
   "id": "0c234368-b00d-415c-9099-1c7c998e1e26",
   "metadata": {},
   "source": [
    "## Sampling Images for tp_valset"
   ]
  },
  {
   "cell_type": "code",
   "execution_count": 11,
   "id": "59f2b120-4c05-4b3b-a5ea-66015580cbac",
   "metadata": {},
   "outputs": [],
   "source": [
    "# Note: Do not run the code snippets if you've already have the images in the destination directory.\n",
    "# Note: Hide the cells by clicking the arrow button beside the markdown."
   ]
  },
  {
   "cell_type": "code",
   "execution_count": 12,
   "id": "58e83302-6598-491d-8b8c-0cf7c7bbcf7d",
   "metadata": {},
   "outputs": [],
   "source": [
    "# Function to copy randomly selected images from source directory to destination directory\n",
    "def copy_random_images(source_dir, destination_dir, num_images=200):\n",
    "    \"\"\"\n",
    "    Args:\n",
    "        source_dir (str): Path to the source directory containing images.\n",
    "        destination_dir (str): Path to the destination directory where images will be copied.\n",
    "        num_images (int): Number of images to copy (default is 50).\n",
    "    \"\"\"\n",
    "    # Create destination directory if it doesn't exist\n",
    "    if not os.path.exists(destination_dir):\n",
    "        os.makedirs(destination_dir)\n",
    "    \n",
    "    # Get list of files in the source directory\n",
    "    files = os.listdir(source_dir)\n",
    "    \n",
    "    # Randomly sample num_images files\n",
    "    random_files = random.sample(files, num_images)\n",
    "    \n",
    "    # Iterate over the random files\n",
    "    for file in tqdm(random_files, desc=\"Copying Random Images\", unit=\"image\"):\n",
    "        # Construct source and destination file paths\n",
    "        source_file = os.path.join(source_dir, file)\n",
    "        destination_file = os.path.join(destination_dir, file)\n",
    "        \n",
    "        # Copy file from source to destination\n",
    "        shutil.copyfile(source_file, destination_file)"
   ]
  },
  {
   "cell_type": "code",
   "execution_count": 13,
   "id": "ddccf13c-6d50-4cd9-9fa6-414c914dcbe4",
   "metadata": {},
   "outputs": [],
   "source": [
    "# Destination directory\n",
    "tp_vs_dst = r\"C:\\Users\\User\\Documents\\ML-finalproject\\IFL-3\\val_set\\tp_valset\""
   ]
  },
  {
   "cell_type": "code",
   "execution_count": 14,
   "id": "0b3703ad-91a7-45fe-a997-f3640ff19c1e",
   "metadata": {},
   "outputs": [
    {
     "name": "stderr",
     "output_type": "stream",
     "text": [
      "Copying Random Images: 100%|██████████████████████████████████████████████████████| 200/200 [00:02<00:00, 94.75image/s]\n"
     ]
    }
   ],
   "source": [
    "# Copy random 50 images from source to destination\n",
    "copy_random_images(tp_ts_src, tp_vs_dst, num_images=200)"
   ]
  },
  {
   "cell_type": "code",
   "execution_count": null,
   "id": "8681cb51-d011-4bf3-b56e-43c16dd0da95",
   "metadata": {},
   "outputs": [],
   "source": []
  }
 ],
 "metadata": {
  "kernelspec": {
   "display_name": "Python 3 (ipykernel)",
   "language": "python",
   "name": "python3"
  },
  "language_info": {
   "codemirror_mode": {
    "name": "ipython",
    "version": 3
   },
   "file_extension": ".py",
   "mimetype": "text/x-python",
   "name": "python",
   "nbconvert_exporter": "python",
   "pygments_lexer": "ipython3",
   "version": "3.12.1"
  }
 },
 "nbformat": 4,
 "nbformat_minor": 5
}
