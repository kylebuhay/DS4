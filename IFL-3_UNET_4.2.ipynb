{
 "cells": [
  {
   "cell_type": "markdown",
   "id": "576a4d0d-c133-47b9-8783-c317ca6533b8",
   "metadata": {},
   "source": [
    "# 1. Importing Libraries & Loading Data"
   ]
  },
  {
   "cell_type": "markdown",
   "id": "d754ed86-1aa8-4d91-9246-ca3ffd59e930",
   "metadata": {},
   "source": [
    "## 1.x. Installing Libraries and Modules"
   ]
  },
  {
   "cell_type": "code",
   "execution_count": 1,
   "id": "1b6bfbf1-d54d-4ae9-8488-c22faaced826",
   "metadata": {},
   "outputs": [],
   "source": [
    "# Note: No need to run the cell if you have installed the ff. libraries or frameworks.\n",
    "# Note: Hide the cells by clicking the arrow button beside the markdown."
   ]
  },
  {
   "cell_type": "code",
   "execution_count": 1,
   "id": "1f37271a-1fef-4a5c-a7f4-1dc49683e6d2",
   "metadata": {},
   "outputs": [],
   "source": [
    "#!pip install pandas\n",
    "#!pip install numpy\n",
    "#!pip install matplotlib\n",
    "#!pip install opencv-python\n",
    "#!pip install tqdm\n",
    "#!pip install seaborn\n",
    "#!pip install joblib\n",
    "#!pip install scikit-learn\n",
    "#!pip install imageio\n",
    "#!pip install tensorflow\n",
    "#!pip install pillow"
   ]
  },
  {
   "cell_type": "markdown",
   "id": "a8cd8e7a-e097-4f01-9d32-60d02bf1ae3d",
   "metadata": {},
   "source": [
    "## 1.x. Importing Libraries and Modules"
   ]
  },
  {
   "cell_type": "code",
   "execution_count": 22,
   "id": "21338073-58b2-412e-9b49-47f844bb327c",
   "metadata": {},
   "outputs": [],
   "source": [
    "import pandas as pd\n",
    "import numpy as np\n",
    "import matplotlib.pyplot as plt\n",
    "from matplotlib import gridspec\n",
    "import os \n",
    "import cv2\n",
    "from tqdm import tqdm \n",
    "import seaborn as sns\n",
    "import joblib \n",
    "import warnings\n",
    "import math\n",
    "import pickle as pk\n",
    "import datetime\n",
    "from sklearn.model_selection import train_test_split\n",
    "from sklearn.utils import shuffle\n",
    "from imageio import imread\n",
    "import imageio\n",
    "import tensorflow as tf\n",
    "import tensorflow.keras as keras\n",
    "from tensorflow.keras import layers,Model,Sequential\n",
    "from tensorflow.keras.layers import Dropout,Activation,InputLayer,LSTM,GRU,Bidirectional,TimeDistributed,Flatten,Dense,BatchNormalization,MaxPooling2D,Conv2D,Input,Concatenate,LeakyReLU\n",
    "warnings.filterwarnings('ignore')\n",
    "from tensorflow.keras.layers import Conv2D, Conv2DTranspose\n",
    "from tensorflow.keras.callbacks import TensorBoard, ModelCheckpoint, EarlyStopping, ReduceLROnPlateau\n",
    "from tensorflow.keras.optimizers import Adam\n",
    "from tensorflow.keras.preprocessing.image import ImageDataGenerator, array_to_img, img_to_array, load_img\n",
    "from tensorflow.keras.layers import concatenate, add\n",
    "from tensorflow.keras.models import load_model\n",
    "from tensorflow.keras.utils import to_categorical\n",
    "from tensorflow.keras.preprocessing import image_dataset_from_directory, image # new\n",
    "from PIL import Image\n",
    "from pathlib import Path\n",
    "import imghdr\n",
    "import shutil\n",
    "import random"
   ]
  },
  {
   "cell_type": "markdown",
   "id": "81b2339c-07ff-4e24-8e0a-ea3a3be25607",
   "metadata": {},
   "source": [
    "## 1.x. Getting a Sample from the CASIA v2.0 Dataset"
   ]
  },
  {
   "cell_type": "markdown",
   "id": "5092b63d-69ea-4eb7-88ab-aebcc60c3436",
   "metadata": {},
   "source": [
    "### Run IFL-3_UNET_ds.ipynb"
   ]
  },
  {
   "cell_type": "code",
   "execution_count": 23,
   "id": "8a201161-544b-435a-83b1-ac545a7c861a",
   "metadata": {},
   "outputs": [],
   "source": [
    "# Run the IFL-3_UNET_ds.ipynb notebook to get a sample from the dataset.\n",
    "# Verify the following folders with their corresponding no. of images:\n",
    "    # train_set\n",
    "      # tp_trainset, 200 images - mix of .jpeg and .tif files\n",
    "      # tp_mask_trainset, 200 images - all .png files\n",
    "    # val_set\n",
    "      # tp_valset, 50 images - mix of .jpeg and .tif files"
   ]
  },
  {
   "cell_type": "code",
   "execution_count": 24,
   "id": "2856c47a-73b5-4fca-bf54-0dcc1b3425ef",
   "metadata": {},
   "outputs": [],
   "source": [
    "# tp_trainset gets the first 200 images from the Tp folder of CASIA v2.0\n",
    "   # tp_mask_trainset is the corresponding groundtruth masks (targets) of tp_trainset's images\n",
    "# tp_valset randomly gets 50 images from the Tp folder of CASIA v2.0 - which is distinct from the ones in tp_trainset"
   ]
  },
  {
   "cell_type": "code",
   "execution_count": 25,
   "id": "67f1f163-e931-43dd-91bb-896803ca7657",
   "metadata": {},
   "outputs": [],
   "source": [
    "# Destination directories\n",
    "tp_ts = \"train_set/tp_trainset\"\n",
    "tp_vs = \"val_set/tp_valset\"\n",
    "tp_mask_ts = \"train_set/tp_mask_trainset\""
   ]
  },
  {
   "cell_type": "markdown",
   "id": "2d920ed5-dc11-42e8-9a18-7c5111adaf64",
   "metadata": {},
   "source": [
    "### 1.x. Checking tp_ts"
   ]
  },
  {
   "cell_type": "code",
   "execution_count": 26,
   "id": "4b5fd3a9-8301-43c9-928b-1276bbfbb0b1",
   "metadata": {},
   "outputs": [
    {
     "data": {
      "text/plain": [
       "['Tp_D_CND_M_N_ani00018_sec00096_00138.tif',\n",
       " 'Tp_D_CND_M_N_art00076_art00077_10289.tif',\n",
       " 'Tp_D_CND_M_N_art00077_art00076_10290.tif',\n",
       " 'Tp_D_CND_S_N_ani00073_ani00068_00193.tif',\n",
       " 'Tp_D_CND_S_N_ind00078_ind00077_00476.tif']"
      ]
     },
     "execution_count": 26,
     "metadata": {},
     "output_type": "execute_result"
    }
   ],
   "source": [
    "#Sample files names in Tp images\n",
    "os.listdir(tp_ts)[:5]"
   ]
  },
  {
   "cell_type": "code",
   "execution_count": 9,
   "id": "83662c7d-f788-479c-8b10-6d54ddee6d4c",
   "metadata": {},
   "outputs": [
    {
     "name": "stdout",
     "output_type": "stream",
     "text": [
      "Number of Images in tp_ts folder: 800\n"
     ]
    }
   ],
   "source": [
    "# List of filenames in Tp images directory\n",
    "tp_files = os.listdir(tp_ts)\n",
    "print(\"Number of Images in tp_ts folder:\", len(tp_files)) #800"
   ]
  },
  {
   "cell_type": "markdown",
   "id": "08e25964-eef2-43b2-bba8-17a02c11b93e",
   "metadata": {},
   "source": [
    "### 1.x. Checking tp_mask_ts"
   ]
  },
  {
   "cell_type": "code",
   "execution_count": 10,
   "id": "156f76c7-0831-4a95-9195-6d1363f6af70",
   "metadata": {},
   "outputs": [
    {
     "data": {
      "text/plain": [
       "['Tp_D_CND_M_N_ani00018_sec00096_00138_gt.png',\n",
       " 'Tp_D_CND_M_N_art00076_art00077_10289_gt.png',\n",
       " 'Tp_D_CND_M_N_art00077_art00076_10290_gt.png',\n",
       " 'Tp_D_CND_S_N_ani00073_ani00068_00193_gt.png',\n",
       " 'Tp_D_CND_S_N_ind00078_ind00077_00476_gt.png']"
      ]
     },
     "execution_count": 10,
     "metadata": {},
     "output_type": "execute_result"
    }
   ],
   "source": [
    "#Sample files names in Tp images\n",
    "os.listdir(tp_mask_ts)[:5]"
   ]
  },
  {
   "cell_type": "code",
   "execution_count": 11,
   "id": "61d8c124-b1c8-4793-8b35-6e7b86eb7859",
   "metadata": {},
   "outputs": [
    {
     "name": "stdout",
     "output_type": "stream",
     "text": [
      "Number of Images in tp_mask_ts folder: 800\n"
     ]
    }
   ],
   "source": [
    "# List of filenames in Tp images directory\n",
    "tp_files = os.listdir(tp_mask_ts)\n",
    "print(\"Number of Images in tp_mask_ts folder:\", len(tp_files)) #800"
   ]
  },
  {
   "cell_type": "markdown",
   "id": "eaa3d8bf-9e83-4924-adae-99a886c64d8f",
   "metadata": {},
   "source": [
    "### 1.x. Checking tp_vs"
   ]
  },
  {
   "cell_type": "code",
   "execution_count": 12,
   "id": "74650e4b-637f-495b-856f-62fde30f99e3",
   "metadata": {},
   "outputs": [
    {
     "data": {
      "text/plain": [
       "['Tp_D_CNN_M_N_ani00023_ani00024_10205.tif',\n",
       " 'Tp_D_CNN_S_N_cha10194_cha10192_12323.jpg',\n",
       " 'Tp_D_CRD_M_N_art00058_art00051_10534.tif',\n",
       " 'Tp_D_CRN_M_N_ani10101_ani00081_10139.tif',\n",
       " 'Tp_D_CRN_M_N_art00067_nat00059_11805.jpg']"
      ]
     },
     "execution_count": 12,
     "metadata": {},
     "output_type": "execute_result"
    }
   ],
   "source": [
    "#Sample files names in Tp images\n",
    "os.listdir(tp_vs)[:5]"
   ]
  },
  {
   "cell_type": "code",
   "execution_count": 13,
   "id": "0f430fed-2d6b-442d-bc5e-eb369378f20c",
   "metadata": {},
   "outputs": [
    {
     "name": "stdout",
     "output_type": "stream",
     "text": [
      "Number of Images in tp_vs folder: 200\n"
     ]
    }
   ],
   "source": [
    "# List of filenames in Tp images directory\n",
    "tp_files = os.listdir(tp_vs)\n",
    "print(\"Number of Images in tp_vs folder:\", len(tp_files)) #200"
   ]
  },
  {
   "cell_type": "markdown",
   "id": "e8b1cebb-950e-43b3-a1c3-cb9781d3a445",
   "metadata": {},
   "source": [
    "# 2. Preprocessing"
   ]
  },
  {
   "cell_type": "code",
   "execution_count": 14,
   "id": "963a5523-f483-4432-97af-a385bc4d4177",
   "metadata": {},
   "outputs": [],
   "source": [
    "# Note: No need to run the section if you have the images preprocessed already.\n",
    "# Note: To verify if you have preprocessed the images, check the destination directory folders: tp_trainset and tp_valset - if they're resized accordingly."
   ]
  },
  {
   "cell_type": "markdown",
   "id": "6105b1da-0609-46ef-b00c-c21ad0ea8234",
   "metadata": {},
   "source": [
    "## 2.x. tp_ts& tp_vs: Normalizing Pixel Values"
   ]
  },
  {
   "cell_type": "code",
   "execution_count": 16,
   "id": "6cf5cff8-5140-4736-a999-1c11433cb57a",
   "metadata": {},
   "outputs": [],
   "source": [
    "def px_normalization(directory):\n",
    "    # Get list of image files in the directory\n",
    "    image_files = [f for f in os.listdir(directory) if f.endswith((\".jpg\", \".png\", \".tif\"))]\n",
    "    \n",
    "    # Iterate through each image file in the directory with tqdm progress bar\n",
    "    for filename in tqdm(image_files, desc=\"Normalizing images\"):\n",
    "        # Read the image\n",
    "        img_path = os.path.join(directory, filename)\n",
    "        img = cv2.imread(img_path)\n",
    "        \n",
    "        # Convert color format to RGB for TIFF images\n",
    "        if filename.endswith(\".tif\"):\n",
    "            img = cv2.cvtColor(img, cv2.COLOR_BGR2RGB)\n",
    "        \n",
    "        # Ensure the image is in the correct data type and range\n",
    "        img = img.astype('float32')  # Convert to float32\n",
    "        img = img / 255.0  # Normalize pixel values\n",
    "        \n",
    "        # Convert color format back to BGR for JPEG images\n",
    "        if filename.endswith(\".tif\"):\n",
    "            img = cv2.cvtColor(img, cv2.COLOR_RGB2BGR)\n",
    "        \n",
    "        # Convert back to uint8 data type\n",
    "        img = (img * 255).astype('uint8')\n",
    "        \n",
    "        # Overwrite the original image with the normalized image\n",
    "        cv2.imwrite(img_path, img)"
   ]
  },
  {
   "cell_type": "code",
   "execution_count": 17,
   "id": "46c9c88f-1238-4be9-8e9f-99ead1b370d7",
   "metadata": {},
   "outputs": [
    {
     "name": "stderr",
     "output_type": "stream",
     "text": [
      "Normalizing images: 100%|███████████████████████████████████████████████████████████| 800/800 [00:05<00:00, 151.51it/s]\n"
     ]
    }
   ],
   "source": [
    "# Normalize pixel values in the training set\n",
    "px_normalization(tp_ts) #800"
   ]
  },
  {
   "cell_type": "code",
   "execution_count": 18,
   "id": "47e64eae-b21c-475a-b9c2-dde37ef0d26a",
   "metadata": {},
   "outputs": [
    {
     "name": "stderr",
     "output_type": "stream",
     "text": [
      "Normalizing images: 100%|███████████████████████████████████████████████████████████| 200/200 [00:01<00:00, 132.64it/s]\n"
     ]
    }
   ],
   "source": [
    "# Normalize pixel values in the validation set\n",
    "px_normalization(tp_vs) #200"
   ]
  },
  {
   "cell_type": "markdown",
   "id": "f34737b0-833b-471e-9086-f28d646b9130",
   "metadata": {},
   "source": [
    "## 2.x. tp_mask_ts: Normalizing & Binarizing Pixel Values"
   ]
  },
  {
   "cell_type": "code",
   "execution_count": 19,
   "id": "fef9b68d-ba55-4626-88d3-37f660e98e48",
   "metadata": {},
   "outputs": [],
   "source": [
    "def bin_norm_gt_masks(mask_dir):\n",
    "    # Get the list of all files in the directory\n",
    "    mask_files = [f for f in os.listdir(mask_dir) if os.path.isfile(os.path.join(mask_dir, f))]\n",
    "\n",
    "    for mask_file in tqdm(mask_files, desc=\"Binarizing and Normalizing Ground Truth Masks\"):\n",
    "        mask_path = os.path.join(mask_dir, mask_file)\n",
    "        \n",
    "        # Read the mask image\n",
    "        mask = cv2.imread(mask_path, cv2.IMREAD_GRAYSCALE)\n",
    "        \n",
    "        if mask is None:\n",
    "            continue  # Skip if the mask cannot be read\n",
    "            print(\"I cannot be read.\")\n",
    "        \n",
    "        # Binarize the mask: ensure pixel values are 0 or 1\n",
    "        _, binarized_mask = cv2.threshold(mask, 127, 255, cv2.THRESH_BINARY)\n",
    "        \n",
    "        # Normalize the mask to have pixel values between 0 and 1\n",
    "        normalized_mask = binarized_mask / 255.0\n",
    "        \n",
    "        # Save the normalized mask back to the same path\n",
    "        cv2.imwrite(mask_path, (normalized_mask * 255).astype(np.uint8))"
   ]
  },
  {
   "cell_type": "code",
   "execution_count": 20,
   "id": "bbc44594-ce2c-4a22-94cb-dd61b7aa218f",
   "metadata": {},
   "outputs": [
    {
     "name": "stderr",
     "output_type": "stream",
     "text": [
      "Binarizing and Normalizing Ground Truth Masks: 100%|████████████████████████████████| 800/800 [00:01<00:00, 438.19it/s]\n"
     ]
    }
   ],
   "source": [
    "bin_norm_gt_masks(tp_mask_ts)"
   ]
  },
  {
   "cell_type": "markdown",
   "id": "859e7562-7ea8-46ee-b9df-c4b4faa96792",
   "metadata": {},
   "source": [
    "## 2.x. Tp: Image Standardization (256x256x3)"
   ]
  },
  {
   "cell_type": "code",
   "execution_count": 21,
   "id": "00718923-1cf9-4576-ae09-4f6de95d8f8e",
   "metadata": {},
   "outputs": [],
   "source": [
    "# Q: Why are we resizing the images to 256x256x3?\n",
    "# A: From the original 512x512x3, we are resizing the images to 256x256x3 to reduce the computational complexity of the model.\n",
    "\n",
    "# Q: Can the U-Net accept the image if it is not in 256x256x3?\n",
    "# A: No."
   ]
  },
  {
   "cell_type": "code",
   "execution_count": 22,
   "id": "4650d0c8-4506-4e82-b8ff-107b3f8f2001",
   "metadata": {},
   "outputs": [],
   "source": [
    "def resize_and_convert_images(directory):\n",
    "    # Get list of files in the directory\n",
    "    files = os.listdir(directory)\n",
    "    \n",
    "    # Iterate over the files\n",
    "    for file in tqdm(files, desc=\"Resizing and Converting Images\", unit=\"image\"):\n",
    "        # Construct file path\n",
    "        file_path = os.path.join(directory, file)\n",
    "        \n",
    "        # Open image using PIL\n",
    "        image = Image.open(file_path)\n",
    "        \n",
    "        # Resize image to 256x256\n",
    "        image = image.resize((256, 256))\n",
    "        \n",
    "        # Convert image to RGB if it's not already in RGB format\n",
    "        if image.mode != \"RGB\":\n",
    "            image = image.convert(\"RGB\")\n",
    "        \n",
    "        # Overwrite the original image with the resized and converted image\n",
    "        image.save(file_path)"
   ]
  },
  {
   "cell_type": "code",
   "execution_count": 23,
   "id": "dd8a7fe8-0f63-4957-b9cc-fffa618515ca",
   "metadata": {},
   "outputs": [
    {
     "name": "stderr",
     "output_type": "stream",
     "text": [
      "Resizing and Converting Images: 100%|████████████████████████████████████████████| 800/800 [00:05<00:00, 150.23image/s]\n"
     ]
    }
   ],
   "source": [
    "# Resize and convert images in train set directory\n",
    "resize_and_convert_images(tp_ts)"
   ]
  },
  {
   "cell_type": "code",
   "execution_count": 24,
   "id": "2328811c-ee0b-4999-b9ea-ab773c3bdcd9",
   "metadata": {},
   "outputs": [
    {
     "name": "stderr",
     "output_type": "stream",
     "text": [
      "Resizing and Converting Images: 100%|████████████████████████████████████████████| 200/200 [00:01<00:00, 145.44image/s]\n"
     ]
    }
   ],
   "source": [
    "# Resize and convert images in validation set directory\n",
    "resize_and_convert_images(tp_vs)"
   ]
  },
  {
   "cell_type": "markdown",
   "id": "de18131d-0ef1-4ed9-969e-2c84cda28c3f",
   "metadata": {},
   "source": [
    "## 2.x. Gt: Image Standardization (256x256x1)"
   ]
  },
  {
   "cell_type": "code",
   "execution_count": 25,
   "id": "e5f75df1-ad34-4dde-a3ec-54b2569a2d08",
   "metadata": {},
   "outputs": [],
   "source": [
    "# Note: No need to run the section if you have the images preprocessed already.\n",
    "# Note: To verify if you have preprocessed the images, check the destination directory folders: tp_trainset and tp_valset - if they're resized accordingly."
   ]
  },
  {
   "cell_type": "code",
   "execution_count": 26,
   "id": "c3cbe603-ff32-46c9-b304-0cf9a883bddb",
   "metadata": {},
   "outputs": [],
   "source": [
    "# Q: Why are we resizing the images to 256x256x1?\n",
    "# A: Groundtruth (Gt) Images will serve as the targets of our model. Channel is '1' since Gt images are in grayscale - meaning pixels could either be 1s or 0s, authentic or tampered."
   ]
  },
  {
   "cell_type": "code",
   "execution_count": 27,
   "id": "dd8ff5ae-63d1-4427-b454-0c44bec003ef",
   "metadata": {},
   "outputs": [],
   "source": [
    "def resize_groundtruth_images(directory):\n",
    "    # Get list of files in the directory\n",
    "    files = os.listdir(directory)\n",
    "    \n",
    "    # Iterate over the files\n",
    "    for file in tqdm(files, desc=\"Resizing Groundtruth Images\", unit=\"image\"):\n",
    "        # Construct file path\n",
    "        file_path = os.path.join(directory, file)\n",
    "        \n",
    "        # Open image using PIL\n",
    "        image = Image.open(file_path)\n",
    "        \n",
    "        # Resize image to 256x256\n",
    "        image = image.resize((256, 256))\n",
    "        \n",
    "        # Convert image to grayscale if it's not already in grayscale format\n",
    "        if image.mode != \"L\":\n",
    "            image = image.convert(\"L\")\n",
    "        \n",
    "        # Overwrite the original image with the resized image\n",
    "        image.save(file_path)"
   ]
  },
  {
   "cell_type": "code",
   "execution_count": 28,
   "id": "9da1899e-c22c-4a07-a0dd-57a0749feda8",
   "metadata": {},
   "outputs": [],
   "source": [
    "# Destination directory\n",
    "tp_mask_ts = \"train_set/tp_mask_trainset\""
   ]
  },
  {
   "cell_type": "code",
   "execution_count": 29,
   "id": "7318073b-ba74-43a2-916c-3ed6398ee707",
   "metadata": {},
   "outputs": [
    {
     "name": "stderr",
     "output_type": "stream",
     "text": [
      "Resizing Groundtruth Images: 100%|███████████████████████████████████████████████| 800/800 [00:03<00:00, 206.35image/s]\n"
     ]
    }
   ],
   "source": [
    "# Resize groundtruth images\n",
    "resize_groundtruth_images(tp_mask_ts)"
   ]
  },
  {
   "cell_type": "markdown",
   "id": "eea91bfe-504c-45fe-8711-102cb0f20e33",
   "metadata": {},
   "source": [
    "## 2.x. Converting Images to Arrays (tp_ts & tp_vs)"
   ]
  },
  {
   "cell_type": "code",
   "execution_count": 30,
   "id": "be319a69-2767-45dc-bdb4-8e0e1e6ad758",
   "metadata": {},
   "outputs": [],
   "source": [
    "# Note: No need to run the section if you have the images preprocessed already."
   ]
  },
  {
   "cell_type": "code",
   "execution_count": 31,
   "id": "a941a026-7c3b-4fbe-ad26-26dca39457e3",
   "metadata": {},
   "outputs": [],
   "source": [
    "# Q: Why convert the images to arrays?\n",
    "# A: Compatibility with Neural Networks: Deep learning frameworks like TensorFlow and PyTorch typically expect inputs in the form of numerical arrays.\n",
    "# A: It is a fundamental step in preparing data for deep learning models."
   ]
  },
  {
   "cell_type": "code",
   "execution_count": 32,
   "id": "abebcac6-1c25-4851-bbf3-72237f9b5059",
   "metadata": {},
   "outputs": [],
   "source": [
    "def images_to_arrays(directory):\n",
    "    # Get list of files in the directory\n",
    "    files = os.listdir(directory)\n",
    "    \n",
    "    # Initialize an empty list to store image arrays\n",
    "    image_arrays = []\n",
    "    \n",
    "    # Iterate over the files\n",
    "    for file in tqdm(files, desc=\"Converting Images to Arrays\", unit=\"image\"):\n",
    "        # Construct file path\n",
    "        file_path = os.path.join(directory, file)\n",
    "        \n",
    "        # Open image using PIL\n",
    "        image = Image.open(file_path)\n",
    "        \n",
    "        # Convert image to numpy array\n",
    "        image_array = np.array(image)\n",
    "        \n",
    "        # Append image array to list\n",
    "        image_arrays.append(image_array)\n",
    "    \n",
    "    # Convert list of image arrays to numpy array\n",
    "    image_arrays = np.array(image_arrays)\n",
    "    \n",
    "    return image_arrays"
   ]
  },
  {
   "cell_type": "code",
   "execution_count": 33,
   "id": "723c4c9c-da31-4c8e-a669-db0e2d9e8b78",
   "metadata": {},
   "outputs": [
    {
     "name": "stderr",
     "output_type": "stream",
     "text": [
      "Converting Images to Arrays: 100%|███████████████████████████████████████████████| 800/800 [00:03<00:00, 225.22image/s]"
     ]
    },
    {
     "name": "stdout",
     "output_type": "stream",
     "text": [
      "Train Set Arrays Shape: (800, 256, 256, 3)\n"
     ]
    },
    {
     "name": "stderr",
     "output_type": "stream",
     "text": [
      "\n"
     ]
    }
   ],
   "source": [
    "# Convert images to arrays for train set\n",
    "tp_ts_arrays = images_to_arrays(tp_ts)\n",
    "print(\"Train Set Arrays Shape:\", tp_ts_arrays.shape) # Shape: 200, 256, 256, 3"
   ]
  },
  {
   "cell_type": "code",
   "execution_count": 34,
   "id": "0c65d486-6f11-4931-a6de-5f834a59d579",
   "metadata": {},
   "outputs": [
    {
     "name": "stderr",
     "output_type": "stream",
     "text": [
      "Converting Images to Arrays: 100%|███████████████████████████████████████████████| 200/200 [00:00<00:00, 221.17image/s]\n"
     ]
    },
    {
     "name": "stdout",
     "output_type": "stream",
     "text": [
      "Validation Set Arrays Shape: (200, 256, 256, 3)\n"
     ]
    }
   ],
   "source": [
    "# Convert images to arrays for validation set\n",
    "tp_vs_arrays = images_to_arrays(tp_vs)\n",
    "print(\"Validation Set Arrays Shape:\", tp_vs_arrays.shape) # Shape: 50, 256, 256, 3"
   ]
  },
  {
   "cell_type": "markdown",
   "id": "ca22bdca-4b94-406f-8efb-5663a0d4a167",
   "metadata": {},
   "source": [
    "## 2.x. Converting Gt Images to Arrays (tp_mask_ts)"
   ]
  },
  {
   "cell_type": "code",
   "execution_count": 35,
   "id": "0deacdbe-691a-4190-b677-ad9d17a0bb3b",
   "metadata": {},
   "outputs": [
    {
     "name": "stderr",
     "output_type": "stream",
     "text": [
      "Converting Images to Arrays: 100%|███████████████████████████████████████████████| 800/800 [00:02<00:00, 326.21image/s]"
     ]
    },
    {
     "name": "stdout",
     "output_type": "stream",
     "text": [
      "Train Set Arrays Shape: (800, 256, 256)\n"
     ]
    },
    {
     "name": "stderr",
     "output_type": "stream",
     "text": [
      "\n"
     ]
    }
   ],
   "source": [
    "# Convert images to arrays for train set's targets\n",
    "tp_mask_ts_arrays = images_to_arrays(tp_mask_ts)\n",
    "print(\"Train Set Arrays Shape:\", tp_mask_ts_arrays.shape) # Shape: 200, 256, 256"
   ]
  },
  {
   "cell_type": "markdown",
   "id": "b14dec91-eb29-4ca0-956d-312b7e8d67b3",
   "metadata": {},
   "source": [
    "## 2.x. Data Type Checking, Conversion, & Standardization"
   ]
  },
  {
   "cell_type": "code",
   "execution_count": 36,
   "id": "b6b5dc38-3974-41c5-aca1-80249aca3cf0",
   "metadata": {},
   "outputs": [
    {
     "name": "stdout",
     "output_type": "stream",
     "text": [
      "Current dtype of tp_ts_arrays: uint8\n",
      "Current dtype of tp_vs_arrays: uint8\n",
      "Current dtype of tp_mask_ts_arrays: uint8\n"
     ]
    }
   ],
   "source": [
    "# Check current dtype\n",
    "print(\"Current dtype of tp_ts_arrays:\", tp_ts_arrays.dtype)\n",
    "print(\"Current dtype of tp_vs_arrays:\", tp_vs_arrays.dtype)\n",
    "print(\"Current dtype of tp_mask_ts_arrays:\", tp_mask_ts_arrays.dtype)"
   ]
  },
  {
   "cell_type": "code",
   "execution_count": 37,
   "id": "f9b9251c-6b52-4702-b6eb-b171f959606b",
   "metadata": {},
   "outputs": [],
   "source": [
    "def convert_dtype(array, dtype=np.uint8):\n",
    "    # Convert data type of array\n",
    "    return array.astype(dtype)"
   ]
  },
  {
   "cell_type": "code",
   "execution_count": 38,
   "id": "3b35a839-17b1-44a1-9f8e-a9d62d07e5d6",
   "metadata": {},
   "outputs": [],
   "source": [
    "# Convert arrays to the desired data type\n",
    "tp_ts_arrays = convert_dtype(tp_ts_arrays)\n",
    "tp_vs_arrays = convert_dtype(tp_vs_arrays)\n",
    "tp_mask_ts_arrays = convert_dtype(tp_mask_ts_arrays)"
   ]
  },
  {
   "cell_type": "code",
   "execution_count": 39,
   "id": "735e4166-fb91-4bcc-88a1-ae1709ecf71e",
   "metadata": {},
   "outputs": [
    {
     "name": "stdout",
     "output_type": "stream",
     "text": [
      "New dtype of tp_ts_arrays: uint8\n",
      "New dtype of tp_vs_arrays: uint8\n",
      "New dtype of tp_mask_ts_arrays: uint8\n"
     ]
    }
   ],
   "source": [
    "# Print new datatype\n",
    "print(\"New dtype of tp_ts_arrays:\", tp_ts_arrays.dtype) # uint8\n",
    "print(\"New dtype of tp_vs_arrays:\", tp_vs_arrays.dtype) # uint8\n",
    "print(\"New dtype of tp_mask_ts_arrays:\", tp_mask_ts_arrays.dtype) # uint8"
   ]
  },
  {
   "cell_type": "markdown",
   "id": "d16454df-a05c-48f1-ba34-0a116d803f16",
   "metadata": {},
   "source": [
    "# 3. Train Test Split"
   ]
  },
  {
   "cell_type": "code",
   "execution_count": 208,
   "id": "9145ba81-cb43-45d3-9497-c2dfbdba2e2e",
   "metadata": {},
   "outputs": [],
   "source": [
    "def load_images_and_masks(directory):\n",
    "    files = os.listdir(directory)\n",
    "    data = []\n",
    "    for file in files:\n",
    "        file_path = os.path.join(directory, file)\n",
    "        image = Image.open(file_path)\n",
    "        data.append(np.array(image))\n",
    "    return data"
   ]
  },
  {
   "cell_type": "code",
   "execution_count": 209,
   "id": "a68e4c96-4795-48c0-ad8b-32e888d44963",
   "metadata": {},
   "outputs": [],
   "source": [
    "# Source directories\n",
    "tp_trainset_dir = \"train_set/tp_trainset\"\n",
    "tp_mask_trainset_dir = \"train_set/tp_mask_trainset\""
   ]
  },
  {
   "cell_type": "code",
   "execution_count": 210,
   "id": "d01d5a2e-1141-4235-a26e-a13572bfd7c3",
   "metadata": {},
   "outputs": [],
   "source": [
    "# Load tampered images and masks\n",
    "tp_trainset = load_images_and_masks(tp_trainset_dir)\n",
    "tp_mask_trainset = load_images_and_masks(tp_mask_trainset_dir)"
   ]
  },
  {
   "cell_type": "code",
   "execution_count": 211,
   "id": "8d7513c8-4ddc-4539-b385-e143f786bbe6",
   "metadata": {},
   "outputs": [],
   "source": [
    "# Concatenate images and masks into a single array\n",
    "X = np.array(tp_trainset) # training images\n",
    "y = np.array(tp_mask_trainset) # corresponding masks, targets"
   ]
  },
  {
   "cell_type": "code",
   "execution_count": 212,
   "id": "62ddae59-6fa0-4cad-b848-d348d712560b",
   "metadata": {},
   "outputs": [],
   "source": [
    "# Split the data into train and test sets, stratified by y (masks)\n",
    "X_train, X_test, y_train, y_test = train_test_split(X, \n",
    "                                                    y, \n",
    "                                                    test_size=0.2, \n",
    "                                                    random_state=42)"
   ]
  },
  {
   "cell_type": "code",
   "execution_count": 213,
   "id": "2c796138-a465-4562-b09d-a1888947d9b7",
   "metadata": {},
   "outputs": [
    {
     "name": "stdout",
     "output_type": "stream",
     "text": [
      "X_train shape: (640, 256, 256, 3)\n",
      "X_test shape: (160, 256, 256, 3)\n",
      "y_train shape: (640, 256, 256)\n",
      "y_test shape: (160, 256, 256)\n"
     ]
    }
   ],
   "source": [
    "# Print shapes of train and test sets\n",
    "print(\"X_train shape:\", X_train.shape)  # (640, 256, 256, 3)\n",
    "print(\"X_test shape:\", X_test.shape)    # (160, 256, 256, 3)\n",
    "print(\"y_train shape:\", y_train.shape)  # (640, 256, 256)\n",
    "print(\"y_test shape:\", y_test.shape)    # (160, 256, 256)"
   ]
  },
  {
   "cell_type": "markdown",
   "id": "a762e976-5041-421b-bf57-6c0b29683ffb",
   "metadata": {},
   "source": [
    "# 4. Model Implementation"
   ]
  },
  {
   "cell_type": "markdown",
   "id": "b82f2c5b-4d54-4b73-b44d-4ed8f7f60990",
   "metadata": {},
   "source": [
    "## 4.x. Implementing the Pre-Trained U-Net Model"
   ]
  },
  {
   "cell_type": "code",
   "execution_count": 27,
   "id": "0f64c632-fd53-45ad-9319-8a2b9e02e9bb",
   "metadata": {},
   "outputs": [],
   "source": [
    "# Define input tensor shape (256x256x3)\n",
    "input_img = Input((256, 256, 3))"
   ]
  },
  {
   "cell_type": "code",
   "execution_count": 28,
   "id": "3a1a7568-aa3f-4e7f-be28-1f7b2942a005",
   "metadata": {},
   "outputs": [],
   "source": [
    "def conv2d_block(input_tensor, n_filters, kernel_size=3, batchnorm=True):\n",
    "    \"\"\"Function to add 2 convolutional layers with the parameters passed to it\"\"\"\n",
    "    # first layer\n",
    "    x = tf.keras.layers.Conv2D(filters=n_filters, kernel_size=(kernel_size, kernel_size),\n",
    "                                kernel_initializer='he_normal', padding='same')(input_tensor)\n",
    "    if batchnorm:\n",
    "        x = tf.keras.layers.BatchNormalization()(x)\n",
    "    x = tf.keras.layers.Activation('relu')(x)\n",
    "\n",
    "    # second layer\n",
    "    x = tf.keras.layers.Conv2D(filters=n_filters, kernel_size=(kernel_size, kernel_size),\n",
    "                                kernel_initializer='he_normal', padding='same')(x)\n",
    "    if batchnorm:\n",
    "        x = tf.keras.layers.BatchNormalization()(x)\n",
    "    x = tf.keras.layers.Activation('relu')(x)\n",
    "\n",
    "    return x"
   ]
  },
  {
   "cell_type": "code",
   "execution_count": 29,
   "id": "e639fa91-d095-4673-b659-d9e2cb999122",
   "metadata": {},
   "outputs": [],
   "source": [
    "def get_unet(input_img, n_filters=16, dropout=0.1, batchnorm=True):\n",
    "    \"\"\"Function to define the UNET Model\"\"\"\n",
    "    # Contracting Path\n",
    "    c1 = conv2d_block(input_img, n_filters * 1, kernel_size=3, batchnorm=batchnorm)\n",
    "    p1 = tf.keras.layers.MaxPooling2D((2, 2))(c1)\n",
    "    # p1 = tf.keras.layers.Dropout(dropout)(p1)\n",
    "\n",
    "    c2 = conv2d_block(p1, n_filters * 2, kernel_size=3, batchnorm=batchnorm)\n",
    "    p2 = tf.keras.layers.MaxPooling2D((2, 2))(c2)\n",
    "    # p2 = tf.keras.layers.Dropout(dropout)(p2)\n",
    "\n",
    "    c3 = conv2d_block(p2, n_filters * 4, kernel_size=3, batchnorm=batchnorm)\n",
    "    p3 = tf.keras.layers.MaxPooling2D((2, 2))(c3)\n",
    "    # p3 = tf.keras.layers.Dropout(dropout)(p3)\n",
    "\n",
    "    c4 = conv2d_block(p3, n_filters * 8, kernel_size=3, batchnorm=batchnorm)\n",
    "    p4 = tf.keras.layers.MaxPooling2D((2, 2))(c4)\n",
    "    p4 = tf.keras.layers.Dropout(dropout)(p4)\n",
    "\n",
    "    # Bottleneck\n",
    "    c5 = conv2d_block(p4, n_filters * 16, kernel_size=3, batchnorm=batchnorm)\n",
    "\n",
    "    # Expansive Path\n",
    "    u6 = tf.keras.layers.Conv2DTranspose(n_filters * 8, (3, 3), strides=(2, 2), padding='same')(c5)\n",
    "    u6 = tf.keras.layers.concatenate([u6, c4])\n",
    "    c6 = conv2d_block(u6, n_filters * 8, kernel_size=3, batchnorm=batchnorm)\n",
    "\n",
    "    u7 = tf.keras.layers.Conv2DTranspose(n_filters * 4, (3, 3), strides=(2, 2), padding='same')(c6)\n",
    "    u7 = tf.keras.layers.concatenate([u7, c3])\n",
    "    c7 = conv2d_block(u7, n_filters * 4, kernel_size=3, batchnorm=batchnorm)\n",
    "\n",
    "    u8 = tf.keras.layers.Conv2DTranspose(n_filters * 2, (3, 3), strides=(2, 2), padding='same')(c7)\n",
    "    u8 = tf.keras.layers.concatenate([u8, c2])\n",
    "    c8 = conv2d_block(u8, n_filters * 2, kernel_size=3, batchnorm=batchnorm)\n",
    "\n",
    "    u9 = tf.keras.layers.Conv2DTranspose(n_filters * 1, (3, 3), strides=(2, 2), padding='same')(c8)\n",
    "    u9 = tf.keras.layers.concatenate([u9, c1])\n",
    "    c9 = conv2d_block(u9, n_filters * 1, kernel_size=3, batchnorm=batchnorm)\n",
    "\n",
    "    outputs = tf.keras.layers.Conv2D(1, (1, 1), activation='sigmoid')(c9)\n",
    "    model = tf.keras.models.Model(inputs=[input_img], outputs=[outputs])\n",
    "    return model"
   ]
  },
  {
   "cell_type": "code",
   "execution_count": 30,
   "id": "22b74d35-d50c-4b20-a890-ef135c83fd23",
   "metadata": {},
   "outputs": [],
   "source": [
    "# Build U-Net model with specified parameters\n",
    "model_unet = get_unet(\n",
    "    input_img,         # Input image tensor\n",
    "    n_filters=16,      # Default no. of filters in the convolutional layers\n",
    "    dropout=0.05,      # Default dropout rate\n",
    "    batchnorm=True     # Whether to use batch normalization, set to True\n",
    ")"
   ]
  },
  {
   "cell_type": "code",
   "execution_count": 31,
   "id": "a39e859c-48c5-4228-9672-1da74fb6a94d",
   "metadata": {},
   "outputs": [],
   "source": [
    "# Freeze layers\n",
    "# for layer in model_unet.layers[:7]:\n",
    "    #layer.trainable = False"
   ]
  },
  {
   "cell_type": "markdown",
   "id": "b2d35ce7-c333-4e28-86a6-56807beb140b",
   "metadata": {},
   "source": [
    "## 4.x. Model Callbacks"
   ]
  },
  {
   "cell_type": "code",
   "execution_count": 32,
   "id": "e829db15-1474-4f92-b5e0-ed07e0e15f1c",
   "metadata": {},
   "outputs": [],
   "source": [
    "# Path where checkpoints will be saved\n",
    "checkPoint_path = \"checkpoints_newnet\""
   ]
  },
  {
   "cell_type": "code",
   "execution_count": 33,
   "id": "a0a93a20-cf12-4927-bdc3-fe13a276b9b4",
   "metadata": {},
   "outputs": [],
   "source": [
    "# Defining file path pattern for saving model weights\n",
    "filepath = os.path.join(checkPoint_path, \"weights-improvement-{val_accuracy:.2f}.keras\")"
   ]
  },
  {
   "cell_type": "code",
   "execution_count": 34,
   "id": "94ed752e-4c41-40e7-92e6-40a300cb4fd3",
   "metadata": {},
   "outputs": [],
   "source": [
    "# Defining a ModelCheckpoint callback to save the best model weights based on validation accuracy\n",
    "checkpoint = ModelCheckpoint(\n",
    "    filepath,                      # File path pattern for saving model weights\n",
    "    monitor='val_accuracy',        # Metric to monitor for saving the best model\n",
    "    verbose=1,                     # Verbosity mode (1: print updates, 0: silent)\n",
    "    save_best_only=True,           # Save only the best model based on the monitored metric\n",
    "    mode='max'                     # Mode for optimizing the monitored metric (max: maximize accuracy)\n",
    ")"
   ]
  },
  {
   "cell_type": "code",
   "execution_count": 35,
   "id": "3402ed92-bc76-4dc2-b6a3-0529bfb68895",
   "metadata": {},
   "outputs": [],
   "source": [
    "# Path for TensorBoard logs\n",
    "log_dir = os.path.join(\"logs_newnet\", \"model_logs_newnet_\" + datetime.datetime.now().strftime(\"%Y%m%d-%H%M%S\"))"
   ]
  },
  {
   "cell_type": "code",
   "execution_count": 36,
   "id": "dc7bb526-7c71-4fe2-9d36-e42737824b61",
   "metadata": {},
   "outputs": [],
   "source": [
    "# Define a TensorBoard callback to log training metrics for visualization\n",
    "tensorboard_callback = TensorBoard(\n",
    "    log_dir=log_dir,          # Path for storing TensorBoard logs\n",
    "    histogram_freq=3          # Frequency (in epochs) for computing histogram summaries\n",
    ")\n",
    "\n",
    "# Define an EarlyStopping callback\n",
    "early_stopping = EarlyStopping(\n",
    "    monitor='val_accuracy',   # Metric to monitor\n",
    "    patience=3,               # Number of epochs with no improvement after which training will be stopped\n",
    "    verbose=1,                # Verbosity mode\n",
    "    mode='max'                # Mode for optimizing the monitored metric\n",
    ")"
   ]
  },
  {
   "cell_type": "code",
   "execution_count": 37,
   "id": "51d64d5d-5839-4b65-9064-832339fa9e4c",
   "metadata": {},
   "outputs": [],
   "source": [
    "# Combinining callbacks to a list\n",
    "callbacks_list = [\n",
    "    checkpoint, \n",
    "    tensorboard_callback,\n",
    "    early_stopping\n",
    "]"
   ]
  },
  {
   "cell_type": "markdown",
   "id": "23456c6b-7aea-46f3-b2bf-89fece20602f",
   "metadata": {},
   "source": [
    "## 4.x. Compile the Model"
   ]
  },
  {
   "cell_type": "code",
   "execution_count": 38,
   "id": "32fc87dc-bc15-4106-9ca3-034ba24a769e",
   "metadata": {},
   "outputs": [
    {
     "name": "stdout",
     "output_type": "stream",
     "text": [
      "Class Weights: {0: 0.25, 1: 0.75}\n"
     ]
    }
   ],
   "source": [
    "total_pixels = 1.0  # Total number of pixels (normalized to 1)\n",
    "class_0_ratio = 0.75  # Ratio of class 0 pixels\n",
    "class_1_ratio = 0.25  # Ratio of class 1 pixels\n",
    "\n",
    "# Calculate the inverse of the ratios to get the relative importance\n",
    "class_0_weight = total_pixels / class_0_ratio\n",
    "class_1_weight = total_pixels / class_1_ratio\n",
    "\n",
    "# Normalize the weights so that their sum equals the number of classes\n",
    "weight_sum = class_0_weight + class_1_weight\n",
    "class_0_weight /= weight_sum\n",
    "class_1_weight /= weight_sum\n",
    "\n",
    "class_weights = {0: class_0_weight, 1: class_1_weight}\n",
    "print(\"Class Weights:\", class_weights)"
   ]
  },
  {
   "cell_type": "code",
   "execution_count": 39,
   "id": "3d274ebd-2637-4355-a1ba-dfe77b1591dd",
   "metadata": {},
   "outputs": [],
   "source": [
    "learning_rate = 0.001\n",
    "optimizer = Adam(learning_rate=learning_rate)"
   ]
  },
  {
   "cell_type": "code",
   "execution_count": 40,
   "id": "51e45bc2-1392-480e-adac-dfbffe388adf",
   "metadata": {},
   "outputs": [],
   "source": [
    "# Compile the model with weighted binary cross-entropy\n",
    "model_unet.compile(optimizer=optimizer, \n",
    "                   loss=tf.keras.losses.BinaryCrossentropy(from_logits=True),\n",
    "                   metrics=['accuracy']\n",
    "                  )"
   ]
  },
  {
   "cell_type": "markdown",
   "id": "0047e760-1ba5-4165-a6c7-14200b4611ff",
   "metadata": {},
   "source": [
    "# 5.x. Model Fitting"
   ]
  },
  {
   "cell_type": "markdown",
   "id": "14eb4f87-aeac-4ba8-aae0-6212e20d1d8b",
   "metadata": {},
   "source": [
    "## 5.x. Loading Initial Weights"
   ]
  },
  {
   "cell_type": "code",
   "execution_count": 437,
   "id": "1912b8ff-68c1-42cd-937b-65d666a1d943",
   "metadata": {},
   "outputs": [],
   "source": [
    "# Defining path for initial weights, it specifies the .keras file containing the weights\n",
    "# Always load the .keras file with the best weights (manually/hard-coded)\n",
    "pt_initial_wts_path = \"checkpoints_newnet/weights-improvement-0.73.keras\""
   ]
  },
  {
   "cell_type": "code",
   "execution_count": 438,
   "id": "7d8ef0e6-c0b7-4f84-950b-1630b8e97239",
   "metadata": {},
   "outputs": [],
   "source": [
    "# Loading the pre-trained weights\n",
    "model_unet.load_weights(pt_initial_wts_path)"
   ]
  },
  {
   "cell_type": "code",
   "execution_count": 439,
   "id": "9ea506a2-2c3b-45ec-9564-f3006e15eeda",
   "metadata": {},
   "outputs": [
    {
     "data": {
      "text/html": [
       "<pre style=\"white-space:pre;overflow-x:auto;line-height:normal;font-family:Menlo,'DejaVu Sans Mono',consolas,'Courier New',monospace\"><span style=\"font-weight: bold\">Model: \"functional_19\"</span>\n",
       "</pre>\n"
      ],
      "text/plain": [
       "\u001b[1mModel: \"functional_19\"\u001b[0m\n"
      ]
     },
     "metadata": {},
     "output_type": "display_data"
    },
    {
     "data": {
      "text/html": [
       "<pre style=\"white-space:pre;overflow-x:auto;line-height:normal;font-family:Menlo,'DejaVu Sans Mono',consolas,'Courier New',monospace\">┏━━━━━━━━━━━━━━━━━━━━━━━━━━━━━━━┳━━━━━━━━━━━━━━━━━━━━━━━━━━━┳━━━━━━━━━━━━━━━━━┳━━━━━━━━━━━━━━━━━━━━━━━━━━━━┓\n",
       "┃<span style=\"font-weight: bold\"> Layer (type)                  </span>┃<span style=\"font-weight: bold\"> Output Shape              </span>┃<span style=\"font-weight: bold\">         Param # </span>┃<span style=\"font-weight: bold\"> Connected to               </span>┃\n",
       "┡━━━━━━━━━━━━━━━━━━━━━━━━━━━━━━━╇━━━━━━━━━━━━━━━━━━━━━━━━━━━╇━━━━━━━━━━━━━━━━━╇━━━━━━━━━━━━━━━━━━━━━━━━━━━━┩\n",
       "│ input_layer_9 (<span style=\"color: #0087ff; text-decoration-color: #0087ff\">InputLayer</span>)    │ (<span style=\"color: #00d7ff; text-decoration-color: #00d7ff\">None</span>, <span style=\"color: #00af00; text-decoration-color: #00af00\">256</span>, <span style=\"color: #00af00; text-decoration-color: #00af00\">256</span>, <span style=\"color: #00af00; text-decoration-color: #00af00\">3</span>)       │               <span style=\"color: #00af00; text-decoration-color: #00af00\">0</span> │ -                          │\n",
       "├───────────────────────────────┼───────────────────────────┼─────────────────┼────────────────────────────┤\n",
       "│ conv2d_171 (<span style=\"color: #0087ff; text-decoration-color: #0087ff\">Conv2D</span>)           │ (<span style=\"color: #00d7ff; text-decoration-color: #00d7ff\">None</span>, <span style=\"color: #00af00; text-decoration-color: #00af00\">256</span>, <span style=\"color: #00af00; text-decoration-color: #00af00\">256</span>, <span style=\"color: #00af00; text-decoration-color: #00af00\">16</span>)      │             <span style=\"color: #00af00; text-decoration-color: #00af00\">448</span> │ input_layer_9[<span style=\"color: #00af00; text-decoration-color: #00af00\">0</span>][<span style=\"color: #00af00; text-decoration-color: #00af00\">0</span>]        │\n",
       "├───────────────────────────────┼───────────────────────────┼─────────────────┼────────────────────────────┤\n",
       "│ batch_normalization_162       │ (<span style=\"color: #00d7ff; text-decoration-color: #00d7ff\">None</span>, <span style=\"color: #00af00; text-decoration-color: #00af00\">256</span>, <span style=\"color: #00af00; text-decoration-color: #00af00\">256</span>, <span style=\"color: #00af00; text-decoration-color: #00af00\">16</span>)      │              <span style=\"color: #00af00; text-decoration-color: #00af00\">64</span> │ conv2d_171[<span style=\"color: #00af00; text-decoration-color: #00af00\">0</span>][<span style=\"color: #00af00; text-decoration-color: #00af00\">0</span>]           │\n",
       "│ (<span style=\"color: #0087ff; text-decoration-color: #0087ff\">BatchNormalization</span>)          │                           │                 │                            │\n",
       "├───────────────────────────────┼───────────────────────────┼─────────────────┼────────────────────────────┤\n",
       "│ activation_162 (<span style=\"color: #0087ff; text-decoration-color: #0087ff\">Activation</span>)   │ (<span style=\"color: #00d7ff; text-decoration-color: #00d7ff\">None</span>, <span style=\"color: #00af00; text-decoration-color: #00af00\">256</span>, <span style=\"color: #00af00; text-decoration-color: #00af00\">256</span>, <span style=\"color: #00af00; text-decoration-color: #00af00\">16</span>)      │               <span style=\"color: #00af00; text-decoration-color: #00af00\">0</span> │ batch_normalization_162[<span style=\"color: #00af00; text-decoration-color: #00af00\">0</span>… │\n",
       "├───────────────────────────────┼───────────────────────────┼─────────────────┼────────────────────────────┤\n",
       "│ conv2d_172 (<span style=\"color: #0087ff; text-decoration-color: #0087ff\">Conv2D</span>)           │ (<span style=\"color: #00d7ff; text-decoration-color: #00d7ff\">None</span>, <span style=\"color: #00af00; text-decoration-color: #00af00\">256</span>, <span style=\"color: #00af00; text-decoration-color: #00af00\">256</span>, <span style=\"color: #00af00; text-decoration-color: #00af00\">16</span>)      │           <span style=\"color: #00af00; text-decoration-color: #00af00\">2,320</span> │ activation_162[<span style=\"color: #00af00; text-decoration-color: #00af00\">0</span>][<span style=\"color: #00af00; text-decoration-color: #00af00\">0</span>]       │\n",
       "├───────────────────────────────┼───────────────────────────┼─────────────────┼────────────────────────────┤\n",
       "│ batch_normalization_163       │ (<span style=\"color: #00d7ff; text-decoration-color: #00d7ff\">None</span>, <span style=\"color: #00af00; text-decoration-color: #00af00\">256</span>, <span style=\"color: #00af00; text-decoration-color: #00af00\">256</span>, <span style=\"color: #00af00; text-decoration-color: #00af00\">16</span>)      │              <span style=\"color: #00af00; text-decoration-color: #00af00\">64</span> │ conv2d_172[<span style=\"color: #00af00; text-decoration-color: #00af00\">0</span>][<span style=\"color: #00af00; text-decoration-color: #00af00\">0</span>]           │\n",
       "│ (<span style=\"color: #0087ff; text-decoration-color: #0087ff\">BatchNormalization</span>)          │                           │                 │                            │\n",
       "├───────────────────────────────┼───────────────────────────┼─────────────────┼────────────────────────────┤\n",
       "│ activation_163 (<span style=\"color: #0087ff; text-decoration-color: #0087ff\">Activation</span>)   │ (<span style=\"color: #00d7ff; text-decoration-color: #00d7ff\">None</span>, <span style=\"color: #00af00; text-decoration-color: #00af00\">256</span>, <span style=\"color: #00af00; text-decoration-color: #00af00\">256</span>, <span style=\"color: #00af00; text-decoration-color: #00af00\">16</span>)      │               <span style=\"color: #00af00; text-decoration-color: #00af00\">0</span> │ batch_normalization_163[<span style=\"color: #00af00; text-decoration-color: #00af00\">0</span>… │\n",
       "├───────────────────────────────┼───────────────────────────┼─────────────────┼────────────────────────────┤\n",
       "│ max_pooling2d_36              │ (<span style=\"color: #00d7ff; text-decoration-color: #00d7ff\">None</span>, <span style=\"color: #00af00; text-decoration-color: #00af00\">128</span>, <span style=\"color: #00af00; text-decoration-color: #00af00\">128</span>, <span style=\"color: #00af00; text-decoration-color: #00af00\">16</span>)      │               <span style=\"color: #00af00; text-decoration-color: #00af00\">0</span> │ activation_163[<span style=\"color: #00af00; text-decoration-color: #00af00\">0</span>][<span style=\"color: #00af00; text-decoration-color: #00af00\">0</span>]       │\n",
       "│ (<span style=\"color: #0087ff; text-decoration-color: #0087ff\">MaxPooling2D</span>)                │                           │                 │                            │\n",
       "├───────────────────────────────┼───────────────────────────┼─────────────────┼────────────────────────────┤\n",
       "│ conv2d_173 (<span style=\"color: #0087ff; text-decoration-color: #0087ff\">Conv2D</span>)           │ (<span style=\"color: #00d7ff; text-decoration-color: #00d7ff\">None</span>, <span style=\"color: #00af00; text-decoration-color: #00af00\">128</span>, <span style=\"color: #00af00; text-decoration-color: #00af00\">128</span>, <span style=\"color: #00af00; text-decoration-color: #00af00\">32</span>)      │           <span style=\"color: #00af00; text-decoration-color: #00af00\">4,640</span> │ max_pooling2d_36[<span style=\"color: #00af00; text-decoration-color: #00af00\">0</span>][<span style=\"color: #00af00; text-decoration-color: #00af00\">0</span>]     │\n",
       "├───────────────────────────────┼───────────────────────────┼─────────────────┼────────────────────────────┤\n",
       "│ batch_normalization_164       │ (<span style=\"color: #00d7ff; text-decoration-color: #00d7ff\">None</span>, <span style=\"color: #00af00; text-decoration-color: #00af00\">128</span>, <span style=\"color: #00af00; text-decoration-color: #00af00\">128</span>, <span style=\"color: #00af00; text-decoration-color: #00af00\">32</span>)      │             <span style=\"color: #00af00; text-decoration-color: #00af00\">128</span> │ conv2d_173[<span style=\"color: #00af00; text-decoration-color: #00af00\">0</span>][<span style=\"color: #00af00; text-decoration-color: #00af00\">0</span>]           │\n",
       "│ (<span style=\"color: #0087ff; text-decoration-color: #0087ff\">BatchNormalization</span>)          │                           │                 │                            │\n",
       "├───────────────────────────────┼───────────────────────────┼─────────────────┼────────────────────────────┤\n",
       "│ activation_164 (<span style=\"color: #0087ff; text-decoration-color: #0087ff\">Activation</span>)   │ (<span style=\"color: #00d7ff; text-decoration-color: #00d7ff\">None</span>, <span style=\"color: #00af00; text-decoration-color: #00af00\">128</span>, <span style=\"color: #00af00; text-decoration-color: #00af00\">128</span>, <span style=\"color: #00af00; text-decoration-color: #00af00\">32</span>)      │               <span style=\"color: #00af00; text-decoration-color: #00af00\">0</span> │ batch_normalization_164[<span style=\"color: #00af00; text-decoration-color: #00af00\">0</span>… │\n",
       "├───────────────────────────────┼───────────────────────────┼─────────────────┼────────────────────────────┤\n",
       "│ conv2d_174 (<span style=\"color: #0087ff; text-decoration-color: #0087ff\">Conv2D</span>)           │ (<span style=\"color: #00d7ff; text-decoration-color: #00d7ff\">None</span>, <span style=\"color: #00af00; text-decoration-color: #00af00\">128</span>, <span style=\"color: #00af00; text-decoration-color: #00af00\">128</span>, <span style=\"color: #00af00; text-decoration-color: #00af00\">32</span>)      │           <span style=\"color: #00af00; text-decoration-color: #00af00\">9,248</span> │ activation_164[<span style=\"color: #00af00; text-decoration-color: #00af00\">0</span>][<span style=\"color: #00af00; text-decoration-color: #00af00\">0</span>]       │\n",
       "├───────────────────────────────┼───────────────────────────┼─────────────────┼────────────────────────────┤\n",
       "│ batch_normalization_165       │ (<span style=\"color: #00d7ff; text-decoration-color: #00d7ff\">None</span>, <span style=\"color: #00af00; text-decoration-color: #00af00\">128</span>, <span style=\"color: #00af00; text-decoration-color: #00af00\">128</span>, <span style=\"color: #00af00; text-decoration-color: #00af00\">32</span>)      │             <span style=\"color: #00af00; text-decoration-color: #00af00\">128</span> │ conv2d_174[<span style=\"color: #00af00; text-decoration-color: #00af00\">0</span>][<span style=\"color: #00af00; text-decoration-color: #00af00\">0</span>]           │\n",
       "│ (<span style=\"color: #0087ff; text-decoration-color: #0087ff\">BatchNormalization</span>)          │                           │                 │                            │\n",
       "├───────────────────────────────┼───────────────────────────┼─────────────────┼────────────────────────────┤\n",
       "│ activation_165 (<span style=\"color: #0087ff; text-decoration-color: #0087ff\">Activation</span>)   │ (<span style=\"color: #00d7ff; text-decoration-color: #00d7ff\">None</span>, <span style=\"color: #00af00; text-decoration-color: #00af00\">128</span>, <span style=\"color: #00af00; text-decoration-color: #00af00\">128</span>, <span style=\"color: #00af00; text-decoration-color: #00af00\">32</span>)      │               <span style=\"color: #00af00; text-decoration-color: #00af00\">0</span> │ batch_normalization_165[<span style=\"color: #00af00; text-decoration-color: #00af00\">0</span>… │\n",
       "├───────────────────────────────┼───────────────────────────┼─────────────────┼────────────────────────────┤\n",
       "│ max_pooling2d_37              │ (<span style=\"color: #00d7ff; text-decoration-color: #00d7ff\">None</span>, <span style=\"color: #00af00; text-decoration-color: #00af00\">64</span>, <span style=\"color: #00af00; text-decoration-color: #00af00\">64</span>, <span style=\"color: #00af00; text-decoration-color: #00af00\">32</span>)        │               <span style=\"color: #00af00; text-decoration-color: #00af00\">0</span> │ activation_165[<span style=\"color: #00af00; text-decoration-color: #00af00\">0</span>][<span style=\"color: #00af00; text-decoration-color: #00af00\">0</span>]       │\n",
       "│ (<span style=\"color: #0087ff; text-decoration-color: #0087ff\">MaxPooling2D</span>)                │                           │                 │                            │\n",
       "├───────────────────────────────┼───────────────────────────┼─────────────────┼────────────────────────────┤\n",
       "│ conv2d_175 (<span style=\"color: #0087ff; text-decoration-color: #0087ff\">Conv2D</span>)           │ (<span style=\"color: #00d7ff; text-decoration-color: #00d7ff\">None</span>, <span style=\"color: #00af00; text-decoration-color: #00af00\">64</span>, <span style=\"color: #00af00; text-decoration-color: #00af00\">64</span>, <span style=\"color: #00af00; text-decoration-color: #00af00\">64</span>)        │          <span style=\"color: #00af00; text-decoration-color: #00af00\">18,496</span> │ max_pooling2d_37[<span style=\"color: #00af00; text-decoration-color: #00af00\">0</span>][<span style=\"color: #00af00; text-decoration-color: #00af00\">0</span>]     │\n",
       "├───────────────────────────────┼───────────────────────────┼─────────────────┼────────────────────────────┤\n",
       "│ batch_normalization_166       │ (<span style=\"color: #00d7ff; text-decoration-color: #00d7ff\">None</span>, <span style=\"color: #00af00; text-decoration-color: #00af00\">64</span>, <span style=\"color: #00af00; text-decoration-color: #00af00\">64</span>, <span style=\"color: #00af00; text-decoration-color: #00af00\">64</span>)        │             <span style=\"color: #00af00; text-decoration-color: #00af00\">256</span> │ conv2d_175[<span style=\"color: #00af00; text-decoration-color: #00af00\">0</span>][<span style=\"color: #00af00; text-decoration-color: #00af00\">0</span>]           │\n",
       "│ (<span style=\"color: #0087ff; text-decoration-color: #0087ff\">BatchNormalization</span>)          │                           │                 │                            │\n",
       "├───────────────────────────────┼───────────────────────────┼─────────────────┼────────────────────────────┤\n",
       "│ activation_166 (<span style=\"color: #0087ff; text-decoration-color: #0087ff\">Activation</span>)   │ (<span style=\"color: #00d7ff; text-decoration-color: #00d7ff\">None</span>, <span style=\"color: #00af00; text-decoration-color: #00af00\">64</span>, <span style=\"color: #00af00; text-decoration-color: #00af00\">64</span>, <span style=\"color: #00af00; text-decoration-color: #00af00\">64</span>)        │               <span style=\"color: #00af00; text-decoration-color: #00af00\">0</span> │ batch_normalization_166[<span style=\"color: #00af00; text-decoration-color: #00af00\">0</span>… │\n",
       "├───────────────────────────────┼───────────────────────────┼─────────────────┼────────────────────────────┤\n",
       "│ conv2d_176 (<span style=\"color: #0087ff; text-decoration-color: #0087ff\">Conv2D</span>)           │ (<span style=\"color: #00d7ff; text-decoration-color: #00d7ff\">None</span>, <span style=\"color: #00af00; text-decoration-color: #00af00\">64</span>, <span style=\"color: #00af00; text-decoration-color: #00af00\">64</span>, <span style=\"color: #00af00; text-decoration-color: #00af00\">64</span>)        │          <span style=\"color: #00af00; text-decoration-color: #00af00\">36,928</span> │ activation_166[<span style=\"color: #00af00; text-decoration-color: #00af00\">0</span>][<span style=\"color: #00af00; text-decoration-color: #00af00\">0</span>]       │\n",
       "├───────────────────────────────┼───────────────────────────┼─────────────────┼────────────────────────────┤\n",
       "│ batch_normalization_167       │ (<span style=\"color: #00d7ff; text-decoration-color: #00d7ff\">None</span>, <span style=\"color: #00af00; text-decoration-color: #00af00\">64</span>, <span style=\"color: #00af00; text-decoration-color: #00af00\">64</span>, <span style=\"color: #00af00; text-decoration-color: #00af00\">64</span>)        │             <span style=\"color: #00af00; text-decoration-color: #00af00\">256</span> │ conv2d_176[<span style=\"color: #00af00; text-decoration-color: #00af00\">0</span>][<span style=\"color: #00af00; text-decoration-color: #00af00\">0</span>]           │\n",
       "│ (<span style=\"color: #0087ff; text-decoration-color: #0087ff\">BatchNormalization</span>)          │                           │                 │                            │\n",
       "├───────────────────────────────┼───────────────────────────┼─────────────────┼────────────────────────────┤\n",
       "│ activation_167 (<span style=\"color: #0087ff; text-decoration-color: #0087ff\">Activation</span>)   │ (<span style=\"color: #00d7ff; text-decoration-color: #00d7ff\">None</span>, <span style=\"color: #00af00; text-decoration-color: #00af00\">64</span>, <span style=\"color: #00af00; text-decoration-color: #00af00\">64</span>, <span style=\"color: #00af00; text-decoration-color: #00af00\">64</span>)        │               <span style=\"color: #00af00; text-decoration-color: #00af00\">0</span> │ batch_normalization_167[<span style=\"color: #00af00; text-decoration-color: #00af00\">0</span>… │\n",
       "├───────────────────────────────┼───────────────────────────┼─────────────────┼────────────────────────────┤\n",
       "│ max_pooling2d_38              │ (<span style=\"color: #00d7ff; text-decoration-color: #00d7ff\">None</span>, <span style=\"color: #00af00; text-decoration-color: #00af00\">32</span>, <span style=\"color: #00af00; text-decoration-color: #00af00\">32</span>, <span style=\"color: #00af00; text-decoration-color: #00af00\">64</span>)        │               <span style=\"color: #00af00; text-decoration-color: #00af00\">0</span> │ activation_167[<span style=\"color: #00af00; text-decoration-color: #00af00\">0</span>][<span style=\"color: #00af00; text-decoration-color: #00af00\">0</span>]       │\n",
       "│ (<span style=\"color: #0087ff; text-decoration-color: #0087ff\">MaxPooling2D</span>)                │                           │                 │                            │\n",
       "├───────────────────────────────┼───────────────────────────┼─────────────────┼────────────────────────────┤\n",
       "│ conv2d_177 (<span style=\"color: #0087ff; text-decoration-color: #0087ff\">Conv2D</span>)           │ (<span style=\"color: #00d7ff; text-decoration-color: #00d7ff\">None</span>, <span style=\"color: #00af00; text-decoration-color: #00af00\">32</span>, <span style=\"color: #00af00; text-decoration-color: #00af00\">32</span>, <span style=\"color: #00af00; text-decoration-color: #00af00\">128</span>)       │          <span style=\"color: #00af00; text-decoration-color: #00af00\">73,856</span> │ max_pooling2d_38[<span style=\"color: #00af00; text-decoration-color: #00af00\">0</span>][<span style=\"color: #00af00; text-decoration-color: #00af00\">0</span>]     │\n",
       "├───────────────────────────────┼───────────────────────────┼─────────────────┼────────────────────────────┤\n",
       "│ batch_normalization_168       │ (<span style=\"color: #00d7ff; text-decoration-color: #00d7ff\">None</span>, <span style=\"color: #00af00; text-decoration-color: #00af00\">32</span>, <span style=\"color: #00af00; text-decoration-color: #00af00\">32</span>, <span style=\"color: #00af00; text-decoration-color: #00af00\">128</span>)       │             <span style=\"color: #00af00; text-decoration-color: #00af00\">512</span> │ conv2d_177[<span style=\"color: #00af00; text-decoration-color: #00af00\">0</span>][<span style=\"color: #00af00; text-decoration-color: #00af00\">0</span>]           │\n",
       "│ (<span style=\"color: #0087ff; text-decoration-color: #0087ff\">BatchNormalization</span>)          │                           │                 │                            │\n",
       "├───────────────────────────────┼───────────────────────────┼─────────────────┼────────────────────────────┤\n",
       "│ activation_168 (<span style=\"color: #0087ff; text-decoration-color: #0087ff\">Activation</span>)   │ (<span style=\"color: #00d7ff; text-decoration-color: #00d7ff\">None</span>, <span style=\"color: #00af00; text-decoration-color: #00af00\">32</span>, <span style=\"color: #00af00; text-decoration-color: #00af00\">32</span>, <span style=\"color: #00af00; text-decoration-color: #00af00\">128</span>)       │               <span style=\"color: #00af00; text-decoration-color: #00af00\">0</span> │ batch_normalization_168[<span style=\"color: #00af00; text-decoration-color: #00af00\">0</span>… │\n",
       "├───────────────────────────────┼───────────────────────────┼─────────────────┼────────────────────────────┤\n",
       "│ conv2d_178 (<span style=\"color: #0087ff; text-decoration-color: #0087ff\">Conv2D</span>)           │ (<span style=\"color: #00d7ff; text-decoration-color: #00d7ff\">None</span>, <span style=\"color: #00af00; text-decoration-color: #00af00\">32</span>, <span style=\"color: #00af00; text-decoration-color: #00af00\">32</span>, <span style=\"color: #00af00; text-decoration-color: #00af00\">128</span>)       │         <span style=\"color: #00af00; text-decoration-color: #00af00\">147,584</span> │ activation_168[<span style=\"color: #00af00; text-decoration-color: #00af00\">0</span>][<span style=\"color: #00af00; text-decoration-color: #00af00\">0</span>]       │\n",
       "├───────────────────────────────┼───────────────────────────┼─────────────────┼────────────────────────────┤\n",
       "│ batch_normalization_169       │ (<span style=\"color: #00d7ff; text-decoration-color: #00d7ff\">None</span>, <span style=\"color: #00af00; text-decoration-color: #00af00\">32</span>, <span style=\"color: #00af00; text-decoration-color: #00af00\">32</span>, <span style=\"color: #00af00; text-decoration-color: #00af00\">128</span>)       │             <span style=\"color: #00af00; text-decoration-color: #00af00\">512</span> │ conv2d_178[<span style=\"color: #00af00; text-decoration-color: #00af00\">0</span>][<span style=\"color: #00af00; text-decoration-color: #00af00\">0</span>]           │\n",
       "│ (<span style=\"color: #0087ff; text-decoration-color: #0087ff\">BatchNormalization</span>)          │                           │                 │                            │\n",
       "├───────────────────────────────┼───────────────────────────┼─────────────────┼────────────────────────────┤\n",
       "│ activation_169 (<span style=\"color: #0087ff; text-decoration-color: #0087ff\">Activation</span>)   │ (<span style=\"color: #00d7ff; text-decoration-color: #00d7ff\">None</span>, <span style=\"color: #00af00; text-decoration-color: #00af00\">32</span>, <span style=\"color: #00af00; text-decoration-color: #00af00\">32</span>, <span style=\"color: #00af00; text-decoration-color: #00af00\">128</span>)       │               <span style=\"color: #00af00; text-decoration-color: #00af00\">0</span> │ batch_normalization_169[<span style=\"color: #00af00; text-decoration-color: #00af00\">0</span>… │\n",
       "├───────────────────────────────┼───────────────────────────┼─────────────────┼────────────────────────────┤\n",
       "│ max_pooling2d_39              │ (<span style=\"color: #00d7ff; text-decoration-color: #00d7ff\">None</span>, <span style=\"color: #00af00; text-decoration-color: #00af00\">16</span>, <span style=\"color: #00af00; text-decoration-color: #00af00\">16</span>, <span style=\"color: #00af00; text-decoration-color: #00af00\">128</span>)       │               <span style=\"color: #00af00; text-decoration-color: #00af00\">0</span> │ activation_169[<span style=\"color: #00af00; text-decoration-color: #00af00\">0</span>][<span style=\"color: #00af00; text-decoration-color: #00af00\">0</span>]       │\n",
       "│ (<span style=\"color: #0087ff; text-decoration-color: #0087ff\">MaxPooling2D</span>)                │                           │                 │                            │\n",
       "├───────────────────────────────┼───────────────────────────┼─────────────────┼────────────────────────────┤\n",
       "│ dropout_14 (<span style=\"color: #0087ff; text-decoration-color: #0087ff\">Dropout</span>)          │ (<span style=\"color: #00d7ff; text-decoration-color: #00d7ff\">None</span>, <span style=\"color: #00af00; text-decoration-color: #00af00\">16</span>, <span style=\"color: #00af00; text-decoration-color: #00af00\">16</span>, <span style=\"color: #00af00; text-decoration-color: #00af00\">128</span>)       │               <span style=\"color: #00af00; text-decoration-color: #00af00\">0</span> │ max_pooling2d_39[<span style=\"color: #00af00; text-decoration-color: #00af00\">0</span>][<span style=\"color: #00af00; text-decoration-color: #00af00\">0</span>]     │\n",
       "├───────────────────────────────┼───────────────────────────┼─────────────────┼────────────────────────────┤\n",
       "│ conv2d_179 (<span style=\"color: #0087ff; text-decoration-color: #0087ff\">Conv2D</span>)           │ (<span style=\"color: #00d7ff; text-decoration-color: #00d7ff\">None</span>, <span style=\"color: #00af00; text-decoration-color: #00af00\">16</span>, <span style=\"color: #00af00; text-decoration-color: #00af00\">16</span>, <span style=\"color: #00af00; text-decoration-color: #00af00\">256</span>)       │         <span style=\"color: #00af00; text-decoration-color: #00af00\">295,168</span> │ dropout_14[<span style=\"color: #00af00; text-decoration-color: #00af00\">0</span>][<span style=\"color: #00af00; text-decoration-color: #00af00\">0</span>]           │\n",
       "├───────────────────────────────┼───────────────────────────┼─────────────────┼────────────────────────────┤\n",
       "│ batch_normalization_170       │ (<span style=\"color: #00d7ff; text-decoration-color: #00d7ff\">None</span>, <span style=\"color: #00af00; text-decoration-color: #00af00\">16</span>, <span style=\"color: #00af00; text-decoration-color: #00af00\">16</span>, <span style=\"color: #00af00; text-decoration-color: #00af00\">256</span>)       │           <span style=\"color: #00af00; text-decoration-color: #00af00\">1,024</span> │ conv2d_179[<span style=\"color: #00af00; text-decoration-color: #00af00\">0</span>][<span style=\"color: #00af00; text-decoration-color: #00af00\">0</span>]           │\n",
       "│ (<span style=\"color: #0087ff; text-decoration-color: #0087ff\">BatchNormalization</span>)          │                           │                 │                            │\n",
       "├───────────────────────────────┼───────────────────────────┼─────────────────┼────────────────────────────┤\n",
       "│ activation_170 (<span style=\"color: #0087ff; text-decoration-color: #0087ff\">Activation</span>)   │ (<span style=\"color: #00d7ff; text-decoration-color: #00d7ff\">None</span>, <span style=\"color: #00af00; text-decoration-color: #00af00\">16</span>, <span style=\"color: #00af00; text-decoration-color: #00af00\">16</span>, <span style=\"color: #00af00; text-decoration-color: #00af00\">256</span>)       │               <span style=\"color: #00af00; text-decoration-color: #00af00\">0</span> │ batch_normalization_170[<span style=\"color: #00af00; text-decoration-color: #00af00\">0</span>… │\n",
       "├───────────────────────────────┼───────────────────────────┼─────────────────┼────────────────────────────┤\n",
       "│ conv2d_180 (<span style=\"color: #0087ff; text-decoration-color: #0087ff\">Conv2D</span>)           │ (<span style=\"color: #00d7ff; text-decoration-color: #00d7ff\">None</span>, <span style=\"color: #00af00; text-decoration-color: #00af00\">16</span>, <span style=\"color: #00af00; text-decoration-color: #00af00\">16</span>, <span style=\"color: #00af00; text-decoration-color: #00af00\">256</span>)       │         <span style=\"color: #00af00; text-decoration-color: #00af00\">590,080</span> │ activation_170[<span style=\"color: #00af00; text-decoration-color: #00af00\">0</span>][<span style=\"color: #00af00; text-decoration-color: #00af00\">0</span>]       │\n",
       "├───────────────────────────────┼───────────────────────────┼─────────────────┼────────────────────────────┤\n",
       "│ batch_normalization_171       │ (<span style=\"color: #00d7ff; text-decoration-color: #00d7ff\">None</span>, <span style=\"color: #00af00; text-decoration-color: #00af00\">16</span>, <span style=\"color: #00af00; text-decoration-color: #00af00\">16</span>, <span style=\"color: #00af00; text-decoration-color: #00af00\">256</span>)       │           <span style=\"color: #00af00; text-decoration-color: #00af00\">1,024</span> │ conv2d_180[<span style=\"color: #00af00; text-decoration-color: #00af00\">0</span>][<span style=\"color: #00af00; text-decoration-color: #00af00\">0</span>]           │\n",
       "│ (<span style=\"color: #0087ff; text-decoration-color: #0087ff\">BatchNormalization</span>)          │                           │                 │                            │\n",
       "├───────────────────────────────┼───────────────────────────┼─────────────────┼────────────────────────────┤\n",
       "│ activation_171 (<span style=\"color: #0087ff; text-decoration-color: #0087ff\">Activation</span>)   │ (<span style=\"color: #00d7ff; text-decoration-color: #00d7ff\">None</span>, <span style=\"color: #00af00; text-decoration-color: #00af00\">16</span>, <span style=\"color: #00af00; text-decoration-color: #00af00\">16</span>, <span style=\"color: #00af00; text-decoration-color: #00af00\">256</span>)       │               <span style=\"color: #00af00; text-decoration-color: #00af00\">0</span> │ batch_normalization_171[<span style=\"color: #00af00; text-decoration-color: #00af00\">0</span>… │\n",
       "├───────────────────────────────┼───────────────────────────┼─────────────────┼────────────────────────────┤\n",
       "│ conv2d_transpose_36           │ (<span style=\"color: #00d7ff; text-decoration-color: #00d7ff\">None</span>, <span style=\"color: #00af00; text-decoration-color: #00af00\">32</span>, <span style=\"color: #00af00; text-decoration-color: #00af00\">32</span>, <span style=\"color: #00af00; text-decoration-color: #00af00\">128</span>)       │         <span style=\"color: #00af00; text-decoration-color: #00af00\">295,040</span> │ activation_171[<span style=\"color: #00af00; text-decoration-color: #00af00\">0</span>][<span style=\"color: #00af00; text-decoration-color: #00af00\">0</span>]       │\n",
       "│ (<span style=\"color: #0087ff; text-decoration-color: #0087ff\">Conv2DTranspose</span>)             │                           │                 │                            │\n",
       "├───────────────────────────────┼───────────────────────────┼─────────────────┼────────────────────────────┤\n",
       "│ concatenate_36 (<span style=\"color: #0087ff; text-decoration-color: #0087ff\">Concatenate</span>)  │ (<span style=\"color: #00d7ff; text-decoration-color: #00d7ff\">None</span>, <span style=\"color: #00af00; text-decoration-color: #00af00\">32</span>, <span style=\"color: #00af00; text-decoration-color: #00af00\">32</span>, <span style=\"color: #00af00; text-decoration-color: #00af00\">256</span>)       │               <span style=\"color: #00af00; text-decoration-color: #00af00\">0</span> │ conv2d_transpose_36[<span style=\"color: #00af00; text-decoration-color: #00af00\">0</span>][<span style=\"color: #00af00; text-decoration-color: #00af00\">0</span>], │\n",
       "│                               │                           │                 │ activation_169[<span style=\"color: #00af00; text-decoration-color: #00af00\">0</span>][<span style=\"color: #00af00; text-decoration-color: #00af00\">0</span>]       │\n",
       "├───────────────────────────────┼───────────────────────────┼─────────────────┼────────────────────────────┤\n",
       "│ conv2d_181 (<span style=\"color: #0087ff; text-decoration-color: #0087ff\">Conv2D</span>)           │ (<span style=\"color: #00d7ff; text-decoration-color: #00d7ff\">None</span>, <span style=\"color: #00af00; text-decoration-color: #00af00\">32</span>, <span style=\"color: #00af00; text-decoration-color: #00af00\">32</span>, <span style=\"color: #00af00; text-decoration-color: #00af00\">128</span>)       │         <span style=\"color: #00af00; text-decoration-color: #00af00\">295,040</span> │ concatenate_36[<span style=\"color: #00af00; text-decoration-color: #00af00\">0</span>][<span style=\"color: #00af00; text-decoration-color: #00af00\">0</span>]       │\n",
       "├───────────────────────────────┼───────────────────────────┼─────────────────┼────────────────────────────┤\n",
       "│ batch_normalization_172       │ (<span style=\"color: #00d7ff; text-decoration-color: #00d7ff\">None</span>, <span style=\"color: #00af00; text-decoration-color: #00af00\">32</span>, <span style=\"color: #00af00; text-decoration-color: #00af00\">32</span>, <span style=\"color: #00af00; text-decoration-color: #00af00\">128</span>)       │             <span style=\"color: #00af00; text-decoration-color: #00af00\">512</span> │ conv2d_181[<span style=\"color: #00af00; text-decoration-color: #00af00\">0</span>][<span style=\"color: #00af00; text-decoration-color: #00af00\">0</span>]           │\n",
       "│ (<span style=\"color: #0087ff; text-decoration-color: #0087ff\">BatchNormalization</span>)          │                           │                 │                            │\n",
       "├───────────────────────────────┼───────────────────────────┼─────────────────┼────────────────────────────┤\n",
       "│ activation_172 (<span style=\"color: #0087ff; text-decoration-color: #0087ff\">Activation</span>)   │ (<span style=\"color: #00d7ff; text-decoration-color: #00d7ff\">None</span>, <span style=\"color: #00af00; text-decoration-color: #00af00\">32</span>, <span style=\"color: #00af00; text-decoration-color: #00af00\">32</span>, <span style=\"color: #00af00; text-decoration-color: #00af00\">128</span>)       │               <span style=\"color: #00af00; text-decoration-color: #00af00\">0</span> │ batch_normalization_172[<span style=\"color: #00af00; text-decoration-color: #00af00\">0</span>… │\n",
       "├───────────────────────────────┼───────────────────────────┼─────────────────┼────────────────────────────┤\n",
       "│ conv2d_182 (<span style=\"color: #0087ff; text-decoration-color: #0087ff\">Conv2D</span>)           │ (<span style=\"color: #00d7ff; text-decoration-color: #00d7ff\">None</span>, <span style=\"color: #00af00; text-decoration-color: #00af00\">32</span>, <span style=\"color: #00af00; text-decoration-color: #00af00\">32</span>, <span style=\"color: #00af00; text-decoration-color: #00af00\">128</span>)       │         <span style=\"color: #00af00; text-decoration-color: #00af00\">147,584</span> │ activation_172[<span style=\"color: #00af00; text-decoration-color: #00af00\">0</span>][<span style=\"color: #00af00; text-decoration-color: #00af00\">0</span>]       │\n",
       "├───────────────────────────────┼───────────────────────────┼─────────────────┼────────────────────────────┤\n",
       "│ batch_normalization_173       │ (<span style=\"color: #00d7ff; text-decoration-color: #00d7ff\">None</span>, <span style=\"color: #00af00; text-decoration-color: #00af00\">32</span>, <span style=\"color: #00af00; text-decoration-color: #00af00\">32</span>, <span style=\"color: #00af00; text-decoration-color: #00af00\">128</span>)       │             <span style=\"color: #00af00; text-decoration-color: #00af00\">512</span> │ conv2d_182[<span style=\"color: #00af00; text-decoration-color: #00af00\">0</span>][<span style=\"color: #00af00; text-decoration-color: #00af00\">0</span>]           │\n",
       "│ (<span style=\"color: #0087ff; text-decoration-color: #0087ff\">BatchNormalization</span>)          │                           │                 │                            │\n",
       "├───────────────────────────────┼───────────────────────────┼─────────────────┼────────────────────────────┤\n",
       "│ activation_173 (<span style=\"color: #0087ff; text-decoration-color: #0087ff\">Activation</span>)   │ (<span style=\"color: #00d7ff; text-decoration-color: #00d7ff\">None</span>, <span style=\"color: #00af00; text-decoration-color: #00af00\">32</span>, <span style=\"color: #00af00; text-decoration-color: #00af00\">32</span>, <span style=\"color: #00af00; text-decoration-color: #00af00\">128</span>)       │               <span style=\"color: #00af00; text-decoration-color: #00af00\">0</span> │ batch_normalization_173[<span style=\"color: #00af00; text-decoration-color: #00af00\">0</span>… │\n",
       "├───────────────────────────────┼───────────────────────────┼─────────────────┼────────────────────────────┤\n",
       "│ conv2d_transpose_37           │ (<span style=\"color: #00d7ff; text-decoration-color: #00d7ff\">None</span>, <span style=\"color: #00af00; text-decoration-color: #00af00\">64</span>, <span style=\"color: #00af00; text-decoration-color: #00af00\">64</span>, <span style=\"color: #00af00; text-decoration-color: #00af00\">64</span>)        │          <span style=\"color: #00af00; text-decoration-color: #00af00\">73,792</span> │ activation_173[<span style=\"color: #00af00; text-decoration-color: #00af00\">0</span>][<span style=\"color: #00af00; text-decoration-color: #00af00\">0</span>]       │\n",
       "│ (<span style=\"color: #0087ff; text-decoration-color: #0087ff\">Conv2DTranspose</span>)             │                           │                 │                            │\n",
       "├───────────────────────────────┼───────────────────────────┼─────────────────┼────────────────────────────┤\n",
       "│ concatenate_37 (<span style=\"color: #0087ff; text-decoration-color: #0087ff\">Concatenate</span>)  │ (<span style=\"color: #00d7ff; text-decoration-color: #00d7ff\">None</span>, <span style=\"color: #00af00; text-decoration-color: #00af00\">64</span>, <span style=\"color: #00af00; text-decoration-color: #00af00\">64</span>, <span style=\"color: #00af00; text-decoration-color: #00af00\">128</span>)       │               <span style=\"color: #00af00; text-decoration-color: #00af00\">0</span> │ conv2d_transpose_37[<span style=\"color: #00af00; text-decoration-color: #00af00\">0</span>][<span style=\"color: #00af00; text-decoration-color: #00af00\">0</span>], │\n",
       "│                               │                           │                 │ activation_167[<span style=\"color: #00af00; text-decoration-color: #00af00\">0</span>][<span style=\"color: #00af00; text-decoration-color: #00af00\">0</span>]       │\n",
       "├───────────────────────────────┼───────────────────────────┼─────────────────┼────────────────────────────┤\n",
       "│ conv2d_183 (<span style=\"color: #0087ff; text-decoration-color: #0087ff\">Conv2D</span>)           │ (<span style=\"color: #00d7ff; text-decoration-color: #00d7ff\">None</span>, <span style=\"color: #00af00; text-decoration-color: #00af00\">64</span>, <span style=\"color: #00af00; text-decoration-color: #00af00\">64</span>, <span style=\"color: #00af00; text-decoration-color: #00af00\">64</span>)        │          <span style=\"color: #00af00; text-decoration-color: #00af00\">73,792</span> │ concatenate_37[<span style=\"color: #00af00; text-decoration-color: #00af00\">0</span>][<span style=\"color: #00af00; text-decoration-color: #00af00\">0</span>]       │\n",
       "├───────────────────────────────┼───────────────────────────┼─────────────────┼────────────────────────────┤\n",
       "│ batch_normalization_174       │ (<span style=\"color: #00d7ff; text-decoration-color: #00d7ff\">None</span>, <span style=\"color: #00af00; text-decoration-color: #00af00\">64</span>, <span style=\"color: #00af00; text-decoration-color: #00af00\">64</span>, <span style=\"color: #00af00; text-decoration-color: #00af00\">64</span>)        │             <span style=\"color: #00af00; text-decoration-color: #00af00\">256</span> │ conv2d_183[<span style=\"color: #00af00; text-decoration-color: #00af00\">0</span>][<span style=\"color: #00af00; text-decoration-color: #00af00\">0</span>]           │\n",
       "│ (<span style=\"color: #0087ff; text-decoration-color: #0087ff\">BatchNormalization</span>)          │                           │                 │                            │\n",
       "├───────────────────────────────┼───────────────────────────┼─────────────────┼────────────────────────────┤\n",
       "│ activation_174 (<span style=\"color: #0087ff; text-decoration-color: #0087ff\">Activation</span>)   │ (<span style=\"color: #00d7ff; text-decoration-color: #00d7ff\">None</span>, <span style=\"color: #00af00; text-decoration-color: #00af00\">64</span>, <span style=\"color: #00af00; text-decoration-color: #00af00\">64</span>, <span style=\"color: #00af00; text-decoration-color: #00af00\">64</span>)        │               <span style=\"color: #00af00; text-decoration-color: #00af00\">0</span> │ batch_normalization_174[<span style=\"color: #00af00; text-decoration-color: #00af00\">0</span>… │\n",
       "├───────────────────────────────┼───────────────────────────┼─────────────────┼────────────────────────────┤\n",
       "│ conv2d_184 (<span style=\"color: #0087ff; text-decoration-color: #0087ff\">Conv2D</span>)           │ (<span style=\"color: #00d7ff; text-decoration-color: #00d7ff\">None</span>, <span style=\"color: #00af00; text-decoration-color: #00af00\">64</span>, <span style=\"color: #00af00; text-decoration-color: #00af00\">64</span>, <span style=\"color: #00af00; text-decoration-color: #00af00\">64</span>)        │          <span style=\"color: #00af00; text-decoration-color: #00af00\">36,928</span> │ activation_174[<span style=\"color: #00af00; text-decoration-color: #00af00\">0</span>][<span style=\"color: #00af00; text-decoration-color: #00af00\">0</span>]       │\n",
       "├───────────────────────────────┼───────────────────────────┼─────────────────┼────────────────────────────┤\n",
       "│ batch_normalization_175       │ (<span style=\"color: #00d7ff; text-decoration-color: #00d7ff\">None</span>, <span style=\"color: #00af00; text-decoration-color: #00af00\">64</span>, <span style=\"color: #00af00; text-decoration-color: #00af00\">64</span>, <span style=\"color: #00af00; text-decoration-color: #00af00\">64</span>)        │             <span style=\"color: #00af00; text-decoration-color: #00af00\">256</span> │ conv2d_184[<span style=\"color: #00af00; text-decoration-color: #00af00\">0</span>][<span style=\"color: #00af00; text-decoration-color: #00af00\">0</span>]           │\n",
       "│ (<span style=\"color: #0087ff; text-decoration-color: #0087ff\">BatchNormalization</span>)          │                           │                 │                            │\n",
       "├───────────────────────────────┼───────────────────────────┼─────────────────┼────────────────────────────┤\n",
       "│ activation_175 (<span style=\"color: #0087ff; text-decoration-color: #0087ff\">Activation</span>)   │ (<span style=\"color: #00d7ff; text-decoration-color: #00d7ff\">None</span>, <span style=\"color: #00af00; text-decoration-color: #00af00\">64</span>, <span style=\"color: #00af00; text-decoration-color: #00af00\">64</span>, <span style=\"color: #00af00; text-decoration-color: #00af00\">64</span>)        │               <span style=\"color: #00af00; text-decoration-color: #00af00\">0</span> │ batch_normalization_175[<span style=\"color: #00af00; text-decoration-color: #00af00\">0</span>… │\n",
       "├───────────────────────────────┼───────────────────────────┼─────────────────┼────────────────────────────┤\n",
       "│ conv2d_transpose_38           │ (<span style=\"color: #00d7ff; text-decoration-color: #00d7ff\">None</span>, <span style=\"color: #00af00; text-decoration-color: #00af00\">128</span>, <span style=\"color: #00af00; text-decoration-color: #00af00\">128</span>, <span style=\"color: #00af00; text-decoration-color: #00af00\">32</span>)      │          <span style=\"color: #00af00; text-decoration-color: #00af00\">18,464</span> │ activation_175[<span style=\"color: #00af00; text-decoration-color: #00af00\">0</span>][<span style=\"color: #00af00; text-decoration-color: #00af00\">0</span>]       │\n",
       "│ (<span style=\"color: #0087ff; text-decoration-color: #0087ff\">Conv2DTranspose</span>)             │                           │                 │                            │\n",
       "├───────────────────────────────┼───────────────────────────┼─────────────────┼────────────────────────────┤\n",
       "│ concatenate_38 (<span style=\"color: #0087ff; text-decoration-color: #0087ff\">Concatenate</span>)  │ (<span style=\"color: #00d7ff; text-decoration-color: #00d7ff\">None</span>, <span style=\"color: #00af00; text-decoration-color: #00af00\">128</span>, <span style=\"color: #00af00; text-decoration-color: #00af00\">128</span>, <span style=\"color: #00af00; text-decoration-color: #00af00\">64</span>)      │               <span style=\"color: #00af00; text-decoration-color: #00af00\">0</span> │ conv2d_transpose_38[<span style=\"color: #00af00; text-decoration-color: #00af00\">0</span>][<span style=\"color: #00af00; text-decoration-color: #00af00\">0</span>], │\n",
       "│                               │                           │                 │ activation_165[<span style=\"color: #00af00; text-decoration-color: #00af00\">0</span>][<span style=\"color: #00af00; text-decoration-color: #00af00\">0</span>]       │\n",
       "├───────────────────────────────┼───────────────────────────┼─────────────────┼────────────────────────────┤\n",
       "│ conv2d_185 (<span style=\"color: #0087ff; text-decoration-color: #0087ff\">Conv2D</span>)           │ (<span style=\"color: #00d7ff; text-decoration-color: #00d7ff\">None</span>, <span style=\"color: #00af00; text-decoration-color: #00af00\">128</span>, <span style=\"color: #00af00; text-decoration-color: #00af00\">128</span>, <span style=\"color: #00af00; text-decoration-color: #00af00\">32</span>)      │          <span style=\"color: #00af00; text-decoration-color: #00af00\">18,464</span> │ concatenate_38[<span style=\"color: #00af00; text-decoration-color: #00af00\">0</span>][<span style=\"color: #00af00; text-decoration-color: #00af00\">0</span>]       │\n",
       "├───────────────────────────────┼───────────────────────────┼─────────────────┼────────────────────────────┤\n",
       "│ batch_normalization_176       │ (<span style=\"color: #00d7ff; text-decoration-color: #00d7ff\">None</span>, <span style=\"color: #00af00; text-decoration-color: #00af00\">128</span>, <span style=\"color: #00af00; text-decoration-color: #00af00\">128</span>, <span style=\"color: #00af00; text-decoration-color: #00af00\">32</span>)      │             <span style=\"color: #00af00; text-decoration-color: #00af00\">128</span> │ conv2d_185[<span style=\"color: #00af00; text-decoration-color: #00af00\">0</span>][<span style=\"color: #00af00; text-decoration-color: #00af00\">0</span>]           │\n",
       "│ (<span style=\"color: #0087ff; text-decoration-color: #0087ff\">BatchNormalization</span>)          │                           │                 │                            │\n",
       "├───────────────────────────────┼───────────────────────────┼─────────────────┼────────────────────────────┤\n",
       "│ activation_176 (<span style=\"color: #0087ff; text-decoration-color: #0087ff\">Activation</span>)   │ (<span style=\"color: #00d7ff; text-decoration-color: #00d7ff\">None</span>, <span style=\"color: #00af00; text-decoration-color: #00af00\">128</span>, <span style=\"color: #00af00; text-decoration-color: #00af00\">128</span>, <span style=\"color: #00af00; text-decoration-color: #00af00\">32</span>)      │               <span style=\"color: #00af00; text-decoration-color: #00af00\">0</span> │ batch_normalization_176[<span style=\"color: #00af00; text-decoration-color: #00af00\">0</span>… │\n",
       "├───────────────────────────────┼───────────────────────────┼─────────────────┼────────────────────────────┤\n",
       "│ conv2d_186 (<span style=\"color: #0087ff; text-decoration-color: #0087ff\">Conv2D</span>)           │ (<span style=\"color: #00d7ff; text-decoration-color: #00d7ff\">None</span>, <span style=\"color: #00af00; text-decoration-color: #00af00\">128</span>, <span style=\"color: #00af00; text-decoration-color: #00af00\">128</span>, <span style=\"color: #00af00; text-decoration-color: #00af00\">32</span>)      │           <span style=\"color: #00af00; text-decoration-color: #00af00\">9,248</span> │ activation_176[<span style=\"color: #00af00; text-decoration-color: #00af00\">0</span>][<span style=\"color: #00af00; text-decoration-color: #00af00\">0</span>]       │\n",
       "├───────────────────────────────┼───────────────────────────┼─────────────────┼────────────────────────────┤\n",
       "│ batch_normalization_177       │ (<span style=\"color: #00d7ff; text-decoration-color: #00d7ff\">None</span>, <span style=\"color: #00af00; text-decoration-color: #00af00\">128</span>, <span style=\"color: #00af00; text-decoration-color: #00af00\">128</span>, <span style=\"color: #00af00; text-decoration-color: #00af00\">32</span>)      │             <span style=\"color: #00af00; text-decoration-color: #00af00\">128</span> │ conv2d_186[<span style=\"color: #00af00; text-decoration-color: #00af00\">0</span>][<span style=\"color: #00af00; text-decoration-color: #00af00\">0</span>]           │\n",
       "│ (<span style=\"color: #0087ff; text-decoration-color: #0087ff\">BatchNormalization</span>)          │                           │                 │                            │\n",
       "├───────────────────────────────┼───────────────────────────┼─────────────────┼────────────────────────────┤\n",
       "│ activation_177 (<span style=\"color: #0087ff; text-decoration-color: #0087ff\">Activation</span>)   │ (<span style=\"color: #00d7ff; text-decoration-color: #00d7ff\">None</span>, <span style=\"color: #00af00; text-decoration-color: #00af00\">128</span>, <span style=\"color: #00af00; text-decoration-color: #00af00\">128</span>, <span style=\"color: #00af00; text-decoration-color: #00af00\">32</span>)      │               <span style=\"color: #00af00; text-decoration-color: #00af00\">0</span> │ batch_normalization_177[<span style=\"color: #00af00; text-decoration-color: #00af00\">0</span>… │\n",
       "├───────────────────────────────┼───────────────────────────┼─────────────────┼────────────────────────────┤\n",
       "│ conv2d_transpose_39           │ (<span style=\"color: #00d7ff; text-decoration-color: #00d7ff\">None</span>, <span style=\"color: #00af00; text-decoration-color: #00af00\">256</span>, <span style=\"color: #00af00; text-decoration-color: #00af00\">256</span>, <span style=\"color: #00af00; text-decoration-color: #00af00\">16</span>)      │           <span style=\"color: #00af00; text-decoration-color: #00af00\">4,624</span> │ activation_177[<span style=\"color: #00af00; text-decoration-color: #00af00\">0</span>][<span style=\"color: #00af00; text-decoration-color: #00af00\">0</span>]       │\n",
       "│ (<span style=\"color: #0087ff; text-decoration-color: #0087ff\">Conv2DTranspose</span>)             │                           │                 │                            │\n",
       "├───────────────────────────────┼───────────────────────────┼─────────────────┼────────────────────────────┤\n",
       "│ concatenate_39 (<span style=\"color: #0087ff; text-decoration-color: #0087ff\">Concatenate</span>)  │ (<span style=\"color: #00d7ff; text-decoration-color: #00d7ff\">None</span>, <span style=\"color: #00af00; text-decoration-color: #00af00\">256</span>, <span style=\"color: #00af00; text-decoration-color: #00af00\">256</span>, <span style=\"color: #00af00; text-decoration-color: #00af00\">32</span>)      │               <span style=\"color: #00af00; text-decoration-color: #00af00\">0</span> │ conv2d_transpose_39[<span style=\"color: #00af00; text-decoration-color: #00af00\">0</span>][<span style=\"color: #00af00; text-decoration-color: #00af00\">0</span>], │\n",
       "│                               │                           │                 │ activation_163[<span style=\"color: #00af00; text-decoration-color: #00af00\">0</span>][<span style=\"color: #00af00; text-decoration-color: #00af00\">0</span>]       │\n",
       "├───────────────────────────────┼───────────────────────────┼─────────────────┼────────────────────────────┤\n",
       "│ conv2d_187 (<span style=\"color: #0087ff; text-decoration-color: #0087ff\">Conv2D</span>)           │ (<span style=\"color: #00d7ff; text-decoration-color: #00d7ff\">None</span>, <span style=\"color: #00af00; text-decoration-color: #00af00\">256</span>, <span style=\"color: #00af00; text-decoration-color: #00af00\">256</span>, <span style=\"color: #00af00; text-decoration-color: #00af00\">16</span>)      │           <span style=\"color: #00af00; text-decoration-color: #00af00\">4,624</span> │ concatenate_39[<span style=\"color: #00af00; text-decoration-color: #00af00\">0</span>][<span style=\"color: #00af00; text-decoration-color: #00af00\">0</span>]       │\n",
       "├───────────────────────────────┼───────────────────────────┼─────────────────┼────────────────────────────┤\n",
       "│ batch_normalization_178       │ (<span style=\"color: #00d7ff; text-decoration-color: #00d7ff\">None</span>, <span style=\"color: #00af00; text-decoration-color: #00af00\">256</span>, <span style=\"color: #00af00; text-decoration-color: #00af00\">256</span>, <span style=\"color: #00af00; text-decoration-color: #00af00\">16</span>)      │              <span style=\"color: #00af00; text-decoration-color: #00af00\">64</span> │ conv2d_187[<span style=\"color: #00af00; text-decoration-color: #00af00\">0</span>][<span style=\"color: #00af00; text-decoration-color: #00af00\">0</span>]           │\n",
       "│ (<span style=\"color: #0087ff; text-decoration-color: #0087ff\">BatchNormalization</span>)          │                           │                 │                            │\n",
       "├───────────────────────────────┼───────────────────────────┼─────────────────┼────────────────────────────┤\n",
       "│ activation_178 (<span style=\"color: #0087ff; text-decoration-color: #0087ff\">Activation</span>)   │ (<span style=\"color: #00d7ff; text-decoration-color: #00d7ff\">None</span>, <span style=\"color: #00af00; text-decoration-color: #00af00\">256</span>, <span style=\"color: #00af00; text-decoration-color: #00af00\">256</span>, <span style=\"color: #00af00; text-decoration-color: #00af00\">16</span>)      │               <span style=\"color: #00af00; text-decoration-color: #00af00\">0</span> │ batch_normalization_178[<span style=\"color: #00af00; text-decoration-color: #00af00\">0</span>… │\n",
       "├───────────────────────────────┼───────────────────────────┼─────────────────┼────────────────────────────┤\n",
       "│ conv2d_188 (<span style=\"color: #0087ff; text-decoration-color: #0087ff\">Conv2D</span>)           │ (<span style=\"color: #00d7ff; text-decoration-color: #00d7ff\">None</span>, <span style=\"color: #00af00; text-decoration-color: #00af00\">256</span>, <span style=\"color: #00af00; text-decoration-color: #00af00\">256</span>, <span style=\"color: #00af00; text-decoration-color: #00af00\">16</span>)      │           <span style=\"color: #00af00; text-decoration-color: #00af00\">2,320</span> │ activation_178[<span style=\"color: #00af00; text-decoration-color: #00af00\">0</span>][<span style=\"color: #00af00; text-decoration-color: #00af00\">0</span>]       │\n",
       "├───────────────────────────────┼───────────────────────────┼─────────────────┼────────────────────────────┤\n",
       "│ batch_normalization_179       │ (<span style=\"color: #00d7ff; text-decoration-color: #00d7ff\">None</span>, <span style=\"color: #00af00; text-decoration-color: #00af00\">256</span>, <span style=\"color: #00af00; text-decoration-color: #00af00\">256</span>, <span style=\"color: #00af00; text-decoration-color: #00af00\">16</span>)      │              <span style=\"color: #00af00; text-decoration-color: #00af00\">64</span> │ conv2d_188[<span style=\"color: #00af00; text-decoration-color: #00af00\">0</span>][<span style=\"color: #00af00; text-decoration-color: #00af00\">0</span>]           │\n",
       "│ (<span style=\"color: #0087ff; text-decoration-color: #0087ff\">BatchNormalization</span>)          │                           │                 │                            │\n",
       "├───────────────────────────────┼───────────────────────────┼─────────────────┼────────────────────────────┤\n",
       "│ activation_179 (<span style=\"color: #0087ff; text-decoration-color: #0087ff\">Activation</span>)   │ (<span style=\"color: #00d7ff; text-decoration-color: #00d7ff\">None</span>, <span style=\"color: #00af00; text-decoration-color: #00af00\">256</span>, <span style=\"color: #00af00; text-decoration-color: #00af00\">256</span>, <span style=\"color: #00af00; text-decoration-color: #00af00\">16</span>)      │               <span style=\"color: #00af00; text-decoration-color: #00af00\">0</span> │ batch_normalization_179[<span style=\"color: #00af00; text-decoration-color: #00af00\">0</span>… │\n",
       "├───────────────────────────────┼───────────────────────────┼─────────────────┼────────────────────────────┤\n",
       "│ conv2d_189 (<span style=\"color: #0087ff; text-decoration-color: #0087ff\">Conv2D</span>)           │ (<span style=\"color: #00d7ff; text-decoration-color: #00d7ff\">None</span>, <span style=\"color: #00af00; text-decoration-color: #00af00\">256</span>, <span style=\"color: #00af00; text-decoration-color: #00af00\">256</span>, <span style=\"color: #00af00; text-decoration-color: #00af00\">1</span>)       │              <span style=\"color: #00af00; text-decoration-color: #00af00\">17</span> │ activation_179[<span style=\"color: #00af00; text-decoration-color: #00af00\">0</span>][<span style=\"color: #00af00; text-decoration-color: #00af00\">0</span>]       │\n",
       "└───────────────────────────────┴───────────────────────────┴─────────────────┴────────────────────────────┘\n",
       "</pre>\n"
      ],
      "text/plain": [
       "┏━━━━━━━━━━━━━━━━━━━━━━━━━━━━━━━┳━━━━━━━━━━━━━━━━━━━━━━━━━━━┳━━━━━━━━━━━━━━━━━┳━━━━━━━━━━━━━━━━━━━━━━━━━━━━┓\n",
       "┃\u001b[1m \u001b[0m\u001b[1mLayer (type)                 \u001b[0m\u001b[1m \u001b[0m┃\u001b[1m \u001b[0m\u001b[1mOutput Shape             \u001b[0m\u001b[1m \u001b[0m┃\u001b[1m \u001b[0m\u001b[1m        Param #\u001b[0m\u001b[1m \u001b[0m┃\u001b[1m \u001b[0m\u001b[1mConnected to              \u001b[0m\u001b[1m \u001b[0m┃\n",
       "┡━━━━━━━━━━━━━━━━━━━━━━━━━━━━━━━╇━━━━━━━━━━━━━━━━━━━━━━━━━━━╇━━━━━━━━━━━━━━━━━╇━━━━━━━━━━━━━━━━━━━━━━━━━━━━┩\n",
       "│ input_layer_9 (\u001b[38;5;33mInputLayer\u001b[0m)    │ (\u001b[38;5;45mNone\u001b[0m, \u001b[38;5;34m256\u001b[0m, \u001b[38;5;34m256\u001b[0m, \u001b[38;5;34m3\u001b[0m)       │               \u001b[38;5;34m0\u001b[0m │ -                          │\n",
       "├───────────────────────────────┼───────────────────────────┼─────────────────┼────────────────────────────┤\n",
       "│ conv2d_171 (\u001b[38;5;33mConv2D\u001b[0m)           │ (\u001b[38;5;45mNone\u001b[0m, \u001b[38;5;34m256\u001b[0m, \u001b[38;5;34m256\u001b[0m, \u001b[38;5;34m16\u001b[0m)      │             \u001b[38;5;34m448\u001b[0m │ input_layer_9[\u001b[38;5;34m0\u001b[0m][\u001b[38;5;34m0\u001b[0m]        │\n",
       "├───────────────────────────────┼───────────────────────────┼─────────────────┼────────────────────────────┤\n",
       "│ batch_normalization_162       │ (\u001b[38;5;45mNone\u001b[0m, \u001b[38;5;34m256\u001b[0m, \u001b[38;5;34m256\u001b[0m, \u001b[38;5;34m16\u001b[0m)      │              \u001b[38;5;34m64\u001b[0m │ conv2d_171[\u001b[38;5;34m0\u001b[0m][\u001b[38;5;34m0\u001b[0m]           │\n",
       "│ (\u001b[38;5;33mBatchNormalization\u001b[0m)          │                           │                 │                            │\n",
       "├───────────────────────────────┼───────────────────────────┼─────────────────┼────────────────────────────┤\n",
       "│ activation_162 (\u001b[38;5;33mActivation\u001b[0m)   │ (\u001b[38;5;45mNone\u001b[0m, \u001b[38;5;34m256\u001b[0m, \u001b[38;5;34m256\u001b[0m, \u001b[38;5;34m16\u001b[0m)      │               \u001b[38;5;34m0\u001b[0m │ batch_normalization_162[\u001b[38;5;34m0\u001b[0m… │\n",
       "├───────────────────────────────┼───────────────────────────┼─────────────────┼────────────────────────────┤\n",
       "│ conv2d_172 (\u001b[38;5;33mConv2D\u001b[0m)           │ (\u001b[38;5;45mNone\u001b[0m, \u001b[38;5;34m256\u001b[0m, \u001b[38;5;34m256\u001b[0m, \u001b[38;5;34m16\u001b[0m)      │           \u001b[38;5;34m2,320\u001b[0m │ activation_162[\u001b[38;5;34m0\u001b[0m][\u001b[38;5;34m0\u001b[0m]       │\n",
       "├───────────────────────────────┼───────────────────────────┼─────────────────┼────────────────────────────┤\n",
       "│ batch_normalization_163       │ (\u001b[38;5;45mNone\u001b[0m, \u001b[38;5;34m256\u001b[0m, \u001b[38;5;34m256\u001b[0m, \u001b[38;5;34m16\u001b[0m)      │              \u001b[38;5;34m64\u001b[0m │ conv2d_172[\u001b[38;5;34m0\u001b[0m][\u001b[38;5;34m0\u001b[0m]           │\n",
       "│ (\u001b[38;5;33mBatchNormalization\u001b[0m)          │                           │                 │                            │\n",
       "├───────────────────────────────┼───────────────────────────┼─────────────────┼────────────────────────────┤\n",
       "│ activation_163 (\u001b[38;5;33mActivation\u001b[0m)   │ (\u001b[38;5;45mNone\u001b[0m, \u001b[38;5;34m256\u001b[0m, \u001b[38;5;34m256\u001b[0m, \u001b[38;5;34m16\u001b[0m)      │               \u001b[38;5;34m0\u001b[0m │ batch_normalization_163[\u001b[38;5;34m0\u001b[0m… │\n",
       "├───────────────────────────────┼───────────────────────────┼─────────────────┼────────────────────────────┤\n",
       "│ max_pooling2d_36              │ (\u001b[38;5;45mNone\u001b[0m, \u001b[38;5;34m128\u001b[0m, \u001b[38;5;34m128\u001b[0m, \u001b[38;5;34m16\u001b[0m)      │               \u001b[38;5;34m0\u001b[0m │ activation_163[\u001b[38;5;34m0\u001b[0m][\u001b[38;5;34m0\u001b[0m]       │\n",
       "│ (\u001b[38;5;33mMaxPooling2D\u001b[0m)                │                           │                 │                            │\n",
       "├───────────────────────────────┼───────────────────────────┼─────────────────┼────────────────────────────┤\n",
       "│ conv2d_173 (\u001b[38;5;33mConv2D\u001b[0m)           │ (\u001b[38;5;45mNone\u001b[0m, \u001b[38;5;34m128\u001b[0m, \u001b[38;5;34m128\u001b[0m, \u001b[38;5;34m32\u001b[0m)      │           \u001b[38;5;34m4,640\u001b[0m │ max_pooling2d_36[\u001b[38;5;34m0\u001b[0m][\u001b[38;5;34m0\u001b[0m]     │\n",
       "├───────────────────────────────┼───────────────────────────┼─────────────────┼────────────────────────────┤\n",
       "│ batch_normalization_164       │ (\u001b[38;5;45mNone\u001b[0m, \u001b[38;5;34m128\u001b[0m, \u001b[38;5;34m128\u001b[0m, \u001b[38;5;34m32\u001b[0m)      │             \u001b[38;5;34m128\u001b[0m │ conv2d_173[\u001b[38;5;34m0\u001b[0m][\u001b[38;5;34m0\u001b[0m]           │\n",
       "│ (\u001b[38;5;33mBatchNormalization\u001b[0m)          │                           │                 │                            │\n",
       "├───────────────────────────────┼───────────────────────────┼─────────────────┼────────────────────────────┤\n",
       "│ activation_164 (\u001b[38;5;33mActivation\u001b[0m)   │ (\u001b[38;5;45mNone\u001b[0m, \u001b[38;5;34m128\u001b[0m, \u001b[38;5;34m128\u001b[0m, \u001b[38;5;34m32\u001b[0m)      │               \u001b[38;5;34m0\u001b[0m │ batch_normalization_164[\u001b[38;5;34m0\u001b[0m… │\n",
       "├───────────────────────────────┼───────────────────────────┼─────────────────┼────────────────────────────┤\n",
       "│ conv2d_174 (\u001b[38;5;33mConv2D\u001b[0m)           │ (\u001b[38;5;45mNone\u001b[0m, \u001b[38;5;34m128\u001b[0m, \u001b[38;5;34m128\u001b[0m, \u001b[38;5;34m32\u001b[0m)      │           \u001b[38;5;34m9,248\u001b[0m │ activation_164[\u001b[38;5;34m0\u001b[0m][\u001b[38;5;34m0\u001b[0m]       │\n",
       "├───────────────────────────────┼───────────────────────────┼─────────────────┼────────────────────────────┤\n",
       "│ batch_normalization_165       │ (\u001b[38;5;45mNone\u001b[0m, \u001b[38;5;34m128\u001b[0m, \u001b[38;5;34m128\u001b[0m, \u001b[38;5;34m32\u001b[0m)      │             \u001b[38;5;34m128\u001b[0m │ conv2d_174[\u001b[38;5;34m0\u001b[0m][\u001b[38;5;34m0\u001b[0m]           │\n",
       "│ (\u001b[38;5;33mBatchNormalization\u001b[0m)          │                           │                 │                            │\n",
       "├───────────────────────────────┼───────────────────────────┼─────────────────┼────────────────────────────┤\n",
       "│ activation_165 (\u001b[38;5;33mActivation\u001b[0m)   │ (\u001b[38;5;45mNone\u001b[0m, \u001b[38;5;34m128\u001b[0m, \u001b[38;5;34m128\u001b[0m, \u001b[38;5;34m32\u001b[0m)      │               \u001b[38;5;34m0\u001b[0m │ batch_normalization_165[\u001b[38;5;34m0\u001b[0m… │\n",
       "├───────────────────────────────┼───────────────────────────┼─────────────────┼────────────────────────────┤\n",
       "│ max_pooling2d_37              │ (\u001b[38;5;45mNone\u001b[0m, \u001b[38;5;34m64\u001b[0m, \u001b[38;5;34m64\u001b[0m, \u001b[38;5;34m32\u001b[0m)        │               \u001b[38;5;34m0\u001b[0m │ activation_165[\u001b[38;5;34m0\u001b[0m][\u001b[38;5;34m0\u001b[0m]       │\n",
       "│ (\u001b[38;5;33mMaxPooling2D\u001b[0m)                │                           │                 │                            │\n",
       "├───────────────────────────────┼───────────────────────────┼─────────────────┼────────────────────────────┤\n",
       "│ conv2d_175 (\u001b[38;5;33mConv2D\u001b[0m)           │ (\u001b[38;5;45mNone\u001b[0m, \u001b[38;5;34m64\u001b[0m, \u001b[38;5;34m64\u001b[0m, \u001b[38;5;34m64\u001b[0m)        │          \u001b[38;5;34m18,496\u001b[0m │ max_pooling2d_37[\u001b[38;5;34m0\u001b[0m][\u001b[38;5;34m0\u001b[0m]     │\n",
       "├───────────────────────────────┼───────────────────────────┼─────────────────┼────────────────────────────┤\n",
       "│ batch_normalization_166       │ (\u001b[38;5;45mNone\u001b[0m, \u001b[38;5;34m64\u001b[0m, \u001b[38;5;34m64\u001b[0m, \u001b[38;5;34m64\u001b[0m)        │             \u001b[38;5;34m256\u001b[0m │ conv2d_175[\u001b[38;5;34m0\u001b[0m][\u001b[38;5;34m0\u001b[0m]           │\n",
       "│ (\u001b[38;5;33mBatchNormalization\u001b[0m)          │                           │                 │                            │\n",
       "├───────────────────────────────┼───────────────────────────┼─────────────────┼────────────────────────────┤\n",
       "│ activation_166 (\u001b[38;5;33mActivation\u001b[0m)   │ (\u001b[38;5;45mNone\u001b[0m, \u001b[38;5;34m64\u001b[0m, \u001b[38;5;34m64\u001b[0m, \u001b[38;5;34m64\u001b[0m)        │               \u001b[38;5;34m0\u001b[0m │ batch_normalization_166[\u001b[38;5;34m0\u001b[0m… │\n",
       "├───────────────────────────────┼───────────────────────────┼─────────────────┼────────────────────────────┤\n",
       "│ conv2d_176 (\u001b[38;5;33mConv2D\u001b[0m)           │ (\u001b[38;5;45mNone\u001b[0m, \u001b[38;5;34m64\u001b[0m, \u001b[38;5;34m64\u001b[0m, \u001b[38;5;34m64\u001b[0m)        │          \u001b[38;5;34m36,928\u001b[0m │ activation_166[\u001b[38;5;34m0\u001b[0m][\u001b[38;5;34m0\u001b[0m]       │\n",
       "├───────────────────────────────┼───────────────────────────┼─────────────────┼────────────────────────────┤\n",
       "│ batch_normalization_167       │ (\u001b[38;5;45mNone\u001b[0m, \u001b[38;5;34m64\u001b[0m, \u001b[38;5;34m64\u001b[0m, \u001b[38;5;34m64\u001b[0m)        │             \u001b[38;5;34m256\u001b[0m │ conv2d_176[\u001b[38;5;34m0\u001b[0m][\u001b[38;5;34m0\u001b[0m]           │\n",
       "│ (\u001b[38;5;33mBatchNormalization\u001b[0m)          │                           │                 │                            │\n",
       "├───────────────────────────────┼───────────────────────────┼─────────────────┼────────────────────────────┤\n",
       "│ activation_167 (\u001b[38;5;33mActivation\u001b[0m)   │ (\u001b[38;5;45mNone\u001b[0m, \u001b[38;5;34m64\u001b[0m, \u001b[38;5;34m64\u001b[0m, \u001b[38;5;34m64\u001b[0m)        │               \u001b[38;5;34m0\u001b[0m │ batch_normalization_167[\u001b[38;5;34m0\u001b[0m… │\n",
       "├───────────────────────────────┼───────────────────────────┼─────────────────┼────────────────────────────┤\n",
       "│ max_pooling2d_38              │ (\u001b[38;5;45mNone\u001b[0m, \u001b[38;5;34m32\u001b[0m, \u001b[38;5;34m32\u001b[0m, \u001b[38;5;34m64\u001b[0m)        │               \u001b[38;5;34m0\u001b[0m │ activation_167[\u001b[38;5;34m0\u001b[0m][\u001b[38;5;34m0\u001b[0m]       │\n",
       "│ (\u001b[38;5;33mMaxPooling2D\u001b[0m)                │                           │                 │                            │\n",
       "├───────────────────────────────┼───────────────────────────┼─────────────────┼────────────────────────────┤\n",
       "│ conv2d_177 (\u001b[38;5;33mConv2D\u001b[0m)           │ (\u001b[38;5;45mNone\u001b[0m, \u001b[38;5;34m32\u001b[0m, \u001b[38;5;34m32\u001b[0m, \u001b[38;5;34m128\u001b[0m)       │          \u001b[38;5;34m73,856\u001b[0m │ max_pooling2d_38[\u001b[38;5;34m0\u001b[0m][\u001b[38;5;34m0\u001b[0m]     │\n",
       "├───────────────────────────────┼───────────────────────────┼─────────────────┼────────────────────────────┤\n",
       "│ batch_normalization_168       │ (\u001b[38;5;45mNone\u001b[0m, \u001b[38;5;34m32\u001b[0m, \u001b[38;5;34m32\u001b[0m, \u001b[38;5;34m128\u001b[0m)       │             \u001b[38;5;34m512\u001b[0m │ conv2d_177[\u001b[38;5;34m0\u001b[0m][\u001b[38;5;34m0\u001b[0m]           │\n",
       "│ (\u001b[38;5;33mBatchNormalization\u001b[0m)          │                           │                 │                            │\n",
       "├───────────────────────────────┼───────────────────────────┼─────────────────┼────────────────────────────┤\n",
       "│ activation_168 (\u001b[38;5;33mActivation\u001b[0m)   │ (\u001b[38;5;45mNone\u001b[0m, \u001b[38;5;34m32\u001b[0m, \u001b[38;5;34m32\u001b[0m, \u001b[38;5;34m128\u001b[0m)       │               \u001b[38;5;34m0\u001b[0m │ batch_normalization_168[\u001b[38;5;34m0\u001b[0m… │\n",
       "├───────────────────────────────┼───────────────────────────┼─────────────────┼────────────────────────────┤\n",
       "│ conv2d_178 (\u001b[38;5;33mConv2D\u001b[0m)           │ (\u001b[38;5;45mNone\u001b[0m, \u001b[38;5;34m32\u001b[0m, \u001b[38;5;34m32\u001b[0m, \u001b[38;5;34m128\u001b[0m)       │         \u001b[38;5;34m147,584\u001b[0m │ activation_168[\u001b[38;5;34m0\u001b[0m][\u001b[38;5;34m0\u001b[0m]       │\n",
       "├───────────────────────────────┼───────────────────────────┼─────────────────┼────────────────────────────┤\n",
       "│ batch_normalization_169       │ (\u001b[38;5;45mNone\u001b[0m, \u001b[38;5;34m32\u001b[0m, \u001b[38;5;34m32\u001b[0m, \u001b[38;5;34m128\u001b[0m)       │             \u001b[38;5;34m512\u001b[0m │ conv2d_178[\u001b[38;5;34m0\u001b[0m][\u001b[38;5;34m0\u001b[0m]           │\n",
       "│ (\u001b[38;5;33mBatchNormalization\u001b[0m)          │                           │                 │                            │\n",
       "├───────────────────────────────┼───────────────────────────┼─────────────────┼────────────────────────────┤\n",
       "│ activation_169 (\u001b[38;5;33mActivation\u001b[0m)   │ (\u001b[38;5;45mNone\u001b[0m, \u001b[38;5;34m32\u001b[0m, \u001b[38;5;34m32\u001b[0m, \u001b[38;5;34m128\u001b[0m)       │               \u001b[38;5;34m0\u001b[0m │ batch_normalization_169[\u001b[38;5;34m0\u001b[0m… │\n",
       "├───────────────────────────────┼───────────────────────────┼─────────────────┼────────────────────────────┤\n",
       "│ max_pooling2d_39              │ (\u001b[38;5;45mNone\u001b[0m, \u001b[38;5;34m16\u001b[0m, \u001b[38;5;34m16\u001b[0m, \u001b[38;5;34m128\u001b[0m)       │               \u001b[38;5;34m0\u001b[0m │ activation_169[\u001b[38;5;34m0\u001b[0m][\u001b[38;5;34m0\u001b[0m]       │\n",
       "│ (\u001b[38;5;33mMaxPooling2D\u001b[0m)                │                           │                 │                            │\n",
       "├───────────────────────────────┼───────────────────────────┼─────────────────┼────────────────────────────┤\n",
       "│ dropout_14 (\u001b[38;5;33mDropout\u001b[0m)          │ (\u001b[38;5;45mNone\u001b[0m, \u001b[38;5;34m16\u001b[0m, \u001b[38;5;34m16\u001b[0m, \u001b[38;5;34m128\u001b[0m)       │               \u001b[38;5;34m0\u001b[0m │ max_pooling2d_39[\u001b[38;5;34m0\u001b[0m][\u001b[38;5;34m0\u001b[0m]     │\n",
       "├───────────────────────────────┼───────────────────────────┼─────────────────┼────────────────────────────┤\n",
       "│ conv2d_179 (\u001b[38;5;33mConv2D\u001b[0m)           │ (\u001b[38;5;45mNone\u001b[0m, \u001b[38;5;34m16\u001b[0m, \u001b[38;5;34m16\u001b[0m, \u001b[38;5;34m256\u001b[0m)       │         \u001b[38;5;34m295,168\u001b[0m │ dropout_14[\u001b[38;5;34m0\u001b[0m][\u001b[38;5;34m0\u001b[0m]           │\n",
       "├───────────────────────────────┼───────────────────────────┼─────────────────┼────────────────────────────┤\n",
       "│ batch_normalization_170       │ (\u001b[38;5;45mNone\u001b[0m, \u001b[38;5;34m16\u001b[0m, \u001b[38;5;34m16\u001b[0m, \u001b[38;5;34m256\u001b[0m)       │           \u001b[38;5;34m1,024\u001b[0m │ conv2d_179[\u001b[38;5;34m0\u001b[0m][\u001b[38;5;34m0\u001b[0m]           │\n",
       "│ (\u001b[38;5;33mBatchNormalization\u001b[0m)          │                           │                 │                            │\n",
       "├───────────────────────────────┼───────────────────────────┼─────────────────┼────────────────────────────┤\n",
       "│ activation_170 (\u001b[38;5;33mActivation\u001b[0m)   │ (\u001b[38;5;45mNone\u001b[0m, \u001b[38;5;34m16\u001b[0m, \u001b[38;5;34m16\u001b[0m, \u001b[38;5;34m256\u001b[0m)       │               \u001b[38;5;34m0\u001b[0m │ batch_normalization_170[\u001b[38;5;34m0\u001b[0m… │\n",
       "├───────────────────────────────┼───────────────────────────┼─────────────────┼────────────────────────────┤\n",
       "│ conv2d_180 (\u001b[38;5;33mConv2D\u001b[0m)           │ (\u001b[38;5;45mNone\u001b[0m, \u001b[38;5;34m16\u001b[0m, \u001b[38;5;34m16\u001b[0m, \u001b[38;5;34m256\u001b[0m)       │         \u001b[38;5;34m590,080\u001b[0m │ activation_170[\u001b[38;5;34m0\u001b[0m][\u001b[38;5;34m0\u001b[0m]       │\n",
       "├───────────────────────────────┼───────────────────────────┼─────────────────┼────────────────────────────┤\n",
       "│ batch_normalization_171       │ (\u001b[38;5;45mNone\u001b[0m, \u001b[38;5;34m16\u001b[0m, \u001b[38;5;34m16\u001b[0m, \u001b[38;5;34m256\u001b[0m)       │           \u001b[38;5;34m1,024\u001b[0m │ conv2d_180[\u001b[38;5;34m0\u001b[0m][\u001b[38;5;34m0\u001b[0m]           │\n",
       "│ (\u001b[38;5;33mBatchNormalization\u001b[0m)          │                           │                 │                            │\n",
       "├───────────────────────────────┼───────────────────────────┼─────────────────┼────────────────────────────┤\n",
       "│ activation_171 (\u001b[38;5;33mActivation\u001b[0m)   │ (\u001b[38;5;45mNone\u001b[0m, \u001b[38;5;34m16\u001b[0m, \u001b[38;5;34m16\u001b[0m, \u001b[38;5;34m256\u001b[0m)       │               \u001b[38;5;34m0\u001b[0m │ batch_normalization_171[\u001b[38;5;34m0\u001b[0m… │\n",
       "├───────────────────────────────┼───────────────────────────┼─────────────────┼────────────────────────────┤\n",
       "│ conv2d_transpose_36           │ (\u001b[38;5;45mNone\u001b[0m, \u001b[38;5;34m32\u001b[0m, \u001b[38;5;34m32\u001b[0m, \u001b[38;5;34m128\u001b[0m)       │         \u001b[38;5;34m295,040\u001b[0m │ activation_171[\u001b[38;5;34m0\u001b[0m][\u001b[38;5;34m0\u001b[0m]       │\n",
       "│ (\u001b[38;5;33mConv2DTranspose\u001b[0m)             │                           │                 │                            │\n",
       "├───────────────────────────────┼───────────────────────────┼─────────────────┼────────────────────────────┤\n",
       "│ concatenate_36 (\u001b[38;5;33mConcatenate\u001b[0m)  │ (\u001b[38;5;45mNone\u001b[0m, \u001b[38;5;34m32\u001b[0m, \u001b[38;5;34m32\u001b[0m, \u001b[38;5;34m256\u001b[0m)       │               \u001b[38;5;34m0\u001b[0m │ conv2d_transpose_36[\u001b[38;5;34m0\u001b[0m][\u001b[38;5;34m0\u001b[0m], │\n",
       "│                               │                           │                 │ activation_169[\u001b[38;5;34m0\u001b[0m][\u001b[38;5;34m0\u001b[0m]       │\n",
       "├───────────────────────────────┼───────────────────────────┼─────────────────┼────────────────────────────┤\n",
       "│ conv2d_181 (\u001b[38;5;33mConv2D\u001b[0m)           │ (\u001b[38;5;45mNone\u001b[0m, \u001b[38;5;34m32\u001b[0m, \u001b[38;5;34m32\u001b[0m, \u001b[38;5;34m128\u001b[0m)       │         \u001b[38;5;34m295,040\u001b[0m │ concatenate_36[\u001b[38;5;34m0\u001b[0m][\u001b[38;5;34m0\u001b[0m]       │\n",
       "├───────────────────────────────┼───────────────────────────┼─────────────────┼────────────────────────────┤\n",
       "│ batch_normalization_172       │ (\u001b[38;5;45mNone\u001b[0m, \u001b[38;5;34m32\u001b[0m, \u001b[38;5;34m32\u001b[0m, \u001b[38;5;34m128\u001b[0m)       │             \u001b[38;5;34m512\u001b[0m │ conv2d_181[\u001b[38;5;34m0\u001b[0m][\u001b[38;5;34m0\u001b[0m]           │\n",
       "│ (\u001b[38;5;33mBatchNormalization\u001b[0m)          │                           │                 │                            │\n",
       "├───────────────────────────────┼───────────────────────────┼─────────────────┼────────────────────────────┤\n",
       "│ activation_172 (\u001b[38;5;33mActivation\u001b[0m)   │ (\u001b[38;5;45mNone\u001b[0m, \u001b[38;5;34m32\u001b[0m, \u001b[38;5;34m32\u001b[0m, \u001b[38;5;34m128\u001b[0m)       │               \u001b[38;5;34m0\u001b[0m │ batch_normalization_172[\u001b[38;5;34m0\u001b[0m… │\n",
       "├───────────────────────────────┼───────────────────────────┼─────────────────┼────────────────────────────┤\n",
       "│ conv2d_182 (\u001b[38;5;33mConv2D\u001b[0m)           │ (\u001b[38;5;45mNone\u001b[0m, \u001b[38;5;34m32\u001b[0m, \u001b[38;5;34m32\u001b[0m, \u001b[38;5;34m128\u001b[0m)       │         \u001b[38;5;34m147,584\u001b[0m │ activation_172[\u001b[38;5;34m0\u001b[0m][\u001b[38;5;34m0\u001b[0m]       │\n",
       "├───────────────────────────────┼───────────────────────────┼─────────────────┼────────────────────────────┤\n",
       "│ batch_normalization_173       │ (\u001b[38;5;45mNone\u001b[0m, \u001b[38;5;34m32\u001b[0m, \u001b[38;5;34m32\u001b[0m, \u001b[38;5;34m128\u001b[0m)       │             \u001b[38;5;34m512\u001b[0m │ conv2d_182[\u001b[38;5;34m0\u001b[0m][\u001b[38;5;34m0\u001b[0m]           │\n",
       "│ (\u001b[38;5;33mBatchNormalization\u001b[0m)          │                           │                 │                            │\n",
       "├───────────────────────────────┼───────────────────────────┼─────────────────┼────────────────────────────┤\n",
       "│ activation_173 (\u001b[38;5;33mActivation\u001b[0m)   │ (\u001b[38;5;45mNone\u001b[0m, \u001b[38;5;34m32\u001b[0m, \u001b[38;5;34m32\u001b[0m, \u001b[38;5;34m128\u001b[0m)       │               \u001b[38;5;34m0\u001b[0m │ batch_normalization_173[\u001b[38;5;34m0\u001b[0m… │\n",
       "├───────────────────────────────┼───────────────────────────┼─────────────────┼────────────────────────────┤\n",
       "│ conv2d_transpose_37           │ (\u001b[38;5;45mNone\u001b[0m, \u001b[38;5;34m64\u001b[0m, \u001b[38;5;34m64\u001b[0m, \u001b[38;5;34m64\u001b[0m)        │          \u001b[38;5;34m73,792\u001b[0m │ activation_173[\u001b[38;5;34m0\u001b[0m][\u001b[38;5;34m0\u001b[0m]       │\n",
       "│ (\u001b[38;5;33mConv2DTranspose\u001b[0m)             │                           │                 │                            │\n",
       "├───────────────────────────────┼───────────────────────────┼─────────────────┼────────────────────────────┤\n",
       "│ concatenate_37 (\u001b[38;5;33mConcatenate\u001b[0m)  │ (\u001b[38;5;45mNone\u001b[0m, \u001b[38;5;34m64\u001b[0m, \u001b[38;5;34m64\u001b[0m, \u001b[38;5;34m128\u001b[0m)       │               \u001b[38;5;34m0\u001b[0m │ conv2d_transpose_37[\u001b[38;5;34m0\u001b[0m][\u001b[38;5;34m0\u001b[0m], │\n",
       "│                               │                           │                 │ activation_167[\u001b[38;5;34m0\u001b[0m][\u001b[38;5;34m0\u001b[0m]       │\n",
       "├───────────────────────────────┼───────────────────────────┼─────────────────┼────────────────────────────┤\n",
       "│ conv2d_183 (\u001b[38;5;33mConv2D\u001b[0m)           │ (\u001b[38;5;45mNone\u001b[0m, \u001b[38;5;34m64\u001b[0m, \u001b[38;5;34m64\u001b[0m, \u001b[38;5;34m64\u001b[0m)        │          \u001b[38;5;34m73,792\u001b[0m │ concatenate_37[\u001b[38;5;34m0\u001b[0m][\u001b[38;5;34m0\u001b[0m]       │\n",
       "├───────────────────────────────┼───────────────────────────┼─────────────────┼────────────────────────────┤\n",
       "│ batch_normalization_174       │ (\u001b[38;5;45mNone\u001b[0m, \u001b[38;5;34m64\u001b[0m, \u001b[38;5;34m64\u001b[0m, \u001b[38;5;34m64\u001b[0m)        │             \u001b[38;5;34m256\u001b[0m │ conv2d_183[\u001b[38;5;34m0\u001b[0m][\u001b[38;5;34m0\u001b[0m]           │\n",
       "│ (\u001b[38;5;33mBatchNormalization\u001b[0m)          │                           │                 │                            │\n",
       "├───────────────────────────────┼───────────────────────────┼─────────────────┼────────────────────────────┤\n",
       "│ activation_174 (\u001b[38;5;33mActivation\u001b[0m)   │ (\u001b[38;5;45mNone\u001b[0m, \u001b[38;5;34m64\u001b[0m, \u001b[38;5;34m64\u001b[0m, \u001b[38;5;34m64\u001b[0m)        │               \u001b[38;5;34m0\u001b[0m │ batch_normalization_174[\u001b[38;5;34m0\u001b[0m… │\n",
       "├───────────────────────────────┼───────────────────────────┼─────────────────┼────────────────────────────┤\n",
       "│ conv2d_184 (\u001b[38;5;33mConv2D\u001b[0m)           │ (\u001b[38;5;45mNone\u001b[0m, \u001b[38;5;34m64\u001b[0m, \u001b[38;5;34m64\u001b[0m, \u001b[38;5;34m64\u001b[0m)        │          \u001b[38;5;34m36,928\u001b[0m │ activation_174[\u001b[38;5;34m0\u001b[0m][\u001b[38;5;34m0\u001b[0m]       │\n",
       "├───────────────────────────────┼───────────────────────────┼─────────────────┼────────────────────────────┤\n",
       "│ batch_normalization_175       │ (\u001b[38;5;45mNone\u001b[0m, \u001b[38;5;34m64\u001b[0m, \u001b[38;5;34m64\u001b[0m, \u001b[38;5;34m64\u001b[0m)        │             \u001b[38;5;34m256\u001b[0m │ conv2d_184[\u001b[38;5;34m0\u001b[0m][\u001b[38;5;34m0\u001b[0m]           │\n",
       "│ (\u001b[38;5;33mBatchNormalization\u001b[0m)          │                           │                 │                            │\n",
       "├───────────────────────────────┼───────────────────────────┼─────────────────┼────────────────────────────┤\n",
       "│ activation_175 (\u001b[38;5;33mActivation\u001b[0m)   │ (\u001b[38;5;45mNone\u001b[0m, \u001b[38;5;34m64\u001b[0m, \u001b[38;5;34m64\u001b[0m, \u001b[38;5;34m64\u001b[0m)        │               \u001b[38;5;34m0\u001b[0m │ batch_normalization_175[\u001b[38;5;34m0\u001b[0m… │\n",
       "├───────────────────────────────┼───────────────────────────┼─────────────────┼────────────────────────────┤\n",
       "│ conv2d_transpose_38           │ (\u001b[38;5;45mNone\u001b[0m, \u001b[38;5;34m128\u001b[0m, \u001b[38;5;34m128\u001b[0m, \u001b[38;5;34m32\u001b[0m)      │          \u001b[38;5;34m18,464\u001b[0m │ activation_175[\u001b[38;5;34m0\u001b[0m][\u001b[38;5;34m0\u001b[0m]       │\n",
       "│ (\u001b[38;5;33mConv2DTranspose\u001b[0m)             │                           │                 │                            │\n",
       "├───────────────────────────────┼───────────────────────────┼─────────────────┼────────────────────────────┤\n",
       "│ concatenate_38 (\u001b[38;5;33mConcatenate\u001b[0m)  │ (\u001b[38;5;45mNone\u001b[0m, \u001b[38;5;34m128\u001b[0m, \u001b[38;5;34m128\u001b[0m, \u001b[38;5;34m64\u001b[0m)      │               \u001b[38;5;34m0\u001b[0m │ conv2d_transpose_38[\u001b[38;5;34m0\u001b[0m][\u001b[38;5;34m0\u001b[0m], │\n",
       "│                               │                           │                 │ activation_165[\u001b[38;5;34m0\u001b[0m][\u001b[38;5;34m0\u001b[0m]       │\n",
       "├───────────────────────────────┼───────────────────────────┼─────────────────┼────────────────────────────┤\n",
       "│ conv2d_185 (\u001b[38;5;33mConv2D\u001b[0m)           │ (\u001b[38;5;45mNone\u001b[0m, \u001b[38;5;34m128\u001b[0m, \u001b[38;5;34m128\u001b[0m, \u001b[38;5;34m32\u001b[0m)      │          \u001b[38;5;34m18,464\u001b[0m │ concatenate_38[\u001b[38;5;34m0\u001b[0m][\u001b[38;5;34m0\u001b[0m]       │\n",
       "├───────────────────────────────┼───────────────────────────┼─────────────────┼────────────────────────────┤\n",
       "│ batch_normalization_176       │ (\u001b[38;5;45mNone\u001b[0m, \u001b[38;5;34m128\u001b[0m, \u001b[38;5;34m128\u001b[0m, \u001b[38;5;34m32\u001b[0m)      │             \u001b[38;5;34m128\u001b[0m │ conv2d_185[\u001b[38;5;34m0\u001b[0m][\u001b[38;5;34m0\u001b[0m]           │\n",
       "│ (\u001b[38;5;33mBatchNormalization\u001b[0m)          │                           │                 │                            │\n",
       "├───────────────────────────────┼───────────────────────────┼─────────────────┼────────────────────────────┤\n",
       "│ activation_176 (\u001b[38;5;33mActivation\u001b[0m)   │ (\u001b[38;5;45mNone\u001b[0m, \u001b[38;5;34m128\u001b[0m, \u001b[38;5;34m128\u001b[0m, \u001b[38;5;34m32\u001b[0m)      │               \u001b[38;5;34m0\u001b[0m │ batch_normalization_176[\u001b[38;5;34m0\u001b[0m… │\n",
       "├───────────────────────────────┼───────────────────────────┼─────────────────┼────────────────────────────┤\n",
       "│ conv2d_186 (\u001b[38;5;33mConv2D\u001b[0m)           │ (\u001b[38;5;45mNone\u001b[0m, \u001b[38;5;34m128\u001b[0m, \u001b[38;5;34m128\u001b[0m, \u001b[38;5;34m32\u001b[0m)      │           \u001b[38;5;34m9,248\u001b[0m │ activation_176[\u001b[38;5;34m0\u001b[0m][\u001b[38;5;34m0\u001b[0m]       │\n",
       "├───────────────────────────────┼───────────────────────────┼─────────────────┼────────────────────────────┤\n",
       "│ batch_normalization_177       │ (\u001b[38;5;45mNone\u001b[0m, \u001b[38;5;34m128\u001b[0m, \u001b[38;5;34m128\u001b[0m, \u001b[38;5;34m32\u001b[0m)      │             \u001b[38;5;34m128\u001b[0m │ conv2d_186[\u001b[38;5;34m0\u001b[0m][\u001b[38;5;34m0\u001b[0m]           │\n",
       "│ (\u001b[38;5;33mBatchNormalization\u001b[0m)          │                           │                 │                            │\n",
       "├───────────────────────────────┼───────────────────────────┼─────────────────┼────────────────────────────┤\n",
       "│ activation_177 (\u001b[38;5;33mActivation\u001b[0m)   │ (\u001b[38;5;45mNone\u001b[0m, \u001b[38;5;34m128\u001b[0m, \u001b[38;5;34m128\u001b[0m, \u001b[38;5;34m32\u001b[0m)      │               \u001b[38;5;34m0\u001b[0m │ batch_normalization_177[\u001b[38;5;34m0\u001b[0m… │\n",
       "├───────────────────────────────┼───────────────────────────┼─────────────────┼────────────────────────────┤\n",
       "│ conv2d_transpose_39           │ (\u001b[38;5;45mNone\u001b[0m, \u001b[38;5;34m256\u001b[0m, \u001b[38;5;34m256\u001b[0m, \u001b[38;5;34m16\u001b[0m)      │           \u001b[38;5;34m4,624\u001b[0m │ activation_177[\u001b[38;5;34m0\u001b[0m][\u001b[38;5;34m0\u001b[0m]       │\n",
       "│ (\u001b[38;5;33mConv2DTranspose\u001b[0m)             │                           │                 │                            │\n",
       "├───────────────────────────────┼───────────────────────────┼─────────────────┼────────────────────────────┤\n",
       "│ concatenate_39 (\u001b[38;5;33mConcatenate\u001b[0m)  │ (\u001b[38;5;45mNone\u001b[0m, \u001b[38;5;34m256\u001b[0m, \u001b[38;5;34m256\u001b[0m, \u001b[38;5;34m32\u001b[0m)      │               \u001b[38;5;34m0\u001b[0m │ conv2d_transpose_39[\u001b[38;5;34m0\u001b[0m][\u001b[38;5;34m0\u001b[0m], │\n",
       "│                               │                           │                 │ activation_163[\u001b[38;5;34m0\u001b[0m][\u001b[38;5;34m0\u001b[0m]       │\n",
       "├───────────────────────────────┼───────────────────────────┼─────────────────┼────────────────────────────┤\n",
       "│ conv2d_187 (\u001b[38;5;33mConv2D\u001b[0m)           │ (\u001b[38;5;45mNone\u001b[0m, \u001b[38;5;34m256\u001b[0m, \u001b[38;5;34m256\u001b[0m, \u001b[38;5;34m16\u001b[0m)      │           \u001b[38;5;34m4,624\u001b[0m │ concatenate_39[\u001b[38;5;34m0\u001b[0m][\u001b[38;5;34m0\u001b[0m]       │\n",
       "├───────────────────────────────┼───────────────────────────┼─────────────────┼────────────────────────────┤\n",
       "│ batch_normalization_178       │ (\u001b[38;5;45mNone\u001b[0m, \u001b[38;5;34m256\u001b[0m, \u001b[38;5;34m256\u001b[0m, \u001b[38;5;34m16\u001b[0m)      │              \u001b[38;5;34m64\u001b[0m │ conv2d_187[\u001b[38;5;34m0\u001b[0m][\u001b[38;5;34m0\u001b[0m]           │\n",
       "│ (\u001b[38;5;33mBatchNormalization\u001b[0m)          │                           │                 │                            │\n",
       "├───────────────────────────────┼───────────────────────────┼─────────────────┼────────────────────────────┤\n",
       "│ activation_178 (\u001b[38;5;33mActivation\u001b[0m)   │ (\u001b[38;5;45mNone\u001b[0m, \u001b[38;5;34m256\u001b[0m, \u001b[38;5;34m256\u001b[0m, \u001b[38;5;34m16\u001b[0m)      │               \u001b[38;5;34m0\u001b[0m │ batch_normalization_178[\u001b[38;5;34m0\u001b[0m… │\n",
       "├───────────────────────────────┼───────────────────────────┼─────────────────┼────────────────────────────┤\n",
       "│ conv2d_188 (\u001b[38;5;33mConv2D\u001b[0m)           │ (\u001b[38;5;45mNone\u001b[0m, \u001b[38;5;34m256\u001b[0m, \u001b[38;5;34m256\u001b[0m, \u001b[38;5;34m16\u001b[0m)      │           \u001b[38;5;34m2,320\u001b[0m │ activation_178[\u001b[38;5;34m0\u001b[0m][\u001b[38;5;34m0\u001b[0m]       │\n",
       "├───────────────────────────────┼───────────────────────────┼─────────────────┼────────────────────────────┤\n",
       "│ batch_normalization_179       │ (\u001b[38;5;45mNone\u001b[0m, \u001b[38;5;34m256\u001b[0m, \u001b[38;5;34m256\u001b[0m, \u001b[38;5;34m16\u001b[0m)      │              \u001b[38;5;34m64\u001b[0m │ conv2d_188[\u001b[38;5;34m0\u001b[0m][\u001b[38;5;34m0\u001b[0m]           │\n",
       "│ (\u001b[38;5;33mBatchNormalization\u001b[0m)          │                           │                 │                            │\n",
       "├───────────────────────────────┼───────────────────────────┼─────────────────┼────────────────────────────┤\n",
       "│ activation_179 (\u001b[38;5;33mActivation\u001b[0m)   │ (\u001b[38;5;45mNone\u001b[0m, \u001b[38;5;34m256\u001b[0m, \u001b[38;5;34m256\u001b[0m, \u001b[38;5;34m16\u001b[0m)      │               \u001b[38;5;34m0\u001b[0m │ batch_normalization_179[\u001b[38;5;34m0\u001b[0m… │\n",
       "├───────────────────────────────┼───────────────────────────┼─────────────────┼────────────────────────────┤\n",
       "│ conv2d_189 (\u001b[38;5;33mConv2D\u001b[0m)           │ (\u001b[38;5;45mNone\u001b[0m, \u001b[38;5;34m256\u001b[0m, \u001b[38;5;34m256\u001b[0m, \u001b[38;5;34m1\u001b[0m)       │              \u001b[38;5;34m17\u001b[0m │ activation_179[\u001b[38;5;34m0\u001b[0m][\u001b[38;5;34m0\u001b[0m]       │\n",
       "└───────────────────────────────┴───────────────────────────┴─────────────────┴────────────────────────────┘\n"
      ]
     },
     "metadata": {},
     "output_type": "display_data"
    },
    {
     "data": {
      "text/html": [
       "<pre style=\"white-space:pre;overflow-x:auto;line-height:normal;font-family:Menlo,'DejaVu Sans Mono',consolas,'Courier New',monospace\"><span style=\"font-weight: bold\"> Total params: </span><span style=\"color: #00af00; text-decoration-color: #00af00\">2,164,593</span> (8.26 MB)\n",
       "</pre>\n"
      ],
      "text/plain": [
       "\u001b[1m Total params: \u001b[0m\u001b[38;5;34m2,164,593\u001b[0m (8.26 MB)\n"
      ]
     },
     "metadata": {},
     "output_type": "display_data"
    },
    {
     "data": {
      "text/html": [
       "<pre style=\"white-space:pre;overflow-x:auto;line-height:normal;font-family:Menlo,'DejaVu Sans Mono',consolas,'Courier New',monospace\"><span style=\"font-weight: bold\"> Trainable params: </span><span style=\"color: #00af00; text-decoration-color: #00af00\">2,158,817</span> (8.24 MB)\n",
       "</pre>\n"
      ],
      "text/plain": [
       "\u001b[1m Trainable params: \u001b[0m\u001b[38;5;34m2,158,817\u001b[0m (8.24 MB)\n"
      ]
     },
     "metadata": {},
     "output_type": "display_data"
    },
    {
     "data": {
      "text/html": [
       "<pre style=\"white-space:pre;overflow-x:auto;line-height:normal;font-family:Menlo,'DejaVu Sans Mono',consolas,'Courier New',monospace\"><span style=\"font-weight: bold\"> Non-trainable params: </span><span style=\"color: #00af00; text-decoration-color: #00af00\">5,776</span> (22.56 KB)\n",
       "</pre>\n"
      ],
      "text/plain": [
       "\u001b[1m Non-trainable params: \u001b[0m\u001b[38;5;34m5,776\u001b[0m (22.56 KB)\n"
      ]
     },
     "metadata": {},
     "output_type": "display_data"
    }
   ],
   "source": [
    "# U-Net architecture's summary\n",
    "model_unet.summary()"
   ]
  },
  {
   "cell_type": "markdown",
   "id": "559656c5-ec7e-4af3-9158-04ee203b683d",
   "metadata": {},
   "source": [
    "## 5.x. Fitting the Model"
   ]
  },
  {
   "cell_type": "code",
   "execution_count": 440,
   "id": "9fb70368-fc40-41dd-a850-0a6df1228b59",
   "metadata": {},
   "outputs": [],
   "source": [
    "# Note: The ML pipeline automatically saves the weights of the best model according to val_accuracy"
   ]
  },
  {
   "cell_type": "code",
   "execution_count": 441,
   "id": "4da1c51f-2c78-4249-9775-a284831a45a4",
   "metadata": {},
   "outputs": [
    {
     "name": "stdout",
     "output_type": "stream",
     "text": [
      "Epoch 1/16\n",
      "\u001b[1m40/40\u001b[0m \u001b[32m━━━━━━━━━━━━━━━━━━━━\u001b[0m\u001b[37m\u001b[0m \u001b[1m0s\u001b[0m 2s/step - accuracy: 0.0718 - loss: -29.0079\n",
      "Epoch 1: val_accuracy improved from -inf to 0.79812, saving model to checkpoints_newnet\\weights-improvement-0.80.keras\n",
      "\u001b[1m40/40\u001b[0m \u001b[32m━━━━━━━━━━━━━━━━━━━━\u001b[0m\u001b[37m\u001b[0m \u001b[1m117s\u001b[0m 2s/step - accuracy: 0.0715 - loss: -29.0578 - val_accuracy: 0.7981 - val_loss: -2.4020\n",
      "Epoch 2/16\n",
      "\u001b[1m40/40\u001b[0m \u001b[32m━━━━━━━━━━━━━━━━━━━━\u001b[0m\u001b[37m\u001b[0m \u001b[1m0s\u001b[0m 2s/step - accuracy: 0.0565 - loss: -31.8130\n",
      "Epoch 2: val_accuracy did not improve from 0.79812\n",
      "\u001b[1m40/40\u001b[0m \u001b[32m━━━━━━━━━━━━━━━━━━━━\u001b[0m\u001b[37m\u001b[0m \u001b[1m96s\u001b[0m 2s/step - accuracy: 0.0564 - loss: -31.8357 - val_accuracy: 0.2473 - val_loss: -24.8079\n",
      "Epoch 3/16\n",
      "\u001b[1m40/40\u001b[0m \u001b[32m━━━━━━━━━━━━━━━━━━━━\u001b[0m\u001b[37m\u001b[0m \u001b[1m0s\u001b[0m 2s/step - accuracy: 0.0427 - loss: -34.1347\n",
      "Epoch 3: val_accuracy did not improve from 0.79812\n",
      "\u001b[1m40/40\u001b[0m \u001b[32m━━━━━━━━━━━━━━━━━━━━\u001b[0m\u001b[37m\u001b[0m \u001b[1m97s\u001b[0m 2s/step - accuracy: 0.0427 - loss: -34.1325 - val_accuracy: 0.2128 - val_loss: -32.1887\n",
      "Epoch 4/16\n",
      "\u001b[1m40/40\u001b[0m \u001b[32m━━━━━━━━━━━━━━━━━━━━\u001b[0m\u001b[37m\u001b[0m \u001b[1m0s\u001b[0m 2s/step - accuracy: 0.0569 - loss: -36.8732\n",
      "Epoch 4: val_accuracy did not improve from 0.79812\n",
      "\u001b[1m40/40\u001b[0m \u001b[32m━━━━━━━━━━━━━━━━━━━━\u001b[0m\u001b[37m\u001b[0m \u001b[1m77s\u001b[0m 2s/step - accuracy: 0.0568 - loss: -36.8331 - val_accuracy: 0.1209 - val_loss: -36.1188\n",
      "Epoch 4: early stopping\n"
     ]
    }
   ],
   "source": [
    "# Fitting the model\n",
    "history = model_unet.fit(\n",
    "    X_train,                            # Train images\n",
    "    y_train,                            # Train masks, targets\n",
    "    epochs=16,                          # Number of epochs\n",
    "    batch_size=16,                      # Batch size\n",
    "    validation_data=(X_test, y_test),   # Validation data\n",
    "    callbacks=callbacks_list\n",
    ")"
   ]
  },
  {
   "cell_type": "markdown",
   "id": "a7ceb2bc-b5cd-400f-9ece-6aec7ae441ae",
   "metadata": {},
   "source": [
    "# 5. Creating Predictions"
   ]
  },
  {
   "cell_type": "markdown",
   "id": "b0176fe3-07d6-4057-b3b2-e91a91bfd9b7",
   "metadata": {},
   "source": [
    "## 5.x. Loading the Best Model Weights"
   ]
  },
  {
   "cell_type": "code",
   "execution_count": 41,
   "id": "b3a332c6-2292-45da-ae2e-ed151f28758b",
   "metadata": {},
   "outputs": [],
   "source": [
    "# Load the best model weights\n",
    "checkpoint_files = [f for f in os.listdir(checkPoint_path) if f.startswith('weights-improvement')]"
   ]
  },
  {
   "cell_type": "code",
   "execution_count": 42,
   "id": "a67afd9e-5abb-4cfa-a3a7-316edaf8cf6d",
   "metadata": {},
   "outputs": [
    {
     "name": "stdout",
     "output_type": "stream",
     "text": [
      "Best model weights loaded from: checkpoints_newnet\\weights-improvement-0.73.keras\n"
     ]
    }
   ],
   "source": [
    "# Check if the list is not empty\n",
    "if checkpoint_files:\n",
    "    # Find the best model weights file based on validation accuracy in the filename\n",
    "    bm_filepath = max(\n",
    "        checkpoint_files,\n",
    "        key=lambda x: float(x.split('-')[2].replace('.keras', ''))  # Extract validation accuracy from filename and find the best one\n",
    "    )\n",
    "    bm_path = os.path.join(checkPoint_path, bm_filepath)\n",
    "    if os.path.exists(bm_path):\n",
    "        model_unet.load_weights(bm_path)\n",
    "        print(f\"Best model weights loaded from: {bm_path}\")\n",
    "    else:\n",
    "        raise FileNotFoundError(f\"Checkpoint file '{bm_filepath}' not found in the specified directory: {checkPoint_path}\")\n",
    "else:\n",
    "    raise ValueError(\"No checkpoint files found in the specified directory.\")"
   ]
  },
  {
   "cell_type": "code",
   "execution_count": 43,
   "id": "2eb769e0-5fba-4e8a-9b92-081550b9ae81",
   "metadata": {},
   "outputs": [],
   "source": [
    "# Compile the model with weighted binary cross-entropy\n",
    "model_unet.compile(optimizer='adam', \n",
    "                   loss=tf.keras.losses.BinaryCrossentropy(from_logits=True), \n",
    "                   metrics=['accuracy']\n",
    "                  )"
   ]
  },
  {
   "cell_type": "markdown",
   "id": "ba228cbe-ae06-4dc0-8ee2-90c5ea1a9243",
   "metadata": {},
   "source": [
    "## 5.x. Selecting an Image from the Dataset"
   ]
  },
  {
   "cell_type": "code",
   "execution_count": 251,
   "id": "07bf99df-645c-4d19-9e89-191848b11e4d",
   "metadata": {},
   "outputs": [],
   "source": [
    "# Directory paths\n",
    "tp_ts = \"train_set/tp_trainset\"\n",
    "tp_mask_ts = \"train_set/tp_mask_trainset\""
   ]
  },
  {
   "cell_type": "code",
   "execution_count": 252,
   "id": "87f7b189-1521-467f-961d-a6c1cae89d01",
   "metadata": {},
   "outputs": [],
   "source": [
    "# File name without extension\n",
    "file_name = \"Tp_D_CRN_M_N_nat10161_nat10157_12081\""
   ]
  },
  {
   "cell_type": "code",
   "execution_count": 253,
   "id": "cab68bc7-3898-4725-bbc2-167830c100d2",
   "metadata": {},
   "outputs": [],
   "source": [
    "# Load test image\n",
    "test_img = Image.open(os.path.join(tp_ts, file_name + \".jpg\"))\n",
    "test_img = np.array(test_img)"
   ]
  },
  {
   "cell_type": "code",
   "execution_count": 254,
   "id": "c1f864f2-f334-47cf-9732-aa26123ffccb",
   "metadata": {},
   "outputs": [],
   "source": [
    "# Load ground truth mask\n",
    "gt_img = Image.open(os.path.join(tp_mask_ts, file_name + \"_gt.png\"))\n",
    "gt_img = np.array(gt_img)"
   ]
  },
  {
   "cell_type": "markdown",
   "id": "f1b4a217-6d81-4334-b99a-c3918e67041a",
   "metadata": {},
   "source": [
    "## 5.x. Making the Prediction"
   ]
  },
  {
   "cell_type": "code",
   "execution_count": 255,
   "id": "f0f3e6be-5fa8-471d-a4b3-4bb9edc68e44",
   "metadata": {},
   "outputs": [
    {
     "name": "stdout",
     "output_type": "stream",
     "text": [
      "\u001b[1m1/1\u001b[0m \u001b[32m━━━━━━━━━━━━━━━━━━━━\u001b[0m\u001b[37m\u001b[0m \u001b[1m0s\u001b[0m 174ms/step\n"
     ]
    }
   ],
   "source": [
    "# Predict mask using your model\n",
    "prediction = model_unet.predict(np.expand_dims(test_img, axis=0))"
   ]
  },
  {
   "cell_type": "code",
   "execution_count": 256,
   "id": "65a8e521-729b-4d58-9a84-b1b17cbf2300",
   "metadata": {},
   "outputs": [],
   "source": [
    "# Convert prediction to uint8\n",
    "prediction = (prediction.squeeze() * 255).astype(np.uint8)"
   ]
  },
  {
   "cell_type": "code",
   "execution_count": 257,
   "id": "d2561cdc-04a5-4b96-9126-08251c091a0a",
   "metadata": {},
   "outputs": [],
   "source": [
    "# Assuming 'prediction' contains your prediction array with values ranging from 0 to 1\n",
    "#threshold = 0.5  # You can adjust this threshold as needed\n",
    "\n",
    "# Apply thresholding\n",
    "#prediction_th = np.where(prediction > threshold, 1, 0)"
   ]
  },
  {
   "cell_type": "markdown",
   "id": "f7d99b36-06dd-4942-b929-a0d5dac5b096",
   "metadata": {},
   "source": [
    "## 5.x. Saving Prediction as a PNG File"
   ]
  },
  {
   "cell_type": "code",
   "execution_count": 258,
   "id": "fcb6ae0e-c181-46cf-96b3-778d9a111db8",
   "metadata": {},
   "outputs": [],
   "source": [
    "date = datetime.datetime.now().strftime(\"%Y%m%d\")"
   ]
  },
  {
   "cell_type": "code",
   "execution_count": 259,
   "id": "dbf94f5a-0c40-4306-8fd8-e9e9099ea2a0",
   "metadata": {},
   "outputs": [],
   "source": [
    "prediction_fn = f\"prediction_{date}_.png\""
   ]
  },
  {
   "cell_type": "code",
   "execution_count": 260,
   "id": "ab5e0f3c-9588-4729-bc25-b21114d73d3e",
   "metadata": {},
   "outputs": [],
   "source": [
    "prediction_path = \"predictions\""
   ]
  },
  {
   "cell_type": "code",
   "execution_count": 261,
   "id": "b5a7ade3-4665-4210-9c4f-50c766f24c0d",
   "metadata": {},
   "outputs": [],
   "source": [
    "prediction_img = Image.fromarray((prediction.squeeze() * 255).astype(np.uint8))\n",
    "prediction_img.save(os.path.join(prediction_path, prediction_fn))"
   ]
  },
  {
   "cell_type": "markdown",
   "id": "23e2566e-8845-4fb8-89aa-d2823831efd4",
   "metadata": {},
   "source": [
    "## 5.x. Creating the Plot"
   ]
  },
  {
   "cell_type": "code",
   "execution_count": 262,
   "id": "c7c19c16-48ac-45c9-96fe-7f6410412f74",
   "metadata": {
    "scrolled": true
   },
   "outputs": [
    {
     "data": {
      "image/png": "[encoded data removed]",
      "text/plain": [
       "<Figure size 640x480 with 3 Axes>"
      ]
     },
     "metadata": {},
     "output_type": "display_data"
    }
   ],
   "source": [
    "# Test Image\n",
    "plt.subplot(1, 3, 1)\n",
    "plt.title('Selected Image')\n",
    "plt.imshow(test_img)\n",
    "plt.axis('off')\n",
    "\n",
    "# Predicted Mask\n",
    "plt.subplot(1, 3, 2)\n",
    "plt.title('Prediction')\n",
    "plt.imshow(prediction.squeeze(), cmap='gray')  # Remove extra dimension\n",
    "plt.axis('off')\n",
    "\n",
    "# Ground Truth Mask\n",
    "plt.subplot(1, 3, 3)\n",
    "plt.title('Groundtruth Mask')\n",
    "plt.imshow(gt_img, cmap='gray')  # Display the ground truth mask\n",
    "plt.axis('off')\n",
    "\n",
    "plt.show()"
   ]
  },
  {
   "cell_type": "markdown",
   "id": "154bf268-cd46-40f3-bd6c-6d257d9861de",
   "metadata": {},
   "source": [
    "# 6. Evaluating U-Net's Segmentation"
   ]
  },
  {
   "cell_type": "code",
   "execution_count": 263,
   "id": "72cb1163-3706-44c6-aefd-b516adcf3b7a",
   "metadata": {},
   "outputs": [],
   "source": [
    "# Note: More information - https://medium.com/red-buffer/semantic-segmentation-u-net-1e5c0f4516a5\n",
    "# Note: 256^2 = 65 536\n",
    "# Note: Closer to 100% means better performance"
   ]
  },
  {
   "cell_type": "markdown",
   "id": "23d8ab48-156e-4ca3-9283-1cc3ffc1bef1",
   "metadata": {},
   "source": [
    "## 6.x. Pixel Accuracy"
   ]
  },
  {
   "cell_type": "code",
   "execution_count": 264,
   "id": "98affcfc-cbdd-4b8f-8daf-8bf797e389eb",
   "metadata": {},
   "outputs": [],
   "source": [
    "# Note: Closer to 100% means better accuracy."
   ]
  },
  {
   "cell_type": "code",
   "execution_count": 265,
   "id": "80f1a1ca-c783-43fc-9628-662bda60a174",
   "metadata": {},
   "outputs": [
    {
     "name": "stdout",
     "output_type": "stream",
     "text": [
      "Predicted mask shape: (256, 256)\n",
      "Ground truth mask shape: (256, 256)\n"
     ]
    }
   ],
   "source": [
    "print(\"Predicted mask shape:\", prediction.shape)\n",
    "print(\"Ground truth mask shape:\", gt_img.shape)"
   ]
  },
  {
   "cell_type": "code",
   "execution_count": 266,
   "id": "c95e1542-e55d-4f3b-a9af-f7d789edd0ea",
   "metadata": {},
   "outputs": [],
   "source": [
    "# Compare binary segmentation mask with ground truth mask pixel by pixel\n",
    "px_correct = np.sum(prediction == gt_img)"
   ]
  },
  {
   "cell_type": "code",
   "execution_count": 267,
   "id": "bb10cbca-934f-4633-bf7f-bfa1fc780e77",
   "metadata": {},
   "outputs": [],
   "source": [
    "# Total number of pixels\n",
    "px_total = np.prod(gt_img.shape)"
   ]
  },
  {
   "cell_type": "code",
   "execution_count": 268,
   "id": "d6f9c4bb-7184-4f6e-99d7-4189770d5c26",
   "metadata": {},
   "outputs": [
    {
     "name": "stdout",
     "output_type": "stream",
     "text": [
      "16653 / 65536 * 100\n"
     ]
    }
   ],
   "source": [
    "# Compute pixel accuracy\n",
    "eval_pa = px_correct / px_total * 100\n",
    "print(px_correct, \"/\", px_total, \"* 100\")\n",
    "# 65 536 = 256^2"
   ]
  },
  {
   "cell_type": "code",
   "execution_count": 269,
   "id": "e44af981-36d9-4d13-9365-4d2d32cb3f0d",
   "metadata": {},
   "outputs": [
    {
     "name": "stdout",
     "output_type": "stream",
     "text": [
      "Pixel Accuracy: 25.4105%\n"
     ]
    }
   ],
   "source": [
    "print(\"Pixel Accuracy: {:.4f}%\".format(eval_pa))"
   ]
  },
  {
   "cell_type": "markdown",
   "id": "7b3da876-ac67-41a3-8849-ce2ec2c0cae4",
   "metadata": {},
   "source": [
    "## 6.x. Intersection over Union (IoU)"
   ]
  },
  {
   "cell_type": "code",
   "execution_count": 270,
   "id": "a0441fd2-930e-4792-9825-a41a64ba9152",
   "metadata": {},
   "outputs": [],
   "source": [
    "# Calculate intersection\n",
    "intersection = np.sum(np.logical_and(prediction, gt_img))"
   ]
  },
  {
   "cell_type": "code",
   "execution_count": 271,
   "id": "ec5b5635-a6de-4157-aa66-11fff0ce59ac",
   "metadata": {},
   "outputs": [],
   "source": [
    "# Calculate union\n",
    "union = np.sum(np.logical_or(prediction, gt_img))"
   ]
  },
  {
   "cell_type": "code",
   "execution_count": 272,
   "id": "2491c0b8-7bc5-4626-aad5-4fd704cf15a7",
   "metadata": {},
   "outputs": [],
   "source": [
    "# Compute IoU\n",
    "iou = intersection / union"
   ]
  },
  {
   "cell_type": "code",
   "execution_count": 273,
   "id": "690ff782-3a59-4d81-be8b-fb8f2f2bdc3a",
   "metadata": {},
   "outputs": [
    {
     "name": "stdout",
     "output_type": "stream",
     "text": [
      "Intersection over Union (IoU): 0.6043\n"
     ]
    }
   ],
   "source": [
    "print(\"Intersection over Union (IoU): {:.4f}\".format(iou)) # closer to 100% means better segmentation performance"
   ]
  },
  {
   "cell_type": "markdown",
   "id": "771d35eb-bcd2-42ce-8ed8-3d7835f70a0c",
   "metadata": {},
   "source": [
    "# 7. Visualizing Metrics w/ TensorBoard"
   ]
  },
  {
   "cell_type": "code",
   "execution_count": 248,
   "id": "3974fdcf-d209-41a2-bdad-0100fede3855",
   "metadata": {},
   "outputs": [
    {
     "name": "stderr",
     "output_type": "stream",
     "text": [
      "2024-05-18 18:21:44.013853: I tensorflow/core/util/port.cc:113] oneDNN custom operations are on. You may see slightly different numerical results due to floating-point round-off errors from different computation orders. To turn them off, set the environment variable `TF_ENABLE_ONEDNN_OPTS=0`.\n",
      "2024-05-18 18:21:45.657369: I tensorflow/core/util/port.cc:113] oneDNN custom operations are on. You may see slightly different numerical results due to floating-point round-off errors from different computation orders. To turn them off, set the environment variable `TF_ENABLE_ONEDNN_OPTS=0`.\n",
      "W0518 18:21:49.875244 15236 plugin_event_accumulator.py:369] Found more than one graph event per run, or there was a metagraph containing a graph_def, as well as one or more graph events.  Overwriting the graph with the newest event.\n",
      "E0518 18:21:50.372375  8580 program.py:300] TensorBoard could not bind to port 8088, it was already in use\n",
      "ERROR: TensorBoard could not bind to port 8088, it was already in use\n"
     ]
    }
   ],
   "source": [
    "!tensorboard --logdir=logs --host localhost --port 8088"
   ]
  }
 ],
 "metadata": {
  "kernelspec": {
   "display_name": "Python 3 (ipykernel)",
   "language": "python",
   "name": "python3"
  },
  "language_info": {
   "codemirror_mode": {
    "name": "ipython",
    "version": 3
   },
   "file_extension": ".py",
   "mimetype": "text/x-python",
   "name": "python",
   "nbconvert_exporter": "python",
   "pygments_lexer": "ipython3",
   "version": "3.12.1"
  }
 },
 "nbformat": 4,
 "nbformat_minor": 5
}
