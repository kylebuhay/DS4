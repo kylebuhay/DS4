{
 "cells": [
  {
   "cell_type": "markdown",
   "id": "9d9c0528-0e43-4065-920a-1311b7acfac8",
   "metadata": {},
   "source": [
    "# U-Net Model"
   ]
  },
  {
   "cell_type": "markdown",
   "id": "b5094f6e-ade2-477a-a0eb-579e942286cf",
   "metadata": {},
   "source": [
    "## Import Libraries, Modules, & Scripts"
   ]
  },
  {
   "cell_type": "code",
   "execution_count": 1,
   "id": "f9154480-d306-475e-b55d-1d463e3d3051",
   "metadata": {},
   "outputs": [],
   "source": [
    "import torch\n",
    "import torchmetrics\n",
    "import numpy as np\n",
    "import matplotlib.pyplot as plt\n",
    "\n",
    "from torch import optim, nn\n",
    "from torchmetrics.classification import BinaryJaccardIndex\n",
    "from torch.optim.lr_scheduler import ReduceLROnPlateau\n",
    "from torch.utils.data import DataLoader\n",
    "from tqdm import tqdm\n",
    "\n",
    "from unet import unet\n",
    "from dataset import dataset\n",
    "from callbacks import EarlyStopping"
   ]
  },
  {
   "cell_type": "markdown",
   "id": "b90c26e4-4415-4e85-8806-35aeec739777",
   "metadata": {},
   "source": [
    "## Set Hyperparameters and Device"
   ]
  },
  {
   "cell_type": "code",
   "execution_count": 2,
   "id": "77f6a0f1-240d-43da-8cbb-28c6d081882d",
   "metadata": {},
   "outputs": [],
   "source": [
    "LEARNING_RATE = 0.001\n",
    "BATCH_SIZE = 16\n",
    "EPOCHS = 25\n",
    "DATA_PATH = '25-ds-casia-un-tvt'\n",
    "MODEL_SAVE_PATH = 'un-model/ds4-un-model.pth'\n",
    "RESUME_TRAINING = True"
   ]
  },
  {
   "cell_type": "markdown",
   "id": "c21a0671-aef2-47e4-84c6-7137e334bcfa",
   "metadata": {},
   "source": [
    "### Select Device"
   ]
  },
  {
   "cell_type": "code",
   "execution_count": 3,
   "id": "5b7e378d-9836-4cbe-a301-0a146a959adb",
   "metadata": {},
   "outputs": [
    {
     "name": "stdout",
     "output_type": "stream",
     "text": [
      "Using device: cuda\n"
     ]
    }
   ],
   "source": [
    "device = \"cuda\" if torch.cuda.is_available() else \"cpu\"\n",
    "print(f\"Using device: {device}\")"
   ]
  },
  {
   "cell_type": "markdown",
   "id": "e3d6c991-6f25-4472-acf7-5de8865d3c10",
   "metadata": {},
   "source": [
    "## Create Datasets and DataLoaders"
   ]
  },
  {
   "cell_type": "code",
   "execution_count": 4,
   "id": "d4bf6fdf-7afe-478a-b36d-a2ff68de68ff",
   "metadata": {},
   "outputs": [],
   "source": [
    "train_dataset = dataset(root_path=DATA_PATH, split='train')\n",
    "val_dataset = dataset(root_path=DATA_PATH, split='validation')\n",
    "test_dataset = dataset(root_path=DATA_PATH, split='test')"
   ]
  },
  {
   "cell_type": "code",
   "execution_count": 5,
   "id": "0229fdd3-41fa-48e2-ad3a-0c06ebbeb405",
   "metadata": {},
   "outputs": [],
   "source": [
    "train_dataloader = DataLoader(dataset=train_dataset, batch_size=BATCH_SIZE, shuffle=True)\n",
    "val_dataloader = DataLoader(dataset=val_dataset, batch_size=BATCH_SIZE, shuffle=False)\n",
    "test_dataloader = DataLoader(dataset=test_dataset, batch_size=BATCH_SIZE, shuffle=False)"
   ]
  },
  {
   "cell_type": "markdown",
   "id": "32d43118-8c5f-44b8-ae60-817cc9adad3c",
   "metadata": {},
   "source": [
    "## Initialize Model, Optimizer, and Loss Function"
   ]
  },
  {
   "cell_type": "markdown",
   "id": "2ec4c796-104f-4dc1-a1cb-4806d915c7fb",
   "metadata": {},
   "source": [
    "### Class Weighting"
   ]
  },
  {
   "cell_type": "code",
   "execution_count": 6,
   "id": "31f30e65-3c47-45df-905e-b33e0fa0274e",
   "metadata": {},
   "outputs": [],
   "source": [
    "total_px = 0\n",
    "total_tp_px = 0"
   ]
  },
  {
   "cell_type": "code",
   "execution_count": 7,
   "id": "23b9c949-4a7f-48c1-b621-8276e70647a4",
   "metadata": {},
   "outputs": [],
   "source": [
    "for img, mask in train_dataloader:\n",
    "    total_px += mask.nelement()\n",
    "    total_tp_px += mask.sum().item()\n",
    "\n",
    "# Calculate the ratio\n",
    "au_px = total_px - total_tp_px\n",
    "pos_weight = au_px / total_tp_px"
   ]
  },
  {
   "cell_type": "code",
   "execution_count": 8,
   "id": "e4df4c18-7566-4294-a53e-a9608cbcf469",
   "metadata": {},
   "outputs": [],
   "source": [
    "# Manually adjust pos_weight\n",
    "pos_weight = 5.75"
   ]
  },
  {
   "cell_type": "code",
   "execution_count": 12,
   "id": "ecb76617-7cd1-4688-9753-3d07354fbcbc",
   "metadata": {},
   "outputs": [
    {
     "name": "stdout",
     "output_type": "stream",
     "text": [
      "Total pixels: 58851328\n",
      "Total tampered pixels: 6278795.00\n",
      "Calculated pos_weight: 5.75\n"
     ]
    }
   ],
   "source": [
    "print(f\"Total pixels: {total_px}\")                   # 58,851,328\n",
    "print(f\"Total tampered pixels: {total_tp_px:.2f}\")   # 6,278,795.00\n",
    "print(f\"Calculated pos_weight: {pos_weight:.2f}\")    # 8.37 / or manually set"
   ]
  },
  {
   "cell_type": "code",
   "execution_count": 13,
   "id": "84a745b8-5a42-44a9-ba3f-d06fbf155562",
   "metadata": {},
   "outputs": [],
   "source": [
    "pos_weight_tensor = torch.tensor([pos_weight]).to(device)"
   ]
  },
  {
   "cell_type": "code",
   "execution_count": 14,
   "id": "af5a3f3c-417a-47f1-8b0b-f729720ca8fd",
   "metadata": {},
   "outputs": [],
   "source": [
    "model = unet(in_channels=3, num_classes=1).to(device)\n",
    "optimizer = optim.AdamW(model.parameters(), lr=LEARNING_RATE, weight_decay=0.01)\n",
    "criterion = nn.BCEWithLogitsLoss(pos_weight=pos_weight_tensor)\n",
    "scheduler = ReduceLROnPlateau(optimizer, mode='min', factor=0.25, patience=2)"
   ]
  },
  {
   "cell_type": "markdown",
   "id": "496247c3-08bf-466d-b913-f4bfaaadb9ed",
   "metadata": {},
   "source": [
    "## Loading Weights and Callbacks"
   ]
  },
  {
   "cell_type": "markdown",
   "id": "219714c5-61f1-4639-8d19-dbbca5093d09",
   "metadata": {},
   "source": [
    "### Initializing Callbacks"
   ]
  },
  {
   "cell_type": "code",
   "execution_count": 15,
   "id": "d003e95e-6942-4353-a4af-9cadf5b4666c",
   "metadata": {},
   "outputs": [],
   "source": [
    "cb_es = EarlyStopping(patience=5, path=MODEL_SAVE_PATH, verbose=True)"
   ]
  },
  {
   "cell_type": "markdown",
   "id": "f4ea776c-e0a3-4ee4-9b52-a404f597dead",
   "metadata": {},
   "source": [
    "### Loading Weights"
   ]
  },
  {
   "cell_type": "code",
   "execution_count": 17,
   "id": "0490b5c8-bba6-4ad5-94b2-8b9429913920",
   "metadata": {},
   "outputs": [
    {
     "name": "stdout",
     "output_type": "stream",
     "text": [
      "Loaded model weights from checkpoint.\n",
      "Initial loss: 0.8139\n"
     ]
    }
   ],
   "source": [
    "if RESUME_TRAINING:\n",
    "    try:\n",
    "        model.load_state_dict(torch.load(MODEL_SAVE_PATH))\n",
    "        print(\"Loaded model weights from checkpoint.\")\n",
    "        initial_best_loss = 0.8139 # Replace with actual value if you have it saved\n",
    "        cb_es.set_initial_best(initial_best_loss)\n",
    "        print(f\"Initial loss: {initial_best_loss:.4f}\")\n",
    "    except FileNotFoundError:\n",
    "        print(\"No checkpoint found. Starting training from scratch.\")"
   ]
  },
  {
   "cell_type": "markdown",
   "id": "4bc3ccd4-1f0b-4400-b1bc-a7cec84fe216",
   "metadata": {},
   "source": [
    "## Training & Validation Loop"
   ]
  },
  {
   "cell_type": "markdown",
   "id": "b1da777e-72fb-4459-9cba-1d5279a796bb",
   "metadata": {},
   "source": [
    "### Lists to Store Evaluation Metrics"
   ]
  },
  {
   "cell_type": "code",
   "execution_count": 18,
   "id": "86f12aee-0919-4e65-9e5c-fec2e0117d0e",
   "metadata": {},
   "outputs": [],
   "source": [
    "# Loss\n",
    "list_train_loss = []\n",
    "list_val_loss = []\n",
    "\n",
    "# Mean Pixel Accuracy (MPA)\n",
    "list_train_mpa = []\n",
    "list_val_mpa = []\n",
    "\n",
    "# Mean IoU\n",
    "list_train_iou = []\n",
    "list_val_iou = []"
   ]
  },
  {
   "cell_type": "code",
   "execution_count": 19,
   "id": "4966773e-795e-40d0-a332-b31afcd8e0d6",
   "metadata": {},
   "outputs": [],
   "source": [
    "jaccard = BinaryJaccardIndex().to(device)"
   ]
  },
  {
   "cell_type": "markdown",
   "id": "d81cac11-e2c2-4f18-bd4d-05f4d9494d5d",
   "metadata": {},
   "source": [
    "### Training Loop"
   ]
  },
  {
   "cell_type": "code",
   "execution_count": 20,
   "id": "d95c6c4d-09ae-4da6-8d79-bcc29d6fc20e",
   "metadata": {},
   "outputs": [
    {
     "name": "stderr",
     "output_type": "stream",
     "text": [
      "  2%|█▍                                                                                 | 1/57 [00:13<12:18, 13.18s/it]\n"
     ]
    },
    {
     "ename": "KeyboardInterrupt",
     "evalue": "",
     "output_type": "error",
     "traceback": [
      "\u001b[1;31m---------------------------------------------------------------------------\u001b[0m",
      "\u001b[1;31mKeyboardInterrupt\u001b[0m                         Traceback (most recent call last)",
      "Cell \u001b[1;32mIn[20], line 17\u001b[0m\n\u001b[0;32m     14\u001b[0m optimizer\u001b[38;5;241m.\u001b[39mzero_grad()\n\u001b[0;32m     16\u001b[0m loss \u001b[38;5;241m=\u001b[39m criterion(y_pred, mask)\n\u001b[1;32m---> 17\u001b[0m train_running_loss \u001b[38;5;241m+\u001b[39m\u001b[38;5;241m=\u001b[39m \u001b[43mloss\u001b[49m\u001b[38;5;241;43m.\u001b[39;49m\u001b[43mitem\u001b[49m\u001b[43m(\u001b[49m\u001b[43m)\u001b[49m\n\u001b[0;32m     19\u001b[0m loss\u001b[38;5;241m.\u001b[39mbackward()\n\u001b[0;32m     20\u001b[0m optimizer\u001b[38;5;241m.\u001b[39mstep()\n",
      "\u001b[1;31mKeyboardInterrupt\u001b[0m: "
     ]
    }
   ],
   "source": [
    "for epoch in range(EPOCHS):\n",
    "    # Training loop\n",
    "    model.train()\n",
    "    train_running_loss = 0\n",
    "    train_mpa_total = 0\n",
    "    train_mpa_correct = 0\n",
    "    train_running_iou = 0\n",
    "\n",
    "    for idx, img_mask in enumerate(tqdm(train_dataloader)):\n",
    "        img = img_mask[0].float().to(device)\n",
    "        mask = (img_mask[1].float().to(device) > 0.5).float()\n",
    "\n",
    "        y_pred = model(img)\n",
    "        optimizer.zero_grad()\n",
    "\n",
    "        loss = criterion(y_pred, mask)\n",
    "        train_running_loss += loss.item()\n",
    "\n",
    "        loss.backward()\n",
    "        optimizer.step()\n",
    "\n",
    "        predicted = (torch.sigmoid(y_pred) > 0.5).float()\n",
    "        train_mpa_total += mask.nelement()\n",
    "        train_mpa_correct += (predicted == mask).sum().item()\n",
    "        train_running_iou += jaccard(predicted, mask).item()\n",
    "\n",
    "    train_loss = train_running_loss / (idx + 1)\n",
    "    train_mpa = 100 * train_mpa_correct / train_mpa_total\n",
    "    train_iou = 100* train_running_iou / len(train_dataloader)\n",
    "\n",
    "    list_train_loss.append(train_loss)\n",
    "    list_train_mpa.append(train_mpa)\n",
    "    list_train_iou.append(train_iou)\n",
    "\n",
    "    # Validation loop\n",
    "    model.eval()\n",
    "    val_running_loss = 0\n",
    "    val_mpa_total = 0\n",
    "    val_mpa_correct = 0\n",
    "    val_running_iou = 0\n",
    "\n",
    "    with torch.no_grad():\n",
    "        for idx, img_mask in enumerate(tqdm(val_dataloader)):\n",
    "            img = img_mask[0].float().to(device)\n",
    "            mask = (img_mask[1].float().to(device) > 0.5).float()\n",
    "\n",
    "            y_pred = model(img)\n",
    "            loss = criterion(y_pred, mask)\n",
    "            val_running_loss += loss.item()\n",
    "\n",
    "            predicted = (torch.sigmoid(y_pred) > 0.5).float()\n",
    "            val_mpa_total += mask.nelement()\n",
    "            val_mpa_correct += (predicted == mask).sum().item()\n",
    "            val_running_iou += jaccard(predicted, mask).item()\n",
    "\n",
    "        val_loss = val_running_loss / (idx + 1)\n",
    "        val_mpa = 100 * val_mpa_correct / val_mpa_total\n",
    "        val_iou = 100 * val_running_iou / len(val_dataloader)\n",
    "\n",
    "    list_val_loss.append(val_loss)\n",
    "    list_val_mpa.append(val_mpa)\n",
    "    list_val_iou.append(val_iou)\n",
    "\n",
    "    # Step the scheduler\n",
    "    scheduler.step(val_loss)\n",
    "\n",
    "    print(\"-\" * 75)\n",
    "    print(f\"EPOCH {epoch + 1}\")\n",
    "    print(f\"Training Evaluation Metrics:\\n\"\n",
    "          f\"Mean PA: {train_mpa:.4f}% | Mean IoU: {train_iou:.4f}% | Loss: {train_loss:.4f}\")\n",
    "    print(f\"Validation Evaluation Metrics:\\n\"\n",
    "          f\"Mean PA: {val_mpa:.4f}% | Mean IoU: {val_iou:.4f}% | Loss: {val_loss:.4f}\")\n",
    "    print(\"-\" * 75)\n",
    "\n",
    "    cb_es(val_loss, model)\n",
    "        \n",
    "    if cb_es.early_stop:\n",
    "        print(\"EarlyStopping: Validation loss did not improve.\")\n",
    "        print(\"-\" * 75)\n",
    "        break\n",
    "\n",
    "    if cb_es.early_stop:\n",
    "        break\n",
    "    print(\"-\" * 75)"
   ]
  },
  {
   "cell_type": "markdown",
   "id": "93b65ece-f77d-4844-bc55-783508298b28",
   "metadata": {},
   "source": [
    "### Evaluation Metrics Visualization"
   ]
  },
  {
   "cell_type": "markdown",
   "id": "a29c81eb-bd1b-43f3-b234-5c1e7ff5e6e3",
   "metadata": {},
   "source": [
    "#### Mean Pixel Accuracy (Mean PA)"
   ]
  },
  {
   "cell_type": "code",
   "execution_count": 33,
   "id": "afcc921d-cba1-4dc7-8deb-4dcc25fe1c3e",
   "metadata": {},
   "outputs": [
    {
     "data": {
      "image/png": "[encoded data removed]",
      "text/plain": [
       "<Figure size 1000x500 with 1 Axes>"
      ]
     },
     "metadata": {},
     "output_type": "display_data"
    }
   ],
   "source": [
    "plt.figure(figsize=(10, 5))\n",
    "plt.plot(list_train_mpa, label='Training Mean PA')\n",
    "plt.plot(list_val_mpa, label='Validation Mean PA')\n",
    "plt.title('Training and Validation Mean Pixel Accuracy (Mean PA)')\n",
    "plt.xlabel('Epoch')\n",
    "plt.ylabel('Mean PA')\n",
    "plt.ylim(0, 100)\n",
    "plt.legend()\n",
    "plt.grid(True)\n",
    "plt.show()"
   ]
  },
  {
   "cell_type": "markdown",
   "id": "af20c04b-6be7-4121-a76b-ae2590398cd6",
   "metadata": {},
   "source": [
    "#### Loss"
   ]
  },
  {
   "cell_type": "code",
   "execution_count": 40,
   "id": "0c9d8d88-5d4c-4eff-9cbd-2a2880b073ec",
   "metadata": {},
   "outputs": [
    {
     "data": {
      "image/png": "[encoded data removed]",
      "text/plain": [
       "<Figure size 1000x500 with 1 Axes>"
      ]
     },
     "metadata": {},
     "output_type": "display_data"
    }
   ],
   "source": [
    "# Plot Training and Validation Loss\n",
    "plt.figure(figsize=(10, 5))\n",
    "plt.plot(list_train_loss, label='Training Loss')\n",
    "plt.plot(list_val_loss, label='Validation Loss')\n",
    "plt.title('Training and Validation Loss')\n",
    "plt.xlabel('Epoch')\n",
    "plt.ylabel('Loss')\n",
    "plt.ylim(0, 1.5)\n",
    "plt.legend()\n",
    "plt.grid(True)\n",
    "plt.show()"
   ]
  },
  {
   "cell_type": "markdown",
   "id": "5fbd6546-25bc-4e9c-9f86-cab92646cb25",
   "metadata": {},
   "source": [
    "#### Jaccard Index (IoU)"
   ]
  },
  {
   "cell_type": "code",
   "execution_count": 29,
   "id": "25dbc07e-6102-42ac-9ee7-7c607bcdf569",
   "metadata": {},
   "outputs": [
    {
     "data": {
      "image/png": "[encoded data removed]",
      "text/plain": [
       "<Figure size 1000x500 with 1 Axes>"
      ]
     },
     "metadata": {},
     "output_type": "display_data"
    }
   ],
   "source": [
    "# Plot Training and Validation IoU\n",
    "plt.figure(figsize=(10, 5))\n",
    "plt.plot(list_train_iou, label='Training IoU')\n",
    "plt.plot(list_val_iou, label='Validation IoU')\n",
    "plt.title('Training and Validation Mean Jaccard Index (IoU)')\n",
    "plt.xlabel('Epoch')\n",
    "plt.ylabel('IoU')\n",
    "plt.ylim(0, 100)\n",
    "plt.legend()\n",
    "plt.grid(True)\n",
    "plt.show()"
   ]
  },
  {
   "cell_type": "markdown",
   "id": "2b976b37-fa4c-4129-8160-90b86ac03279",
   "metadata": {},
   "source": [
    "### Save the Model"
   ]
  },
  {
   "cell_type": "code",
   "execution_count": 60,
   "id": "d4f93756-e921-47ce-90fe-d3bdaa7de535",
   "metadata": {},
   "outputs": [
    {
     "name": "stdout",
     "output_type": "stream",
     "text": [
      "Model saved to un-model/ds4-un-model.pth\n"
     ]
    }
   ],
   "source": [
    "torch.save(model.state_dict(), MODEL_SAVE_PATH)\n",
    "print(f\"Model saved to {MODEL_SAVE_PATH}\")"
   ]
  },
  {
   "cell_type": "markdown",
   "id": "3365afc4-f750-4e4a-98a0-2ae2387f9b46",
   "metadata": {
    "jp-MarkdownHeadingCollapsed": true
   },
   "source": [
    "## Test Loop"
   ]
  },
  {
   "cell_type": "markdown",
   "id": "7cbcd942-fed2-48a0-aa51-e6ac40c23beb",
   "metadata": {},
   "source": [
    "### Lists to Store Evaluation Metrics"
   ]
  },
  {
   "cell_type": "code",
   "execution_count": null,
   "id": "47a368c4-b5b4-4793-9353-1739f896a6f6",
   "metadata": {},
   "outputs": [],
   "source": [
    "# Loss\n",
    "list_test_loss = []\n",
    "\n",
    "# Mean Pixel Accuracy (MPA)\n",
    "list_test_mpa = []\n",
    "\n",
    "# Mean IoU\n",
    "list_test_iou = []"
   ]
  },
  {
   "cell_type": "markdown",
   "id": "b20b5043-8ab0-4710-9137-e3d001244a91",
   "metadata": {},
   "source": [
    "### Test Loop"
   ]
  },
  {
   "cell_type": "code",
   "execution_count": 10,
   "id": "df61b39f-bc89-4068-bef1-b8e767a35116",
   "metadata": {},
   "outputs": [
    {
     "name": "stderr",
     "output_type": "stream",
     "text": [
      "  0%|                                                                                            | 0/8 [00:05<?, ?it/s]\n"
     ]
    },
    {
     "ename": "KeyboardInterrupt",
     "evalue": "",
     "output_type": "error",
     "traceback": [
      "\u001b[1;31m---------------------------------------------------------------------------\u001b[0m",
      "\u001b[1;31mKeyboardInterrupt\u001b[0m                         Traceback (most recent call last)",
      "Cell \u001b[1;32mIn[10], line 11\u001b[0m\n\u001b[0;32m      8\u001b[0m     y_pred \u001b[38;5;241m=\u001b[39m model(img)\n\u001b[0;32m      9\u001b[0m     loss \u001b[38;5;241m=\u001b[39m criterion(y_pred, mask)\n\u001b[1;32m---> 11\u001b[0m     test_running_loss \u001b[38;5;241m+\u001b[39m\u001b[38;5;241m=\u001b[39m \u001b[43mloss\u001b[49m\u001b[38;5;241;43m.\u001b[39;49m\u001b[43mitem\u001b[49m\u001b[43m(\u001b[49m\u001b[43m)\u001b[49m\n\u001b[0;32m     13\u001b[0m test_loss \u001b[38;5;241m=\u001b[39m test_running_loss \u001b[38;5;241m/\u001b[39m (idx \u001b[38;5;241m+\u001b[39m \u001b[38;5;241m1\u001b[39m)\n\u001b[0;32m     14\u001b[0m \u001b[38;5;28mprint\u001b[39m(\u001b[38;5;124mf\u001b[39m\u001b[38;5;124m\"\u001b[39m\u001b[38;5;124mTest Loss: \u001b[39m\u001b[38;5;132;01m{\u001b[39;00mtest_loss\u001b[38;5;132;01m:\u001b[39;00m\u001b[38;5;124m.4f\u001b[39m\u001b[38;5;132;01m}\u001b[39;00m\u001b[38;5;124m\"\u001b[39m)\n",
      "\u001b[1;31mKeyboardInterrupt\u001b[0m: "
     ]
    }
   ],
   "source": [
    "# Test loop\n",
    "model.eval()\n",
    "test_running_loss = 0\n",
    "test_mpa_total = 0\n",
    "test_mpa_correct = 0\n",
    "test_running_iou = 0\n",
    "test_running_dice = 0\n",
    "\n",
    "with torch.no_grad():\n",
    "    for idx, img_mask in enumerate(tqdm(test_dataloader)):\n",
    "        img = img_mask[0].float().to(device)\n",
    "        mask = img_mask[1].float().to(device)\n",
    "\n",
    "        y_pred = model(img)\n",
    "        loss = criterion(y_pred, mask)\n",
    "\n",
    "        test_running_loss += loss.item()\n",
    "\n",
    "        # Calculate accuracy for binary segmentation\n",
    "        predicted = (torch.sigmoid(y_pred) > 0.5).float()\n",
    "        test_mpa_total += mask.nelement()\n",
    "        test_mpa_correct += (predicted == mask).sum().item()\n",
    "\n",
    "        # Calculate IoU for testing\n",
    "        test_running_iou += jaccard(predicted, mask).item()\n",
    "\n",
    "\n",
    "# Calculating test metrics\n",
    "test_loss = test_running_loss / (idx + 1)\n",
    "test_mpa = 100 * test_mpa_correct / test_mpa_total\n",
    "test_iou = test_running_iou / len(test_dataloader)\n",
    "\n",
    "# Appending to lists\n",
    "list_test_loss.append(test_loss)\n",
    "list_test_mpa.append(test_mpa)\n",
    "list_test_iou.append(test_iou)\n",
    "\n",
    "print(\"-\" * 35)\n",
    "print(f\"Test Evaluation Metrics:\\n\"\n",
    "      f\"Mean Pixel Accuracy: {test_mpa:.4f}%\\n\"\n",
    "      f\"IoU: {test_iou:.4f}\\n\"\n",
    "      f\"Loss: {test_loss:.4f}\")\n",
    "print(\"-\" * 35)"
   ]
  },
  {
   "cell_type": "markdown",
   "id": "dce6867a-a2cb-450d-9758-c8d4a81e719c",
   "metadata": {},
   "source": [
    "### Evaluation Metrics Visualization"
   ]
  },
  {
   "cell_type": "markdown",
   "id": "a7fe7066-570a-432d-8167-d5718cda2b2f",
   "metadata": {},
   "source": [
    "#### Mean Pixel Accuracy (Mean PA)"
   ]
  },
  {
   "cell_type": "code",
   "execution_count": null,
   "id": "85e22395-783d-4b30-8894-5300aaa61cae",
   "metadata": {},
   "outputs": [],
   "source": [
    "plt.figure(figsize=(10, 5))\n",
    "plt.plot(list_test_mpa, label='Test MPA')\n",
    "plt.title('Test Mean Pixel Accuracy (MPA)')\n",
    "plt.xlabel('Epoch')\n",
    "plt.ylabel('Pixel Accuracy')\n",
    "plt.legend()\n",
    "plt.show()"
   ]
  },
  {
   "cell_type": "markdown",
   "id": "07b7181b-1099-4b23-ad62-57acd9017365",
   "metadata": {},
   "source": [
    "#### Loss"
   ]
  },
  {
   "cell_type": "code",
   "execution_count": null,
   "id": "5d4ebe83-961a-4421-a5f3-d971299f80c9",
   "metadata": {},
   "outputs": [],
   "source": [
    "# Plot Training and Validation Loss\n",
    "plt.figure(figsize=(10, 5))\n",
    "plt.plot(list_test_loss, label='Test Loss')\n",
    "plt.title('Test Loss')\n",
    "plt.xlabel('Epoch')\n",
    "plt.ylabel('Loss')\n",
    "plt.legend()\n",
    "plt.show()"
   ]
  },
  {
   "cell_type": "markdown",
   "id": "624d0a9e-3cd9-4c9f-afd4-0f2a02eec5cd",
   "metadata": {},
   "source": [
    "#### Jaccard Index (IoU)"
   ]
  },
  {
   "cell_type": "code",
   "execution_count": null,
   "id": "252cb6aa-b306-4d31-8bd3-d03550a69e41",
   "metadata": {},
   "outputs": [],
   "source": [
    "# Plot Training and Validation IoU\n",
    "plt.figure(figsize=(10, 5))\n",
    "plt.plot(list_test_iou, label='Training IoU')\n",
    "plt.title('Test Mean Jaccard Index (IoU)')\n",
    "plt.xlabel('Epoch')\n",
    "plt.ylabel('IoU')\n",
    "plt.legend()\n",
    "plt.show()"
   ]
  },
  {
   "cell_type": "markdown",
   "id": "819330ac-cb1e-46a6-ba9d-323a315ee6ac",
   "metadata": {},
   "source": [
    "#### Dice Coefficient"
   ]
  },
  {
   "cell_type": "code",
   "execution_count": null,
   "id": "591d39ca-491f-407c-9852-b11600baf3c9",
   "metadata": {},
   "outputs": [],
   "source": [
    "# Plot Training and Validation IoU\n",
    "plt.figure(figsize=(10, 5))\n",
    "plt.plot(list_test_dice, label='Training Dice')\n",
    "plt.title('Test Mean Dice Coefficient')\n",
    "plt.xlabel('Epoch')\n",
    "plt.ylabel('Dice')\n",
    "plt.legend()\n",
    "plt.show()"
   ]
  }
 ],
 "metadata": {
  "kernelspec": {
   "display_name": "Python 3 (ipykernel)",
   "language": "python",
   "name": "python3"
  },
  "language_info": {
   "codemirror_mode": {
    "name": "ipython",
    "version": 3
   },
   "file_extension": ".py",
   "mimetype": "text/x-python",
   "name": "python",
   "nbconvert_exporter": "python",
   "pygments_lexer": "ipython3",
   "version": "3.12.1"
  }
 },
 "nbformat": 4,
 "nbformat_minor": 5
}
