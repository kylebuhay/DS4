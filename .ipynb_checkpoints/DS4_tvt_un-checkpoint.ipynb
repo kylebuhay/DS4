{
 "cells": [
  {
   "cell_type": "markdown",
   "id": "403e0537-2761-466f-a77f-4d240acebb3c",
   "metadata": {},
   "source": [
    "# Creating Training, Validation, and Testing Split: U-Net"
   ]
  },
  {
   "cell_type": "code",
   "execution_count": 2,
   "id": "30e197d0-1a1a-49be-b87f-3bdee04f46ec",
   "metadata": {},
   "outputs": [],
   "source": [
    "# For semantic segmentation task\n",
    "# Training 70%, Validation 20%, and Testing 10%"
   ]
  },
  {
   "cell_type": "code",
   "execution_count": null,
   "id": "45c9cce3-b551-4093-942b-b26ca60178f6",
   "metadata": {},
   "outputs": [],
   "source": [
    "# Copy and paste sampled Tp images for SS's TVT\n",
    "# Then, this ipynb is for getting their correspoding Gt images"
   ]
  },
  {
   "cell_type": "markdown",
   "id": "e0348775-4518-422c-aad7-a358f5ed9d5f",
   "metadata": {},
   "source": [
    "## 1. Import Libraries"
   ]
  },
  {
   "cell_type": "code",
   "execution_count": 3,
   "id": "4b56eca4-fe16-4c31-a5ca-7a2da389cb87",
   "metadata": {},
   "outputs": [],
   "source": [
    "import os\n",
    "import shutil"
   ]
  },
  {
   "cell_type": "markdown",
   "id": "e5407b6d-4607-4519-8d65-2d463d899088",
   "metadata": {},
   "source": [
    "## 2. Allocation: Gt"
   ]
  },
  {
   "cell_type": "markdown",
   "id": "7f08de09-72c8-40b7-8b9c-1924c2c37b07",
   "metadata": {},
   "source": [
    "### Setting Paths"
   ]
  },
  {
   "cell_type": "code",
   "execution_count": 4,
   "id": "dfa3f09f-603f-4fba-b9e0-7159ee6dc636",
   "metadata": {},
   "outputs": [],
   "source": [
    "# Define the directories\n",
    "sds_gt_dir = r'C:\\Users\\User\\Documents\\DS4\\25-ds-casia-un\\Gt'\n",
    "\n",
    "sds_tp_train = r'C:\\Users\\User\\Documents\\DS4\\25-ds-casia-un-tvt\\train\\train_tp'\n",
    "sds_tp_validation = r'C:\\Users\\User\\Documents\\DS4\\25-ds-casia-un-tvt\\validation\\validation_tp'\n",
    "sds_tp_test = r'C:\\Users\\User\\Documents\\DS4\\25-ds-casia-un-tvt\\test\\test_tp'\n",
    "\n",
    "sds_gt_train_dst = r'C:\\Users\\User\\Documents\\DS4\\25-ds-casia-un-tvt\\train\\train_gt'\n",
    "sds_gt_validation_dst = r'C:\\Users\\User\\Documents\\DS4\\25-ds-casia-un-tvt\\validation\\validation_gt'\n",
    "sds_gt_test_dst = r'C:\\Users\\User\\Documents\\DS4\\25-ds-casia-un-tvt\\test\\test_gt'"
   ]
  },
  {
   "cell_type": "code",
   "execution_count": 5,
   "id": "ec717049-ceb7-47d0-924e-c8c4b58cf19b",
   "metadata": {},
   "outputs": [],
   "source": [
    "os.makedirs(sds_gt_train_dst, exist_ok=True)\n",
    "os.makedirs(sds_gt_validation_dst, exist_ok=True)\n",
    "os.makedirs(sds_gt_test_dst, exist_ok=True)"
   ]
  },
  {
   "cell_type": "markdown",
   "id": "58a8e91e-154c-4e31-aca0-80cf91710760",
   "metadata": {},
   "source": [
    "### Function for Moving Gt Images"
   ]
  },
  {
   "cell_type": "code",
   "execution_count": 9,
   "id": "f88dc434-77d5-459c-b9d8-4a80d5c197c4",
   "metadata": {},
   "outputs": [],
   "source": [
    "def sds_gt_alloc(sds_gt_dir, sds_tp_tvt_src, sds_gt_tvt_dst):\n",
    "    # Initialize a counter for the number of files moved\n",
    "    files_moved = 0\n",
    "\n",
    "    # Get the list of Tp images in the source folder\n",
    "    tp_images = os.listdir(sds_tp_tvt_src)\n",
    "\n",
    "    # Iterate over each Tp image and find the corresponding Gt image\n",
    "    for tp_image in tp_images:\n",
    "        if tp_image.endswith(('.jpg', '.tif')):\n",
    "            # Extract the base filename without extension\n",
    "            base_filename = os.path.splitext(tp_image)[0]\n",
    "            \n",
    "            # Form the expected Gt filename\n",
    "            gt_filename = base_filename + '_gt.png'\n",
    "            \n",
    "            # Construct the full path of the Gt image\n",
    "            gt_image_path = os.path.join(sds_gt_dir, gt_filename)\n",
    "            \n",
    "            # Check if the Gt image exists\n",
    "            if os.path.exists(gt_image_path):\n",
    "                # Construct the destination path for the Gt image\n",
    "                gt_image_dst_path = os.path.join(sds_gt_tvt_dst, gt_filename)\n",
    "                \n",
    "                # Move the Gt image to the destination folder\n",
    "                shutil.move(gt_image_path, gt_image_dst_path)\n",
    "                files_moved += 1\n",
    "\n",
    "    # Print the total number of files moved\n",
    "    print(f\"Total files moved: {files_moved}\")\n"
   ]
  },
  {
   "cell_type": "markdown",
   "id": "15d328b5-b3d9-4971-9aaa-0e9f38690c17",
   "metadata": {},
   "source": [
    "### Getting Gt Images: train_gt"
   ]
  },
  {
   "cell_type": "code",
   "execution_count": 10,
   "id": "c7883dc1-f306-4559-b87a-c6d479d60954",
   "metadata": {},
   "outputs": [
    {
     "name": "stdout",
     "output_type": "stream",
     "text": [
      "Total files moved: 898\n"
     ]
    }
   ],
   "source": [
    "sds_gt_alloc(sds_gt_dir, sds_tp_train, sds_gt_train_dst)"
   ]
  },
  {
   "cell_type": "markdown",
   "id": "cd07aaf3-b4dd-44a7-b99b-a7239fa912ad",
   "metadata": {},
   "source": [
    "### Getting Gt Images: validation_gt"
   ]
  },
  {
   "cell_type": "code",
   "execution_count": 11,
   "id": "6dcc6e70-61b7-4f18-815f-a9c32450c74b",
   "metadata": {},
   "outputs": [
    {
     "name": "stdout",
     "output_type": "stream",
     "text": [
      "Total files moved: 257\n"
     ]
    }
   ],
   "source": [
    "sds_gt_alloc(sds_gt_dir, sds_tp_validation, sds_gt_validation_dst)"
   ]
  },
  {
   "cell_type": "markdown",
   "id": "d3d21f84-ea60-44c0-8ae8-bcb305aabf3f",
   "metadata": {},
   "source": [
    "### Getting Gt Images: test_gt"
   ]
  },
  {
   "cell_type": "code",
   "execution_count": 12,
   "id": "d7209b3d-ddda-479a-96b8-54bd2db41de4",
   "metadata": {},
   "outputs": [
    {
     "name": "stdout",
     "output_type": "stream",
     "text": [
      "Total files moved: 126\n"
     ]
    }
   ],
   "source": [
    "sds_gt_alloc(sds_gt_dir, sds_tp_test, sds_gt_test_dst)"
   ]
  }
 ],
 "metadata": {
  "kernelspec": {
   "display_name": "Python 3 (ipykernel)",
   "language": "python",
   "name": "python3"
  },
  "language_info": {
   "codemirror_mode": {
    "name": "ipython",
    "version": 3
   },
   "file_extension": ".py",
   "mimetype": "text/x-python",
   "name": "python",
   "nbconvert_exporter": "python",
   "pygments_lexer": "ipython3",
   "version": "3.12.1"
  }
 },
 "nbformat": 4,
 "nbformat_minor": 5
}
