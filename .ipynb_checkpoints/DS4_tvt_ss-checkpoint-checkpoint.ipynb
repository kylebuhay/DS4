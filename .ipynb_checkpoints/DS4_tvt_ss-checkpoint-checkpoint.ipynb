{
 "cells": [
  {
   "cell_type": "markdown",
   "id": "fd01c2ca-1dc1-4f44-bd7c-092387b50c68",
   "metadata": {},
   "source": [
    "# Creating Training, Validation, and Testing Split: SIFT + SVM"
   ]
  },
  {
   "cell_type": "code",
   "execution_count": 1,
   "id": "079810ce-d23f-48ce-a14e-1f2fb6c9cc5b",
   "metadata": {},
   "outputs": [],
   "source": [
    "# For image binary classification task\n",
    "# Training 70%, Validation 20%, and Testing 10%\n",
    "# https://youtu.be/C6wbr1jJvVs?si=g4peQ6Fr4CRez1MB"
   ]
  },
  {
   "cell_type": "markdown",
   "id": "36de3656-151e-4fbe-aa2b-78d062bf5140",
   "metadata": {},
   "source": [
    "## 1. Install & Import Libraries"
   ]
  },
  {
   "cell_type": "code",
   "execution_count": 94,
   "id": "2f12e0d4-6b15-4d59-939a-6ab9a50e935c",
   "metadata": {},
   "outputs": [],
   "source": [
    "import os\n",
    "import shutil\n",
    "import re"
   ]
  },
  {
   "cell_type": "markdown",
   "id": "37818be9-fb28-4116-9dd7-92cc161e51b9",
   "metadata": {
    "jp-MarkdownHeadingCollapsed": true
   },
   "source": [
    "## 2. Allocation: Au"
   ]
  },
  {
   "cell_type": "markdown",
   "id": "70257b5e-bdea-4f20-a5fc-b7c7cac770ec",
   "metadata": {
    "jp-MarkdownHeadingCollapsed": true
   },
   "source": [
    "### Setting Paths"
   ]
  },
  {
   "cell_type": "code",
   "execution_count": 75,
   "id": "aff07031-2413-4d91-9aa2-dbdff58fd06b",
   "metadata": {},
   "outputs": [],
   "source": [
    "sds_au_dir = r'C:\\Users\\User\\Documents\\DS4\\25-ds-casia-ss\\Au'\n",
    "sds_au_train_dst = r'C:\\Users\\User\\Documents\\DS4\\25-ds-casia-ss-tvt\\train\\Au'\n",
    "sds_au_validation_dst = r'C:\\Users\\User\\Documents\\DS4\\25-ds-casia-ss-tvt\\validaton\\Au'\n",
    "sds_au_test_dst = r'C:\\Users\\User\\Documents\\DS4\\25-ds-casia-ss-tvt\\test\\Au'"
   ]
  },
  {
   "cell_type": "code",
   "execution_count": 76,
   "id": "2de5e637-2dfa-4604-a51a-4666795e4e89",
   "metadata": {},
   "outputs": [],
   "source": [
    "os.makedirs(sds_au_train_dst, exist_ok=True)\n",
    "os.makedirs(sds_au_validation_dst, exist_ok=True)\n",
    "os.makedirs(sds_au_test_dst, exist_ok=True)"
   ]
  },
  {
   "cell_type": "markdown",
   "id": "d07fc416-875e-45c9-895a-ebe37daed2c8",
   "metadata": {
    "jp-MarkdownHeadingCollapsed": true
   },
   "source": [
    "### Dictionary of Categories & Counts: Train Set"
   ]
  },
  {
   "cell_type": "code",
   "execution_count": 77,
   "id": "1be8ebef-2563-4390-9806-edd0d1d54b24",
   "metadata": {},
   "outputs": [],
   "source": [
    "sds_au_train_cc_dict = {\n",
    "    'pla': 171,\n",
    "    'art': 160,\n",
    "    'nat': 176,  \n",
    "    'arc': 188,\n",
    "    'ani': 192,\n",
    "    'ind': 61,\n",
    "    'cha': 172,\n",
    "    'sec': 167,\n",
    "    'txt': 26\n",
    "}"
   ]
  },
  {
   "cell_type": "markdown",
   "id": "3e65df70-b485-4d49-9578-7c5d1e78053f",
   "metadata": {},
   "source": [
    "### Moving Images Function"
   ]
  },
  {
   "cell_type": "code",
   "execution_count": 78,
   "id": "9255259c-984a-4972-9b21-f4107434a67b",
   "metadata": {},
   "outputs": [],
   "source": [
    "def sds_au_alloc(src_dir, output_dir, categories):\n",
    "    all_files = os.listdir(src_dir)\n",
    "    for category, sample_size in categories.items():\n",
    "        # Filter files to include only those from the current category and with the desired extensions\n",
    "        category_files = [f for f in all_files if f.startswith(f'Au_{category}_') and (f.endswith('.jpg') or f.endswith('.tif'))]\n",
    "\n",
    "        # Check if there are enough files to sample\n",
    "        if len(category_files) < sample_size:\n",
    "            print(f\"Not enough files in category '{category}' to sample {sample_size} images. Available: {len(category_files)}.\")\n",
    "            continue\n",
    "\n",
    "        # Move the specified number of files from the current category\n",
    "        for i in range(sample_size):\n",
    "            file_name = category_files[i]\n",
    "            src_path = os.path.join(src_dir, file_name)\n",
    "            dest_path = os.path.join(output_dir, file_name)\n",
    "            shutil.move(src_path, dest_path)\n",
    "\n",
    "        print(f\"Moved {sample_size} '{category}' images to {output_dir}\")"
   ]
  },
  {
   "cell_type": "markdown",
   "id": "50010074-2ac4-46b9-898e-532975aa577a",
   "metadata": {},
   "source": [
    "### Calling Moving Images Function: Train Set"
   ]
  },
  {
   "cell_type": "code",
   "execution_count": 79,
   "id": "42c55217-1df3-4c3d-b84a-b730db2fda28",
   "metadata": {},
   "outputs": [
    {
     "name": "stdout",
     "output_type": "stream",
     "text": [
      "Sampled and moved 171 'pla' images to C:\\Users\\User\\Documents\\DS4\\25-ds-casia-ss-tvt\\train\\Au\n",
      "Sampled and moved 160 'art' images to C:\\Users\\User\\Documents\\DS4\\25-ds-casia-ss-tvt\\train\\Au\n",
      "Sampled and moved 176 'nat' images to C:\\Users\\User\\Documents\\DS4\\25-ds-casia-ss-tvt\\train\\Au\n",
      "Sampled and moved 188 'arc' images to C:\\Users\\User\\Documents\\DS4\\25-ds-casia-ss-tvt\\train\\Au\n",
      "Sampled and moved 192 'ani' images to C:\\Users\\User\\Documents\\DS4\\25-ds-casia-ss-tvt\\train\\Au\n",
      "Sampled and moved 61 'ind' images to C:\\Users\\User\\Documents\\DS4\\25-ds-casia-ss-tvt\\train\\Au\n",
      "Sampled and moved 172 'cha' images to C:\\Users\\User\\Documents\\DS4\\25-ds-casia-ss-tvt\\train\\Au\n",
      "Sampled and moved 167 'sec' images to C:\\Users\\User\\Documents\\DS4\\25-ds-casia-ss-tvt\\train\\Au\n",
      "Sampled and moved 26 'txt' images to C:\\Users\\User\\Documents\\DS4\\25-ds-casia-ss-tvt\\train\\Au\n"
     ]
    }
   ],
   "source": [
    "sds_au_alloc(sds_au_dir, sds_au_train_dst, sds_au_train_cc_dict)"
   ]
  },
  {
   "cell_type": "markdown",
   "id": "a395c883-133d-4ecc-a6a6-d551bfa3d1e3",
   "metadata": {},
   "source": [
    "### Dictionary of Categories & Counts: Validation Set"
   ]
  },
  {
   "cell_type": "code",
   "execution_count": 80,
   "id": "51eb2c2b-6815-48ff-b1cb-159337608e43",
   "metadata": {},
   "outputs": [],
   "source": [
    "sds_au_validation_cc_dict = {\n",
    "    'pla': 49,\n",
    "    'art': 46,\n",
    "    'nat': 50,  \n",
    "    'arc': 54,\n",
    "    'ani': 55,\n",
    "    'ind': 17,\n",
    "    'cha': 49,\n",
    "    'sec': 48,\n",
    "    'txt': 7\n",
    "}"
   ]
  },
  {
   "cell_type": "markdown",
   "id": "ef454db7-ad18-4c55-93e4-2be8afabd1db",
   "metadata": {},
   "source": [
    "### Calling Moving Images Function: Validation Set"
   ]
  },
  {
   "cell_type": "code",
   "execution_count": 81,
   "id": "52e98c6f-08ed-49cf-bd94-07e36192780d",
   "metadata": {},
   "outputs": [
    {
     "name": "stdout",
     "output_type": "stream",
     "text": [
      "Sampled and moved 49 'pla' images to C:\\Users\\User\\Documents\\DS4\\25-ds-casia-ss-tvt\\validaton\\Au\n",
      "Sampled and moved 46 'art' images to C:\\Users\\User\\Documents\\DS4\\25-ds-casia-ss-tvt\\validaton\\Au\n",
      "Sampled and moved 50 'nat' images to C:\\Users\\User\\Documents\\DS4\\25-ds-casia-ss-tvt\\validaton\\Au\n",
      "Sampled and moved 54 'arc' images to C:\\Users\\User\\Documents\\DS4\\25-ds-casia-ss-tvt\\validaton\\Au\n",
      "Sampled and moved 55 'ani' images to C:\\Users\\User\\Documents\\DS4\\25-ds-casia-ss-tvt\\validaton\\Au\n",
      "Sampled and moved 17 'ind' images to C:\\Users\\User\\Documents\\DS4\\25-ds-casia-ss-tvt\\validaton\\Au\n",
      "Sampled and moved 49 'cha' images to C:\\Users\\User\\Documents\\DS4\\25-ds-casia-ss-tvt\\validaton\\Au\n",
      "Sampled and moved 48 'sec' images to C:\\Users\\User\\Documents\\DS4\\25-ds-casia-ss-tvt\\validaton\\Au\n",
      "Sampled and moved 7 'txt' images to C:\\Users\\User\\Documents\\DS4\\25-ds-casia-ss-tvt\\validaton\\Au\n"
     ]
    }
   ],
   "source": [
    "sds_au_alloc(sds_au_dir, sds_au_validation_dst, sds_au_validation_cc_dict)"
   ]
  },
  {
   "cell_type": "markdown",
   "id": "bf2215c4-b29f-44c7-be61-4669a01948ad",
   "metadata": {},
   "source": [
    "### Dictionary of Categories & Counts: Test Set"
   ]
  },
  {
   "cell_type": "code",
   "execution_count": 89,
   "id": "85c20c27-c2f6-44e0-a038-bfaa3b618692",
   "metadata": {},
   "outputs": [],
   "source": [
    "sds_au_test_cc_dict = {\n",
    "    'pla': 24,\n",
    "    'art': 23,\n",
    "    'nat': 25,  \n",
    "    'arc': 27,\n",
    "    'ani': 27,\n",
    "    'ind': 9,\n",
    "    'cha': 24, # 25-1\n",
    "    'sec': 23, # 24-1\n",
    "    'txt': 4\n",
    "}"
   ]
  },
  {
   "cell_type": "markdown",
   "id": "f952082b-9067-40cf-8a99-18a4dbb21685",
   "metadata": {},
   "source": [
    "### Calling Moving Images Function: Test Set"
   ]
  },
  {
   "cell_type": "code",
   "execution_count": null,
   "id": "bcd3ba13-e29b-4778-928a-7da32feae0c1",
   "metadata": {},
   "outputs": [],
   "source": [
    "# If there are not enough files to move,\n",
    "# just cut and paste the rest from the sds_au_dir to sds_au_test_dst."
   ]
  },
  {
   "cell_type": "code",
   "execution_count": 90,
   "id": "5c452e7e-938d-4f97-bc4c-4a22f2b9e4e7",
   "metadata": {},
   "outputs": [
    {
     "name": "stdout",
     "output_type": "stream",
     "text": [
      "Sampled and moved 24 'pla' images to C:\\Users\\User\\Documents\\DS4\\25-ds-casia-ss-tvt\\test\\Au\n",
      "Not enough files in category 'art' to sample 23 images. Available: 22.\n",
      "Sampled and moved 25 'nat' images to C:\\Users\\User\\Documents\\DS4\\25-ds-casia-ss-tvt\\test\\Au\n",
      "Sampled and moved 27 'arc' images to C:\\Users\\User\\Documents\\DS4\\25-ds-casia-ss-tvt\\test\\Au\n",
      "Sampled and moved 27 'ani' images to C:\\Users\\User\\Documents\\DS4\\25-ds-casia-ss-tvt\\test\\Au\n",
      "Sampled and moved 9 'ind' images to C:\\Users\\User\\Documents\\DS4\\25-ds-casia-ss-tvt\\test\\Au\n",
      "Sampled and moved 24 'cha' images to C:\\Users\\User\\Documents\\DS4\\25-ds-casia-ss-tvt\\test\\Au\n",
      "Sampled and moved 23 'sec' images to C:\\Users\\User\\Documents\\DS4\\25-ds-casia-ss-tvt\\test\\Au\n",
      "Sampled and moved 4 'txt' images to C:\\Users\\User\\Documents\\DS4\\25-ds-casia-ss-tvt\\test\\Au\n"
     ]
    }
   ],
   "source": [
    "sds_au_alloc(sds_au_dir, sds_au_test_dst, sds_au_test_cc_dict)"
   ]
  },
  {
   "cell_type": "markdown",
   "id": "b9e98ce6-9523-4daf-8249-27a6391cc1b7",
   "metadata": {},
   "source": [
    "## 3. Allocation: Tp (Tp_S)"
   ]
  },
  {
   "cell_type": "markdown",
   "id": "3527e0e1-4960-4de7-aebc-747d97f89b33",
   "metadata": {},
   "source": [
    "### Setting Paths"
   ]
  },
  {
   "cell_type": "code",
   "execution_count": 91,
   "id": "51d7aec8-c113-4592-8808-f934b66f0787",
   "metadata": {},
   "outputs": [],
   "source": [
    "sds_tp_dir = r'C:\\Users\\User\\Documents\\DS4\\25-ds-casia-ss\\Tp'\n",
    "sds_tp_train_dst = r'C:\\Users\\User\\Documents\\DS4\\25-ds-casia-ss-tvt\\train\\Tp'\n",
    "sds_tp_validation_dst = r'C:\\Users\\User\\Documents\\DS4\\25-ds-casia-ss-tvt\\validaton\\Tp'\n",
    "sds_tp_test_dst = r'C:\\Users\\User\\Documents\\DS4\\25-ds-casia-ss-tvt\\test\\Tp'"
   ]
  },
  {
   "cell_type": "code",
   "execution_count": 92,
   "id": "1c00350c-d86c-4916-8197-a9cff74e1c52",
   "metadata": {},
   "outputs": [],
   "source": [
    "os.makedirs(sds_tp_train_dst, exist_ok=True)\n",
    "os.makedirs(sds_tp_validation_dst, exist_ok=True)\n",
    "os.makedirs(sds_tp_test_dst, exist_ok=True)"
   ]
  },
  {
   "cell_type": "markdown",
   "id": "c772d1c2-760c-4bad-84b2-c10f0d177f0a",
   "metadata": {},
   "source": [
    "### Dictionary of Categories & Counts: Train Set"
   ]
  },
  {
   "cell_type": "code",
   "execution_count": 102,
   "id": "785a12bb-ae8b-4fd4-b681-e82645092676",
   "metadata": {},
   "outputs": [],
   "source": [
    "# For Tp_S\n",
    "sds_tp_tps_train_cc_dict = {\n",
    "    'pla': 72,\n",
    "    'art': 76,\n",
    "    'nat': 68,  \n",
    "    'arc': 76,\n",
    "    'ani': 54,\n",
    "    'ind': 72,\n",
    "    'cha': 67,\n",
    "    'sec': 67,\n",
    "    'txt': 24\n",
    "}"
   ]
  },
  {
   "cell_type": "markdown",
   "id": "d974bcf1-fb07-481b-a7fd-58b80f8428d2",
   "metadata": {},
   "source": [
    "### Moving Images Function (Tp_S)"
   ]
  },
  {
   "cell_type": "code",
   "execution_count": 95,
   "id": "7c6331f4-fdd9-4c96-95e7-a33f2513daac",
   "metadata": {},
   "outputs": [],
   "source": [
    "def sds_tp_tps_alloc(tp_tps_src_dir, tp_tps_output_dir, tp_tps_categories):\n",
    "    all_files = os.listdir(tp_tps_src_dir)\n",
    "    for category, sample_size in tp_tps_categories.items():\n",
    "        # Debug: Print all files for verification\n",
    "        print(f\"Processing category '{category}'\")\n",
    "\n",
    "        # Define a regex pattern to match the category in the filenames\n",
    "        pattern = re.compile(rf'Tp_S_.*_{category}\\d{{5}}_{category}\\d{{5}}_.*\\.(jpg|tif)')\n",
    "\n",
    "        # Filter files to include only those that match the category pattern\n",
    "        category_files = [f for f in all_files if pattern.match(f)]\n",
    "\n",
    "        # Debug: Print the number of files found for this category\n",
    "        print(f\"Found {len(category_files)} files.\")\n",
    "\n",
    "        # Check if there are enough files to sample\n",
    "        if len(category_files) < sample_size:\n",
    "            print(f\"Not enough files in category '{category}' to sample {sample_size} images. Available: {len(category_files)}.\")\n",
    "            continue\n",
    "\n",
    "        # Move the specified number of files from the current category\n",
    "        for i in range(sample_size):\n",
    "            file_name = category_files[i]\n",
    "            src_path = os.path.join(tp_tps_src_dir, file_name)\n",
    "            dest_path = os.path.join(tp_tps_output_dir, file_name)\n",
    "            shutil.move(src_path, dest_path)\n",
    "\n",
    "        print(f\"Moved {sample_size} '{category}' images to {tp_tps_output_dir}\\n\")"
   ]
  },
  {
   "cell_type": "markdown",
   "id": "c27c7f2b-6ce3-489a-a5da-907d7f657cb8",
   "metadata": {},
   "source": [
    "### Calling Moving Images Function: Train Set"
   ]
  },
  {
   "cell_type": "code",
   "execution_count": 96,
   "id": "ee50e392-9388-4ac9-92a8-27a9704d2edb",
   "metadata": {},
   "outputs": [
    {
     "name": "stdout",
     "output_type": "stream",
     "text": [
      "Processing category 'pla'\n",
      "Found 103 files.\n",
      "Moved 72 'pla' images to C:\\Users\\User\\Documents\\DS4\\25-ds-casia-ss-tvt\\train\\Tp\n",
      "\n",
      "Processing category 'art'\n",
      "Found 109 files.\n",
      "Moved 76 'art' images to C:\\Users\\User\\Documents\\DS4\\25-ds-casia-ss-tvt\\train\\Tp\n",
      "\n",
      "Processing category 'nat'\n",
      "Found 97 files.\n",
      "Moved 68 'nat' images to C:\\Users\\User\\Documents\\DS4\\25-ds-casia-ss-tvt\\train\\Tp\n",
      "\n",
      "Processing category 'arc'\n",
      "Found 109 files.\n",
      "Moved 76 'arc' images to C:\\Users\\User\\Documents\\DS4\\25-ds-casia-ss-tvt\\train\\Tp\n",
      "\n",
      "Processing category 'ani'\n",
      "Found 77 files.\n",
      "Moved 54 'ani' images to C:\\Users\\User\\Documents\\DS4\\25-ds-casia-ss-tvt\\train\\Tp\n",
      "\n",
      "Processing category 'ind'\n",
      "Found 103 files.\n",
      "Moved 72 'ind' images to C:\\Users\\User\\Documents\\DS4\\25-ds-casia-ss-tvt\\train\\Tp\n",
      "\n",
      "Processing category 'cha'\n",
      "Found 96 files.\n",
      "Moved 67 'cha' images to C:\\Users\\User\\Documents\\DS4\\25-ds-casia-ss-tvt\\train\\Tp\n",
      "\n",
      "Processing category 'sec'\n",
      "Found 95 files.\n",
      "Moved 67 'sec' images to C:\\Users\\User\\Documents\\DS4\\25-ds-casia-ss-tvt\\train\\Tp\n",
      "\n",
      "Processing category 'txt'\n",
      "Found 34 files.\n",
      "Moved 24 'txt' images to C:\\Users\\User\\Documents\\DS4\\25-ds-casia-ss-tvt\\train\\Tp\n",
      "\n"
     ]
    }
   ],
   "source": [
    "sds_tp_tps_alloc(sds_tp_dir, sds_tp_train_dst, sds_tp_tps_train_cc_dict)"
   ]
  },
  {
   "cell_type": "markdown",
   "id": "b5e8be15-0e82-4a45-b0b2-3fe3aa80cabb",
   "metadata": {},
   "source": [
    "### Dictionary of Categories & Counts: Validation Set"
   ]
  },
  {
   "cell_type": "code",
   "execution_count": 98,
   "id": "3cc3dc1e-ed45-46c9-9f14-807a2d9e7603",
   "metadata": {},
   "outputs": [],
   "source": [
    "# For Tp_S\n",
    "sds_tp_tps_validation_cc_dict = {\n",
    "    'pla': 21,\n",
    "    'art': 22,\n",
    "    'nat': 19,  \n",
    "    'arc': 22,\n",
    "    'ani': 15,\n",
    "    'ind': 21,\n",
    "    'cha': 19,\n",
    "    'sec': 19,\n",
    "    'txt': 7\n",
    "}"
   ]
  },
  {
   "cell_type": "markdown",
   "id": "0afd3377-b22d-4b9d-a55e-e68180ce8046",
   "metadata": {},
   "source": [
    "### Calling Moving Images Function: Validation Set"
   ]
  },
  {
   "cell_type": "code",
   "execution_count": 99,
   "id": "c61bd7fc-64a9-4845-a6b7-6a06a8b66712",
   "metadata": {},
   "outputs": [
    {
     "name": "stdout",
     "output_type": "stream",
     "text": [
      "Processing category 'pla'\n",
      "Found 31 files.\n",
      "Moved 21 'pla' images to C:\\Users\\User\\Documents\\DS4\\25-ds-casia-ss-tvt\\validaton\\Tp\n",
      "\n",
      "Processing category 'art'\n",
      "Found 33 files.\n",
      "Moved 22 'art' images to C:\\Users\\User\\Documents\\DS4\\25-ds-casia-ss-tvt\\validaton\\Tp\n",
      "\n",
      "Processing category 'nat'\n",
      "Found 29 files.\n",
      "Moved 19 'nat' images to C:\\Users\\User\\Documents\\DS4\\25-ds-casia-ss-tvt\\validaton\\Tp\n",
      "\n",
      "Processing category 'arc'\n",
      "Found 33 files.\n",
      "Moved 22 'arc' images to C:\\Users\\User\\Documents\\DS4\\25-ds-casia-ss-tvt\\validaton\\Tp\n",
      "\n",
      "Processing category 'ani'\n",
      "Found 23 files.\n",
      "Moved 15 'ani' images to C:\\Users\\User\\Documents\\DS4\\25-ds-casia-ss-tvt\\validaton\\Tp\n",
      "\n",
      "Processing category 'ind'\n",
      "Found 31 files.\n",
      "Moved 21 'ind' images to C:\\Users\\User\\Documents\\DS4\\25-ds-casia-ss-tvt\\validaton\\Tp\n",
      "\n",
      "Processing category 'cha'\n",
      "Found 29 files.\n",
      "Moved 19 'cha' images to C:\\Users\\User\\Documents\\DS4\\25-ds-casia-ss-tvt\\validaton\\Tp\n",
      "\n",
      "Processing category 'sec'\n",
      "Found 28 files.\n",
      "Moved 19 'sec' images to C:\\Users\\User\\Documents\\DS4\\25-ds-casia-ss-tvt\\validaton\\Tp\n",
      "\n",
      "Processing category 'txt'\n",
      "Found 10 files.\n",
      "Moved 7 'txt' images to C:\\Users\\User\\Documents\\DS4\\25-ds-casia-ss-tvt\\validaton\\Tp\n",
      "\n"
     ]
    }
   ],
   "source": [
    "sds_tp_tps_alloc(sds_tp_dir, sds_tp_validation_dst, sds_tp_tps_validation_cc_dict)"
   ]
  },
  {
   "cell_type": "markdown",
   "id": "a833a64c-fd92-4b5d-be9c-22e8863103c3",
   "metadata": {
    "jp-MarkdownHeadingCollapsed": true
   },
   "source": [
    "## 4. Allocation: Tp (Tp_D)"
   ]
  },
  {
   "cell_type": "markdown",
   "id": "4c04afc0-2424-4020-8110-26f9ed701c88",
   "metadata": {},
   "source": [
    "### Dictionary of Categories & Counts: Train Set"
   ]
  },
  {
   "cell_type": "code",
   "execution_count": 104,
   "id": "d13721bf-6551-4093-93fa-d193e07c79d6",
   "metadata": {},
   "outputs": [],
   "source": [
    "# For Tp_D\n",
    "sds_tp_tpd_train_cc_dict = {\n",
    "    'pla': 18,\n",
    "    'art': 39,\n",
    "    'nat': 79,  \n",
    "    'arc': 32,\n",
    "    'ani': 37,\n",
    "    'ind': 20,\n",
    "    'cha': 46,\n",
    "    'sec': 39,\n",
    "    'txt': 12\n",
    "}"
   ]
  },
  {
   "cell_type": "markdown",
   "id": "43ada40b-e7bc-4754-ab7f-d117aa26aa55",
   "metadata": {},
   "source": [
    "### Moving Images Function (Tp_D)"
   ]
  },
  {
   "cell_type": "code",
   "execution_count": 105,
   "id": "3835b94b-232a-46f8-9fe3-1ddecc253906",
   "metadata": {},
   "outputs": [],
   "source": [
    "def sds_tp_tpd_alloc(tp_tpd_src_dir, tp_tpd_output_dir, tp_tpd_categories):\n",
    "    all_files = os.listdir(tp_tpd_src_dir)\n",
    "    for category, sample_size in tp_tpd_categories.items():\n",
    "        # Debug: Print all files for verification\n",
    "        print(f\"Processing category '{category}'\")\n",
    "\n",
    "        # Define a regex pattern to match the category in the filenames\n",
    "        pattern = re.compile(rf'Tp_D_.*_{category}\\d{{5}}_{category}\\d{{5}}_.*\\.(jpg|tif)')\n",
    "\n",
    "        # Filter files to include only those that match the category pattern\n",
    "        category_files = [f for f in all_files if pattern.match(f)]\n",
    "\n",
    "        # Debug: Print the number of files found for this category\n",
    "        print(f\"Found {len(category_files)} files.\")\n",
    "\n",
    "        # Check if there are enough files to sample\n",
    "        if len(category_files) < sample_size:\n",
    "            print(f\"Not enough files in category '{category}' to sample {sample_size} images. Available: {len(category_files)}.\")\n",
    "            continue\n",
    "\n",
    "        # Move the specified number of files from the current category\n",
    "        for i in range(sample_size):\n",
    "            file_name = category_files[i]\n",
    "            src_path = os.path.join(tp_tpd_src_dir, file_name)\n",
    "            dest_path = os.path.join(tp_tpd_output_dir, file_name)\n",
    "            shutil.move(src_path, dest_path)\n",
    "\n",
    "        print(f\"Moved {sample_size} '{category}' images to {tp_tpd_output_dir}\\n\")"
   ]
  },
  {
   "cell_type": "markdown",
   "id": "d848bddc-fdc7-4ab8-8e08-e0e0c2a11ac4",
   "metadata": {},
   "source": [
    "### Calling Moving Images Function: Train Set"
   ]
  },
  {
   "cell_type": "code",
   "execution_count": 106,
   "id": "b4f3e817-979f-4f1c-a148-cb20bf06c451",
   "metadata": {},
   "outputs": [
    {
     "name": "stdout",
     "output_type": "stream",
     "text": [
      "Processing category 'pla'\n",
      "Found 26 files.\n",
      "Moved 18 'pla' images to C:\\Users\\User\\Documents\\DS4\\25-ds-casia-ss-tvt\\train\\Tp\n",
      "\n",
      "Processing category 'art'\n",
      "Found 56 files.\n",
      "Moved 39 'art' images to C:\\Users\\User\\Documents\\DS4\\25-ds-casia-ss-tvt\\train\\Tp\n",
      "\n",
      "Processing category 'nat'\n",
      "Found 113 files.\n",
      "Moved 79 'nat' images to C:\\Users\\User\\Documents\\DS4\\25-ds-casia-ss-tvt\\train\\Tp\n",
      "\n",
      "Processing category 'arc'\n",
      "Found 45 files.\n",
      "Moved 32 'arc' images to C:\\Users\\User\\Documents\\DS4\\25-ds-casia-ss-tvt\\train\\Tp\n",
      "\n",
      "Processing category 'ani'\n",
      "Found 53 files.\n",
      "Moved 37 'ani' images to C:\\Users\\User\\Documents\\DS4\\25-ds-casia-ss-tvt\\train\\Tp\n",
      "\n",
      "Processing category 'ind'\n",
      "Found 28 files.\n",
      "Moved 20 'ind' images to C:\\Users\\User\\Documents\\DS4\\25-ds-casia-ss-tvt\\train\\Tp\n",
      "\n",
      "Processing category 'cha'\n",
      "Found 65 files.\n",
      "Moved 46 'cha' images to C:\\Users\\User\\Documents\\DS4\\25-ds-casia-ss-tvt\\train\\Tp\n",
      "\n",
      "Processing category 'sec'\n",
      "Found 55 files.\n",
      "Moved 39 'sec' images to C:\\Users\\User\\Documents\\DS4\\25-ds-casia-ss-tvt\\train\\Tp\n",
      "\n",
      "Processing category 'txt'\n",
      "Found 17 files.\n",
      "Moved 12 'txt' images to C:\\Users\\User\\Documents\\DS4\\25-ds-casia-ss-tvt\\train\\Tp\n",
      "\n"
     ]
    }
   ],
   "source": [
    "sds_tp_tpd_alloc(sds_tp_dir, sds_tp_train_dst, sds_tp_tpd_train_cc_dict)"
   ]
  },
  {
   "cell_type": "markdown",
   "id": "a784e707-6b41-4594-a270-13e0e44ee1a2",
   "metadata": {},
   "source": [
    "### Dictionary of Categories & Counts: Validation Set"
   ]
  },
  {
   "cell_type": "code",
   "execution_count": 107,
   "id": "6750919a-1fe4-4ba1-a232-5066c5c3eea5",
   "metadata": {},
   "outputs": [],
   "source": [
    "# For Tp_D\n",
    "sds_tp_tpd_validation_cc_dict = {\n",
    "    'pla': 5,\n",
    "    'art': 11,\n",
    "    'nat': 23,  \n",
    "    'arc': 9,\n",
    "    'ani': 11,\n",
    "    'ind': 6,\n",
    "    'cha': 13,\n",
    "    'sec': 11,\n",
    "    'txt': 3\n",
    "}"
   ]
  },
  {
   "cell_type": "code",
   "execution_count": 108,
   "id": "128372bc-418c-45fb-97ed-77f971c4f165",
   "metadata": {},
   "outputs": [
    {
     "name": "stdout",
     "output_type": "stream",
     "text": [
      "Processing category 'pla'\n",
      "Found 8 files.\n",
      "Moved 5 'pla' images to C:\\Users\\User\\Documents\\DS4\\25-ds-casia-ss-tvt\\validaton\\Tp\n",
      "\n",
      "Processing category 'art'\n",
      "Found 17 files.\n",
      "Moved 11 'art' images to C:\\Users\\User\\Documents\\DS4\\25-ds-casia-ss-tvt\\validaton\\Tp\n",
      "\n",
      "Processing category 'nat'\n",
      "Found 34 files.\n",
      "Moved 23 'nat' images to C:\\Users\\User\\Documents\\DS4\\25-ds-casia-ss-tvt\\validaton\\Tp\n",
      "\n",
      "Processing category 'arc'\n",
      "Found 13 files.\n",
      "Moved 9 'arc' images to C:\\Users\\User\\Documents\\DS4\\25-ds-casia-ss-tvt\\validaton\\Tp\n",
      "\n",
      "Processing category 'ani'\n",
      "Found 16 files.\n",
      "Moved 11 'ani' images to C:\\Users\\User\\Documents\\DS4\\25-ds-casia-ss-tvt\\validaton\\Tp\n",
      "\n",
      "Processing category 'ind'\n",
      "Found 8 files.\n",
      "Moved 6 'ind' images to C:\\Users\\User\\Documents\\DS4\\25-ds-casia-ss-tvt\\validaton\\Tp\n",
      "\n",
      "Processing category 'cha'\n",
      "Found 19 files.\n",
      "Moved 13 'cha' images to C:\\Users\\User\\Documents\\DS4\\25-ds-casia-ss-tvt\\validaton\\Tp\n",
      "\n",
      "Processing category 'sec'\n",
      "Found 16 files.\n",
      "Moved 11 'sec' images to C:\\Users\\User\\Documents\\DS4\\25-ds-casia-ss-tvt\\validaton\\Tp\n",
      "\n",
      "Processing category 'txt'\n",
      "Found 5 files.\n",
      "Moved 3 'txt' images to C:\\Users\\User\\Documents\\DS4\\25-ds-casia-ss-tvt\\validaton\\Tp\n",
      "\n"
     ]
    }
   ],
   "source": [
    "sds_tp_tpd_alloc(sds_tp_dir, sds_tp_validation_dst, sds_tp_tpd_validation_cc_dict)"
   ]
  },
  {
   "cell_type": "markdown",
   "id": "5bc7f488-890a-4138-a92c-b7886d3b0196",
   "metadata": {},
   "source": [
    "## 5. Allocation: Rest of Tp for Testing (Tp_S & Tp_D)"
   ]
  },
  {
   "cell_type": "markdown",
   "id": "a1990acb-c8c1-4012-a584-745b62543232",
   "metadata": {},
   "source": [
    "### Moving Images Function (Tp_S & Tp_D)"
   ]
  },
  {
   "cell_type": "code",
   "execution_count": 109,
   "id": "93d0fab3-87d1-438d-a64c-2b9f54c77952",
   "metadata": {},
   "outputs": [],
   "source": [
    "def sds_tp_test_alloc(tp_src_dir, tp_dst_dir):\n",
    "    # List all files in the source directory\n",
    "    all_files = os.listdir(tp_src_dir)\n",
    "    \n",
    "    # Filter files to include only jpg and tif files\n",
    "    image_files = [f for f in all_files if f.endswith('.jpg') or f.endswith('.tif')]\n",
    "\n",
    "    # Move each file to the destination directory\n",
    "    for file_name in image_files:\n",
    "        src_path = os.path.join(tp_src_dir, file_name)\n",
    "        dest_path = os.path.join(tp_dst_dir, file_name)\n",
    "        shutil.move(src_path, dest_path)\n",
    "    \n",
    "    # Print the total number of images moved\n",
    "    print(f\"Moved {len(image_files)} images to {tp_dst_dir}\")"
   ]
  },
  {
   "cell_type": "markdown",
   "id": "291f0045-1688-4c4f-99de-5a677061c61a",
   "metadata": {},
   "source": [
    "### Calling Moving Images Function: Test Set"
   ]
  },
  {
   "cell_type": "code",
   "execution_count": 110,
   "id": "6ec742a0-98ea-4810-b29b-c9394851a2e9",
   "metadata": {},
   "outputs": [
    {
     "name": "stdout",
     "output_type": "stream",
     "text": [
      "Moved 126 images to C:\\Users\\User\\Documents\\DS4\\25-ds-casia-ss-tvt\\test\\Tp\n"
     ]
    }
   ],
   "source": [
    "sds_tp_test_alloc(sds_tp_dir, sds_tp_test_dst)"
   ]
  }
 ],
 "metadata": {
  "kernelspec": {
   "display_name": "Python 3 (ipykernel)",
   "language": "python",
   "name": "python3"
  },
  "language_info": {
   "codemirror_mode": {
    "name": "ipython",
    "version": 3
   },
   "file_extension": ".py",
   "mimetype": "text/x-python",
   "name": "python",
   "nbconvert_exporter": "python",
   "pygments_lexer": "ipython3",
   "version": "3.12.1"
  }
 },
 "nbformat": 4,
 "nbformat_minor": 5
}
