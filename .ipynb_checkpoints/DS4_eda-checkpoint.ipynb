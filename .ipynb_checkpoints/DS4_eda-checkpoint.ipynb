{
<<<<<<< HEAD
 "cells": [],
 "metadata": {},
=======
 "cells": [
  {
   "cell_type": "markdown",
   "id": "89fb3ba8-7953-4a00-b0fa-19ab4d910149",
   "metadata": {},
   "source": [
    "# Exploratory Data Analysis"
   ]
  },
  {
   "cell_type": "code",
   "execution_count": 3,
   "id": "aae99be3-b574-40b6-bffe-7973d01dfce0",
   "metadata": {},
   "outputs": [],
   "source": [
    "# CASIA v2.0 Revised Dataset\n",
    "# Link to dataset: https://github.com/SunnyHaze/CASIA2.0-Corrected-Groundtruth"
   ]
  },
  {
   "cell_type": "code",
   "execution_count": 10,
   "id": "5eb7112f-881b-4b46-936e-f8bd9a8bb657",
   "metadata": {},
   "outputs": [],
   "source": [
    "import os\n",
    "\n",
    "from collections import defaultdict\n",
    "from dataset import dataset"
   ]
  },
  {
   "cell_type": "markdown",
   "id": "4624bfde-47b9-45c6-ab3e-6a88d7a0bdc3",
   "metadata": {},
   "source": [
    "## Tampered Class"
   ]
  },
  {
   "cell_type": "markdown",
   "id": "d9ccf256-23e5-4dc9-ba55-1a382ee2968e",
   "metadata": {},
   "source": [
    "### Forgery Types Count"
   ]
  },
  {
   "cell_type": "code",
   "execution_count": 28,
   "id": "ef9fea2f-94b1-4e0c-bdf6-42f36828cd1c",
   "metadata": {},
   "outputs": [],
   "source": [
    "# Copy-Move Forgeries (Tp_S)\n",
    "# Image Splicing Forgeries (Tp_D)"
   ]
  },
  {
   "cell_type": "code",
   "execution_count": 29,
   "id": "d91e5c10-27ee-4621-aa94-d57a2c40b450",
   "metadata": {},
   "outputs": [],
   "source": [
    "# Define the parent dataset path\n",
    "ds_path = r\"C:\\Users\\User\\Downloads\\casia_sh\\Tp\""
   ]
  },
  {
   "cell_type": "code",
   "execution_count": 30,
   "id": "ceb5c750-d901-4489-9980-d37920274f99",
   "metadata": {},
   "outputs": [],
   "source": [
    "# Initialize counters for each type of forgery\n",
    "count_tp_s = 0\n",
    "count_tp_d = 0"
   ]
  },
  {
   "cell_type": "code",
   "execution_count": 31,
   "id": "b23d36d0-4816-4351-b352-8a875d3c9492",
   "metadata": {},
   "outputs": [],
   "source": [
    "# Traverse the directory\n",
    "for root, dirs, files in os.walk(ds_path):\n",
    "    for file in files:\n",
    "        if \"Tp_S\" in file:\n",
    "            count_tp_s += 1\n",
    "        elif \"Tp_D\" in file:\n",
    "            count_tp_d += 1"
   ]
  },
  {
   "cell_type": "code",
   "execution_count": 32,
   "id": "24595447-cbc5-4222-b5fa-f2d813ab1694",
   "metadata": {},
   "outputs": [
    {
     "name": "stdout",
     "output_type": "stream",
     "text": [
      "Count of copy-move forgeries (Tp_S): 3295\n",
      "Count of image splicing forgeries (Tp_D): 1828\n"
     ]
    }
   ],
   "source": [
    "# Print the results\n",
    "print(f\"Count of copy-move forgeries (Tp_S): {count_tp_s}\")\n",
    "print(f\"Count of image splicing forgeries (Tp_D): {count_tp_d}\")"
   ]
  },
  {
   "cell_type": "markdown",
   "id": "2b78a17f-1817-4f8a-8a2e-98a854f0528c",
   "metadata": {},
   "source": [
    "### Copy-Move (Tp_S): Category Count"
   ]
  },
  {
   "cell_type": "code",
   "execution_count": 33,
   "id": "f66c9926-32ae-4a22-952a-e3e5cbed78c0",
   "metadata": {},
   "outputs": [],
   "source": [
    "# Categories to look for\n",
    "categories = [\"pla\", \"art\", \"nat\", \"arc\", \"ani\", \"ind\", \"cha\", \"sec\", \"txt\"]"
   ]
  },
  {
   "cell_type": "code",
   "execution_count": 34,
   "id": "cda5495b-a1bc-42d5-9191-1673762d959d",
   "metadata": {},
   "outputs": [],
   "source": [
    "# Initialize a dictionary to store the count for each category\n",
    "category_counts_tp_s = defaultdict(int)"
   ]
  },
  {
   "cell_type": "code",
   "execution_count": 35,
   "id": "861d1961-ebff-4d5f-bb57-c88676290cb0",
   "metadata": {},
   "outputs": [],
   "source": [
    "# Traverse the directory\n",
    "for root, dirs, files in os.walk(ds_path):\n",
    "    for file in files:\n",
    "        if \"Tp_S\" in file:\n",
    "            # Check each category in the filename\n",
    "            for category in categories:\n",
    "                if category in file:\n",
    "                    category_counts_tp_s[category] += 1"
   ]
  },
  {
   "cell_type": "code",
   "execution_count": 36,
   "id": "0d29745d-ef81-4f94-953a-df2376f94c69",
   "metadata": {},
   "outputs": [
    {
     "name": "stdout",
     "output_type": "stream",
     "text": [
      "Count of images in category 'pla': 413\n",
      "Count of images in category 'art': 437\n",
      "Count of images in category 'nat': 388\n",
      "Count of images in category 'arc': 437\n",
      "Count of images in category 'ani': 309\n",
      "Count of images in category 'ind': 412\n",
      "Count of images in category 'cha': 383\n",
      "Count of images in category 'sec': 381\n",
      "Count of images in category 'txt': 135\n"
     ]
    }
   ],
   "source": [
    "# Print the results\n",
    "for category in categories:\n",
    "    print(f\"Count of images in category '{category}': {category_counts_tp_s[category]}\")"
   ]
  },
  {
   "cell_type": "markdown",
   "id": "04a3dc9e-812b-4e13-b65b-56fd7deb42bd",
   "metadata": {},
   "source": [
    "### Image Splice (Tp_D): Category Count"
   ]
  },
  {
   "cell_type": "code",
   "execution_count": 56,
   "id": "797d0640-eb90-44bf-b4b0-f2c4ea5396f0",
   "metadata": {},
   "outputs": [],
   "source": [
    "# Initialize a dictionary to store the count for each category\n",
    "category_counts_tp_d = defaultdict(int)"
   ]
  },
  {
   "cell_type": "code",
   "execution_count": 58,
   "id": "f335f501-8f3a-4831-a861-17ddc0c00038",
   "metadata": {},
   "outputs": [],
   "source": [
    "# Traverse the directory\n",
    "for root, dirs, files in os.walk(ds_path):\n",
    "    for file in files:\n",
    "        if \"Tp_D\" in file:\n",
    "            # Split the filename by underscores\n",
    "            parts = file.split(\"_\")\n",
    "            if len(parts) > 5:  # Ensure there are enough parts in the filename\n",
    "                # Extract the part after the fifth underscore\n",
    "                category_part = parts[5][:3]  # Extract the first three letters for the category\n",
    "                # Check if the extracted part matches any of the categories\n",
    "                if category_part in categories:\n",
    "                   category_counts_tp_d[category_part] += 1"
   ]
  },
  {
   "cell_type": "code",
   "execution_count": 59,
   "id": "5ec24cae-4b36-42f2-afc4-1709de91b41f",
   "metadata": {},
   "outputs": [
    {
     "name": "stdout",
     "output_type": "stream",
     "text": [
      "Count of images in category 'pla': 104\n",
      "Count of images in category 'art': 224\n",
      "Count of images in category 'nat': 451\n",
      "Count of images in category 'arc': 178\n",
      "Count of images in category 'ani': 212\n",
      "Count of images in category 'ind': 112\n",
      "Count of images in category 'cha': 260\n",
      "Count of images in category 'sec': 221\n",
      "Count of images in category 'txt': 66\n"
     ]
    }
   ],
   "source": [
    "# Print the results\n",
    "for category in categories:\n",
    "    print(f\"Count of images in category '{category}': {category_counts_tp_d[category]}\")"
   ]
  }
 ],
 "metadata": {
  "kernelspec": {
   "display_name": "Python 3 (ipykernel)",
   "language": "python",
   "name": "python3"
  },
  "language_info": {
   "codemirror_mode": {
    "name": "ipython",
    "version": 3
   },
   "file_extension": ".py",
   "mimetype": "text/x-python",
   "name": "python",
   "nbconvert_exporter": "python",
   "pygments_lexer": "ipython3",
   "version": "3.12.1"
  }
 },
>>>>>>> recovered-stash
 "nbformat": 4,
 "nbformat_minor": 5
}
